{
 "cells": [
  {
   "cell_type": "code",
   "execution_count": 1,
   "metadata": {},
   "outputs": [],
   "source": [
    "import pandas as pd\n",
    "import numpy as np\n",
    "import matplotlib.pyplot as plt\n",
    "import random \n",
    "import warnings \n",
    "warnings.filterwarnings('ignore')\n",
    "\n",
    "from sklearn.model_selection import train_test_split\n",
    "from sklearn.svm import SVC\n",
    "from sklearn import svm\n",
    "from sklearn.metrics import classification_report, confusion_matrix, make_scorer, f1_score\n",
    "from sklearn.model_selection import GridSearchCV\n",
    "from sklearn.svm import SVC\n",
    "from sklearn.preprocessing import StandardScaler\n",
    "from sklearn.decomposition import PCA\n",
    "from imblearn.over_sampling import SMOTE"
   ]
  },
  {
   "cell_type": "markdown",
   "metadata": {},
   "source": [
    "## Question 1\n",
    "#### Find a vector **w** and bias **b**, please show the calculation step by step as same as example 1, if the support vectors are (1.5, -0.5) and (2,-2)"
   ]
  },
  {
   "cell_type": "code",
   "execution_count": 25,
   "metadata": {},
   "outputs": [
    {
     "name": "stdout",
     "output_type": "stream",
     "text": [
      "Weights: [[0.3235295]\n",
      " [1.2941175]]\n",
      "Biases: 1.2941174623947564\n",
      "Alphas: [[3.04776812e-08]\n",
      " [2.05882356e-01]\n",
      " [6.37073937e-08]\n",
      " [1.10139522e-08]\n",
      " [9.99999933e-01]\n",
      " [7.94117555e-01]]\n",
      "Weights: [[0.3235295]\n",
      " [1.2941175]]\n",
      "Biases: 1.2941174623947564\n",
      "Alphas: [[3.04776812e-08]\n",
      " [2.05882356e-01]\n",
      " [6.37073937e-08]\n",
      " [1.10139522e-08]\n",
      " [9.99999933e-01]\n",
      " [7.94117555e-01]]\n",
      "Accuracy: 1.0\n"
     ]
    },
    {
     "data": {
      "image/png": "[encoded data removed]",
      "text/plain": [
       "<Figure size 432x288 with 1 Axes>"
      ]
     },
     "metadata": {
      "needs_background": "light"
     },
     "output_type": "display_data"
    }
   ],
   "source": [
    "import cvxopt\n",
    "from sklearn import datasets\n",
    "\n",
    "def linear(x, z):\n",
    "    return np.dot(x, z.T)\n",
    "\n",
    "def polynomial(x, z, p=5):\n",
    "    return (1 + np.dot(x, z.T)) ** p\n",
    "\n",
    "def gaussian(x, z, sigma = 0.1):\n",
    "    return np.exp(-np.linalg.norm(x - z, axis=1) ** 2 / (2 * (sigma ** 2)))\n",
    "\n",
    "def plot_contour(X, y, svm):\n",
    "    h = 0.01\n",
    "    x_min, x_max = X[:, 0].min() - 1, X[:, 0].max() + 1\n",
    "    y_min, y_max = X[:, 1].min() - 1, X[:, 1].max() + 1\n",
    "\n",
    "    xx, yy = np.meshgrid(np.arange(x_min, x_max, h), np.arange(y_min, y_max, h))\n",
    "    points = np.c_[xx.ravel(), yy.ravel()]\n",
    "    Z = svm.predict(points)\n",
    "    Z = Z.reshape(xx.shape)\n",
    "    plt.contourf(xx, yy, Z, cmap=plt.cm.Spectral, alpha=0.8)\n",
    "    plt.scatter(X[:, 0], X[:, 1], c=y, s = 40, cmap = plt.cm.Spectral)\n",
    "\n",
    "\n",
    "class SVM:\n",
    "    def __init__(self, kernel = gaussian, C = 1):\n",
    "        self.kernel = kernel\n",
    "        self.C = C\n",
    "\n",
    "    def fit(self, X, y):\n",
    "        self.y = y\n",
    "        self.X = X\n",
    "        m, n = X.shape\n",
    "\n",
    "        self.K = np.zeros((m, m))\n",
    "        for i in range(m):\n",
    "            self.K[i, :] = self.kernel(X[i, np.newaxis], self.X)\n",
    "\n",
    "        P = cvxopt.matrix(np.outer(y, y) * self.K)\n",
    "        q = cvxopt.matrix(-np.ones((m, 1)))\n",
    "        G = cvxopt.matrix(np.vstack((np.eye(m) * -1, np.eye(m))))\n",
    "        h = cvxopt.matrix(np.hstack((np.zeros(m), np.ones(m) * self.C)))\n",
    "        A = cvxopt.matrix(y, (1, m), \"d\")\n",
    "        b = cvxopt.matrix(np.zeros(1))\n",
    "        cvxopt.solvers.options['show_progress'] = False\n",
    "        sol = cvxopt.solvers.qp(P, q, G, h, A, b)\n",
    "        self.alphas = np.array(sol['x'])\n",
    "\n",
    "    def predict(self, X): \n",
    "        y_predict = np.zeros((X.shape[0]))\n",
    "        sv, w, b, alphas = self.get_parameters(self.alphas)\n",
    "\n",
    "        for i in range(X.shape[0]):\n",
    "            y_predict[i] = np.sum(\n",
    "                self.alphas[sv]\n",
    "                * self.y[sv, np.newaxis]\n",
    "                * self.kernel(X[i], self.X[sv])[:, np.newaxis]\n",
    "            )\n",
    "        print(f'Weights: {w}')\n",
    "        print(f'Biases: {b}')\n",
    "        print(f'Alphas: {alphas}')\n",
    "        return np.sign(y_predict + self.b)\n",
    "\n",
    "    def get_parameters(self, alphas):\n",
    "        threshold = 1e-5\n",
    "\n",
    "        sv = ((alphas > threshold) * (alphas < self.C)).flatten()\n",
    "        self.w = np.dot(self.X[sv].T, alphas[sv] * self.y[sv, np.newaxis])\n",
    "        self.b = np.mean(\n",
    "            self.y[sv, np.newaxis]\n",
    "            - self.alphas[sv] * self.y[sv, np.newaxis] * self.K[sv, sv][:, np.newaxis]\n",
    "        )\n",
    "        return sv, self.w, self.b, self.alphas\n",
    "    \n",
    "if __name__ == \"__main__\":\n",
    "    X = np.array([[-2, 1], [-2, -1], [-1, -1.5], [1, 1], [1.5, -0.5],[2, -2]] )\n",
    "    y = np.array([1, -1, -1, 1, 1, -1])\n",
    "    \n",
    "    svm = SVM(kernel = linear)\n",
    "    svm.fit(X, y)\n",
    "    y_pred = svm.predict(X)\n",
    "    plot_contour(X, y, svm)\n",
    "    print(f\"Accuracy: {sum(y == y_pred) / y.shape[0]}\")\n"
   ]
  },
  {
   "cell_type": "code",
   "execution_count": 37,
   "metadata": {},
   "outputs": [
    {
     "name": "stdout",
     "output_type": "stream",
     "text": [
      "5.0\n",
      "3.0\n",
      "0.5\n",
      "-1.0\n",
      "-3.5\n",
      "-6.0\n",
      "\n",
      "3.0\n",
      "5.0\n",
      "3.5\n",
      "-3.0\n",
      "-2.5\n",
      "-2.0\n",
      "\n",
      "0.5\n",
      "3.5\n",
      "3.25\n",
      "-2.5\n",
      "-0.75\n",
      "1.0\n",
      "\n",
      "-1.0\n",
      "-3.0\n",
      "-2.5\n",
      "2.0\n",
      "1.0\n",
      "0.0\n",
      "\n",
      "-3.5\n",
      "-2.5\n",
      "-0.75\n",
      "1.0\n",
      "2.5\n",
      "4.0\n",
      "\n",
      "-6.0\n",
      "-2.0\n",
      "1.0\n",
      "0.0\n",
      "4.0\n",
      "8.0\n",
      "\n"
     ]
    }
   ],
   "source": [
    "X = np.array([[-2, 1], [-2, -1], [-1, -1.5], [1, 1], [1.5, -0.5],[2, -2]] )\n",
    "y = np.array([1, -1, -1, 1, 1, -1])\n",
    "\n",
    "equation = []\n",
    "for x1 in X:\n",
    "    for idx, x2 in enumerate(X):\n",
    "        print(np.dot(x1, x2))\n",
    "        if idx == 5:\n",
    "            print()"
   ]
  },
  {
   "cell_type": "markdown",
   "metadata": {},
   "source": [
    "## Question 2\n",
    "#### Create a SVM-model and plot a 2D-SVM classification by using Python and colon data set (use only two genes, T62947 and H64807), and find your best hyper-parameters for precision, recall, and accuracy. <code>(Training:Testing = 80:20)</code>\n",
    "\n",
    "In this section, we only used two features called <code>T62947</code> and <code>H64807</code>. Hence, the number of samples <code>m = 62</code> is greater than the number of features <code>n = 2</code>. The class distribution, however, is imbalanced with 22 patients having cancer while 40 patients having no cancer. Hence, it is important to perform resampling techniques (i.e., undersampling, oversampling, SMOTE). \n",
    "\n",
    "In addition, we normalize the given dataset through standardization by removing the mean and scaling to unit variance. We also split the data into 80:20 ratio between training and testing sets."
   ]
  },
  {
   "cell_type": "code",
   "execution_count": 3,
   "metadata": {},
   "outputs": [],
   "source": [
    "df_colon = pd.read_csv('../data/colon.csv')\n",
    "XX = df_colon[['T62947', 'H64807']]\n",
    "yy = df_colon['Class']\n",
    "\n",
    "XX, yy = XX.to_numpy(), yy.to_numpy()\n",
    "yy = yy.flatten()\n",
    "\n",
    "smote = SMOTE()\n",
    "X, y = smote.fit_resample(XX, yy)\n",
    "\n",
    "random.seed(413)\n",
    "X_train, X_test, y_train, y_test = train_test_split(X, y, test_size = 0.2, random_state = 42)\n",
    "scaler  = StandardScaler()\n",
    "X_train = scaler.fit_transform(X_train)\n",
    "X_test  = scaler.transform(X_test)"
   ]
  },
  {
   "cell_type": "markdown",
   "metadata": {},
   "source": [
    "Let's try to visualize the class distribution with and without resampling (i.e., SMOTE method)."
   ]
  },
  {
   "cell_type": "code",
   "execution_count": 4,
   "metadata": {},
   "outputs": [
    {
     "data": {
      "text/plain": [
       "Text(0.5, 1.0, 'SMOTE Resampling')"
      ]
     },
     "execution_count": 4,
     "metadata": {},
     "output_type": "execute_result"
    },
    {
     "data": {
      "image/png": "[encoded data removed]",
      "text/plain": [
       "<Figure size 576x288 with 2 Axes>"
      ]
     },
     "metadata": {
      "needs_background": "light"
     },
     "output_type": "display_data"
    }
   ],
   "source": [
    "x = np.arange(2)\n",
    "fig, (ax1, ax2) = plt.subplots(1, 2, figsize = (8, 4))\n",
    "\n",
    "ax1.bar(x, height = [len(yy[yy == 1]), len(yy[yy == -1])])\n",
    "ax1.set_xticks(x, ['Cancer', 'No Cancer'])\n",
    "ax1.set_title('Imbalanced dataset')\n",
    "\n",
    "ax2.bar(x, height = [len(y[y == 1]), len(y[y == -1])])\n",
    "ax2.set_xticks(x, ['Cancer', 'No Cancer'])\n",
    "ax2.set_title('SMOTE Resampling')"
   ]
  },
  {
   "cell_type": "markdown",
   "metadata": {},
   "source": [
    "We created a Python function called <code>plot_data</code> to visually create the scatter plot of the features between two classes. We labeled the two classes <code>i.e., (y = -1, y = 1)</code> as 'No Cancer' and 'Cancer' patients, respectively. Patients with no cancer are highlighted as color blue while patients without cancer are colored as red dots."
   ]
  },
  {
   "cell_type": "code",
   "execution_count": 6,
   "metadata": {},
   "outputs": [
    {
     "data": {
      "image/png": "[encoded data removed]",
      "text/plain": [
       "<Figure size 576x360 with 1 Axes>"
      ]
     },
     "metadata": {
      "needs_background": "light"
     },
     "output_type": "display_data"
    }
   ],
   "source": [
    "def plot_data(X, y):\n",
    "    y = y.flatten()\n",
    "    class1 = (y ==  1)\n",
    "    class2 = (y == -1)\n",
    "    plt.figure(figsize=(8, 5))    \n",
    "    plt.plot(X[:,0][class1], X[:,1][class1], 'ro', markersize = 8, label = 'Cancer')\n",
    "    plt.plot(X[:,0][class2], X[:,1][class2], 'bo', markersize = 8, label = 'No Cancer')\n",
    "    plt.legend(loc = 'lower left')\n",
    "\n",
    "plot_data(X, y)"
   ]
  },
  {
   "cell_type": "markdown",
   "metadata": {},
   "source": [
    "We find the best hyper-parameters for precision, recall, and accuracy. We first initialized the parameters on a given range and types for kernel, gamma, and C. A 5-fold cross-validation was also adopted here."
   ]
  },
  {
   "cell_type": "code",
   "execution_count": 6,
   "metadata": {},
   "outputs": [
    {
     "name": "stdout",
     "output_type": "stream",
     "text": [
      "Best parameters set found on development set:\n",
      "{'C': 25, 'gamma': 1, 'kernel': 'rbf'}\n"
     ]
    }
   ],
   "source": [
    "tuned_parameters = [{'kernel': ['rbf'],     'gamma': [1, 1e-2, 1e-3, 1e-4, 1e-5], 'C': [0.001, 0.10, 0.1, 10, 25, 50, 100, 1000]},\n",
    "                    {'kernel': ['sigmoid'], 'gamma': [1, 1e-2, 1e-3, 1e-4, 1e-5], 'C': [0.001, 0.10, 0.1, 10, 25, 50, 100, 1000]},\n",
    "                    {'kernel': ['linear'],                                        'C': [0.001, 0.10, 0.1, 10, 20, 25, 50, 100, 1000]}]\n",
    "\n",
    "scores = ['precision', 'recall']\n",
    "random.seed(413)\n",
    "for score in scores:\n",
    "    clf = GridSearchCV(SVC(C = 1), tuned_parameters, cv = 5,\n",
    "    scoring='%s_macro' % score)\n",
    "    clf.fit(X_train, y_train)\n",
    "\n",
    "print('Best parameters set found on development set:')\n",
    "print(clf.best_params_)\n",
    "means = clf.cv_results_['mean_test_score']\n",
    "stds  = clf.cv_results_['std_test_score']"
   ]
  },
  {
   "cell_type": "markdown",
   "metadata": {},
   "source": [
    "The code below calculates the predictions <code>y_pred</code> from the testing set. We then used <code>y_pred</code> to create the confusion matrix and classification report."
   ]
  },
  {
   "cell_type": "code",
   "execution_count": 7,
   "metadata": {},
   "outputs": [
    {
     "data": {
      "text/plain": [
       "<Figure size 1080x720 with 0 Axes>"
      ]
     },
     "metadata": {},
     "output_type": "display_data"
    },
    {
     "data": {
      "image/png": "[encoded data removed]",
      "text/plain": [
       "<Figure size 576x360 with 1 Axes>"
      ]
     },
     "metadata": {
      "needs_background": "light"
     },
     "output_type": "display_data"
    }
   ],
   "source": [
    "random.seed(413)\n",
    "svclassifier = SVC(kernel = 'rbf', C = 50, gamma = 1)\n",
    "svclassifier.fit(X_train, y_train)\n",
    "\n",
    "def visualize_boundary(X, y, model, title):\n",
    "    plt.figure(figsize = (15, 10))\n",
    "    plot_data(X, y)\n",
    "    X_21, X_22 = np.meshgrid(np.linspace(X[:,0].min(), X[:,1].max(), num = 100), \n",
    "                             np.linspace(X[:,1].min(), X[:,1].max(), num = 100))\n",
    "    plt.contour(X_21, X_22, model.predict(np.array([X_21.ravel(),X_22.ravel()]).T).reshape(X_21.shape), 1, colors = 'k')\n",
    "    plt.title(title, size = 15)\n",
    "    plt.legend(loc = 'lower left')\n",
    "    plt.show()\n",
    "\n",
    "random.seed(413)\n",
    "visualize_boundary(X_train, y_train, svclassifier, \n",
    "                            title = 'Decision Boundary for Training Dataset')"
   ]
  },
  {
   "cell_type": "code",
   "execution_count": 8,
   "metadata": {},
   "outputs": [
    {
     "name": "stdout",
     "output_type": "stream",
     "text": [
      "[[8 0]\n",
      " [1 7]]\n",
      "              precision    recall  f1-score   support\n",
      "\n",
      "          -1       0.89      1.00      0.94         8\n",
      "           1       1.00      0.88      0.93         8\n",
      "\n",
      "    accuracy                           0.94        16\n",
      "   macro avg       0.94      0.94      0.94        16\n",
      "weighted avg       0.94      0.94      0.94        16\n",
      "\n"
     ]
    }
   ],
   "source": [
    "y_pred = svclassifier.predict(X_test)\n",
    "\n",
    "print(confusion_matrix(y_test, y_pred))\n",
    "print(classification_report(y_test, y_pred))"
   ]
  },
  {
   "cell_type": "markdown",
   "metadata": {},
   "source": [
    "### Conclusion:"
   ]
  },
  {
   "cell_type": "markdown",
   "metadata": {},
   "source": [
    "## Section 3 \n",
    "#### Train a SVM-model by using colon-data set and tuning the hyper-parameters, and select the best model. <code>(Training:Testing = 80:20)</code> and give your comments"
   ]
  },
  {
   "cell_type": "code",
   "execution_count": 9,
   "metadata": {},
   "outputs": [
    {
     "data": {
      "image/png": "[encoded data removed]",
      "text/plain": [
       "<Figure size 576x360 with 1 Axes>"
      ]
     },
     "metadata": {
      "needs_background": "light"
     },
     "output_type": "display_data"
    }
   ],
   "source": [
    "XX = df_colon.drop('Class', axis = 1)\n",
    "yy = df_colon['Class']\n",
    "\n",
    "\n",
    "X, y = smote.fit_resample(XX, yy)\n",
    "X, y = X.to_numpy(), y.to_numpy()\n",
    "y = y.flatten()\n",
    "\n",
    "plot_data(X, y)"
   ]
  },
  {
   "cell_type": "code",
   "execution_count": 10,
   "metadata": {},
   "outputs": [
    {
     "name": "stdout",
     "output_type": "stream",
     "text": [
      "Best parameters set found on development set:\n",
      "{'C': 0.001, 'gamma': 1, 'kernel': 'rbf'}\n"
     ]
    }
   ],
   "source": [
    "random.seed(413)\n",
    "X = scaler.fit_transform(X)\n",
    "X_train, X_test, y_train, y_test = train_test_split(X, y, test_size = 0.20)\n",
    "\n",
    "tuned_parameters = [{'kernel': ['rbf'],     'gamma': [1, 1e-2, 1e-3, 1e-4, 1e-5, 1e-7], 'C': [0.001, 0.10, 0.1, 10, 25, 50, 100, 1000]},\n",
    "                    {'kernel': ['sigmoid'], 'gamma': [1, 1e-2, 1e-3, 1e-4, 1e-5, 1e-7], 'C': [0.001, 0.10, 0.1, 10, 25, 50, 100, 1000]},\n",
    "                    {'kernel': ['linear'],                                              'C': [0.001, 0.10, 0.1, 10, 20, 25, 50, 100, 1000]}]\n",
    "\n",
    "scoring = {\n",
    "    'Precision': 'precision',\n",
    "    'Recall': 'recall',\n",
    "    'Accuracy': 'accuracy',\n",
    "    'AUC': 'roc_auc',\n",
    "    'F1': 'f1_micro'}\n",
    "    \n",
    "random.seed(413)\n",
    "clf = GridSearchCV(\n",
    "              SVC(), param_grid = tuned_parameters,\n",
    "              scoring = scoring, refit = 'Recall',\n",
    "              return_train_score = True)\n",
    "clf.fit(X_train, y_train)\n",
    "results = clf.cv_results_\n",
    "\n",
    "print('Best parameters set found on development set:')\n",
    "print(clf.best_params_)"
   ]
  },
  {
   "cell_type": "code",
   "execution_count": 20,
   "metadata": {},
   "outputs": [
    {
     "name": "stdout",
     "output_type": "stream",
     "text": [
      "[[7 3]\n",
      " [0 6]]\n",
      "              precision    recall  f1-score   support\n",
      "\n",
      "          -1       1.00      0.70      0.82        10\n",
      "           1       0.67      1.00      0.80         6\n",
      "\n",
      "    accuracy                           0.81        16\n",
      "   macro avg       0.83      0.85      0.81        16\n",
      "weighted avg       0.88      0.81      0.81        16\n",
      "\n"
     ]
    }
   ],
   "source": [
    "random.seed(413)\n",
    "svclassifier = SVC(kernel = 'rbf', C = 1000, gamma = 0.0001)\n",
    "svclassifier.fit(X_train, y_train)\n",
    "\n",
    "y_pred = svclassifier.predict(X_test)\n",
    "\n",
    "print(confusion_matrix(y_test, y_pred))\n",
    "print(classification_report(y_test, y_pred))"
   ]
  },
  {
   "cell_type": "markdown",
   "metadata": {},
   "source": [
    "### Support Vector Machines with Principal Component Analysis for Feature Selection"
   ]
  },
  {
   "cell_type": "code",
   "execution_count": 62,
   "metadata": {},
   "outputs": [],
   "source": [
    "random.seed(413)\n",
    "pca = PCA(n_components = 2)\n",
    "pca.fit(X)\n",
    "X_pca = pca.transform(X)\n",
    "X_train, X_test, y_train, y_test = train_test_split(X_pca, y, test_size = 0.20)"
   ]
  },
  {
   "cell_type": "code",
   "execution_count": 63,
   "metadata": {},
   "outputs": [
    {
     "name": "stdout",
     "output_type": "stream",
     "text": [
      "Best parameters set found on development set:\n",
      "{'C': 10, 'gamma': 0.001, 'kernel': 'rbf'}\n"
     ]
    }
   ],
   "source": [
    "tuned_parameters = [{'kernel': ['rbf'],     'gamma': [1, 1e-2, 1e-3, 1e-4, 1e-5, 1e-7], 'C': [0.001, 0.10, 0.1, 10, 25, 50, 100, 1000]},\n",
    "                    {'kernel': ['sigmoid'], 'gamma': [1, 1e-2, 1e-3, 1e-4, 1e-5, 1e-7], 'C': [0.001, 0.10, 0.1, 10, 25, 50, 100, 1000]},\n",
    "                    {'kernel': ['linear'],                                              'C': [0.001, 0.10, 0.1, 10, 20, 25, 50, 100, 1000]}]\n",
    "\n",
    "scoring = {\n",
    "    'Precision': 'precision',\n",
    "    'Recall': 'recall',\n",
    "    'Accuracy': 'accuracy',\n",
    "    'AUC': 'roc_auc',\n",
    "    'F1': 'f1_micro'}\n",
    "    \n",
    "random.seed(413)\n",
    "clf = GridSearchCV(\n",
    "              SVC(), param_grid = tuned_parameters,\n",
    "              scoring = scoring, refit = 'Recall',\n",
    "              return_train_score = True)\n",
    "clf.fit(X_train, y_train)\n",
    "results = clf.cv_results_\n",
    "\n",
    "print('Best parameters set found on development set:')\n",
    "print(clf.best_params_)"
   ]
  },
  {
   "cell_type": "code",
   "execution_count": 64,
   "metadata": {},
   "outputs": [
    {
     "name": "stdout",
     "output_type": "stream",
     "text": [
      "[[4 4]\n",
      " [1 7]]\n",
      "              precision    recall  f1-score   support\n",
      "\n",
      "          -1       0.80      0.50      0.62         8\n",
      "           1       0.64      0.88      0.74         8\n",
      "\n",
      "    accuracy                           0.69        16\n",
      "   macro avg       0.72      0.69      0.68        16\n",
      "weighted avg       0.72      0.69      0.68        16\n",
      "\n"
     ]
    }
   ],
   "source": [
    "random.seed(413)\n",
    "svclassifier = SVC(kernel = 'rbf', C = 10, gamma = 0.001)\n",
    "svclassifier.fit(X_train, y_train)\n",
    "\n",
    "y_pred = svclassifier.predict(X_test)\n",
    "\n",
    "print(confusion_matrix(y_test, y_pred))\n",
    "print(classification_report(y_test, y_pred))"
   ]
  },
  {
   "cell_type": "code",
   "execution_count": 65,
   "metadata": {},
   "outputs": [
    {
     "data": {
      "text/plain": [
       "<Figure size 1080x720 with 0 Axes>"
      ]
     },
     "metadata": {},
     "output_type": "display_data"
    },
    {
     "data": {
      "image/png": "[encoded data removed]",
      "text/plain": [
       "<Figure size 576x360 with 1 Axes>"
      ]
     },
     "metadata": {
      "needs_background": "light"
     },
     "output_type": "display_data"
    }
   ],
   "source": [
    "visualize_boundary(X_train, y_train, svclassifier, title = 'SVM + PCA (Training Dataset)')"
   ]
  }
 ],
 "metadata": {
  "kernelspec": {
   "display_name": "Python 3.9.2 64-bit",
   "language": "python",
   "name": "python3"
  },
  "language_info": {
   "codemirror_mode": {
    "name": "ipython",
    "version": 3
   },
   "file_extension": ".py",
   "mimetype": "text/x-python",
   "name": "python",
   "nbconvert_exporter": "python",
   "pygments_lexer": "ipython3",
   "version": "3.9.2"
  },
  "orig_nbformat": 4,
  "vscode": {
   "interpreter": {
    "hash": "c6a2dc670f3436433c0efae6fb324965c1072d8aef0b90287abce79ee9328779"
   }
  }
 },
 "nbformat": 4,
 "nbformat_minor": 2
}
