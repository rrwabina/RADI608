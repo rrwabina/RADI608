{
 "cells": [
  {
   "cell_type": "code",
   "execution_count": 70,
   "metadata": {},
   "outputs": [],
   "source": [
    "import pandas as pd\n",
    "import numpy as np\n",
    "import matplotlib.pyplot as plt\n",
    "import random \n",
    "import warnings \n",
    "warnings.filterwarnings('ignore')\n",
    "\n",
    "from sklearn.model_selection import train_test_split\n",
    "from sklearn.svm import SVC\n",
    "from sklearn import svm\n",
    "from sklearn.metrics import classification_report, confusion_matrix, make_scorer, f1_score\n",
    "from sklearn.model_selection import GridSearchCV\n",
    "from sklearn.svm import SVC\n",
    "from sklearn.preprocessing import StandardScaler"
   ]
  },
  {
   "cell_type": "markdown",
   "metadata": {},
   "source": [
    "In this section, we only used two features called <code>T62947</code> and <code>H64807</code>. Hence, the number of samples <code>m = 62</code> is greater than the number of features <code>n = 2</code>. The class distribution, however, is imbalanced with 22 patients having cancer while 40 patients having no cancer. Hence, it is important to perform resampling techniques (i.e., undersampling, oversampling, SMOTE). "
   ]
  },
  {
   "cell_type": "code",
   "execution_count": 75,
   "metadata": {},
   "outputs": [],
   "source": [
    "df_colon = pd.read_csv('../data/colon.csv')\n",
    "XX = df_colon[['T62947', 'H64807']]\n",
    "yy = df_colon['Class']\n",
    "\n",
    "X, y = XX.to_numpy(), yy.to_numpy()\n",
    "y = y.flatten()\n",
    "\n",
    "def plot_data(X, y):\n",
    "    y = y.flatten()\n",
    "    class1 = (y ==  1)\n",
    "    class2 = (y == -1)\n",
    "    plt.figure(figsize=(6,4))    \n",
    "    plt.plot(X[:,0][class1], X[:,1][class1], \"ro\", markersize = 5, label= 'class1')\n",
    "    plt.plot(X[:,0][class2], X[:,1][class2], \"bo\", markersize = 5, label= 'class2')\n",
    "    plt.legend()"
   ]
  },
  {
   "cell_type": "code",
   "execution_count": 76,
   "metadata": {},
   "outputs": [
    {
     "name": "stdout",
     "output_type": "stream",
     "text": [
      "Best parameters set found on development set:\n",
      "{'C': 100, 'gamma': 0.01, 'kernel': 'rbf'}\n"
     ]
    }
   ],
   "source": [
    "random.seed(413)\n",
    "\n",
    "scaler = StandardScaler()\n",
    "X = scaler.fit_transform(X)\n",
    "\n",
    "X_train, X_test, y_train, y_test = train_test_split(X, y, test_size = 0.20)\n",
    "\n",
    "tuned_parameters = [{'kernel': ['rbf'],     'gamma': [1e-2, 1e-3, 1e-4, 1e-5], 'C': [0.001, 0.10, 0.1, 10, 25, 50, 100, 1000]},\n",
    "                    {'kernel': ['sigmoid'], 'gamma': [1e-2, 1e-3, 1e-4, 1e-5], 'C': [0.001, 0.10, 0.1, 10, 25, 50, 100, 1000]},\n",
    "                    {'kernel': ['linear'],                                     'C': [0.001, 0.10, 0.1, 10, 20, 25, 50, 100, 1000]}]\n",
    "\n",
    "scores = ['precision', 'recall']\n",
    "for score in scores:\n",
    "    clf = GridSearchCV(SVC(C = 1), tuned_parameters, cv = 10,\n",
    "    scoring='%s_macro' % score)\n",
    "    clf.fit(X_train, y_train)\n",
    "\n",
    "print('Best parameters set found on development set:')\n",
    "print(clf.best_params_)\n",
    "means = clf.cv_results_['mean_test_score']\n",
    "stds  = clf.cv_results_['std_test_score']"
   ]
  },
  {
   "cell_type": "code",
   "execution_count": 87,
   "metadata": {},
   "outputs": [
    {
     "name": "stdout",
     "output_type": "stream",
     "text": [
      "[[10  0]\n",
      " [ 1  2]]\n",
      "              precision    recall  f1-score   support\n",
      "\n",
      "          -1       0.91      1.00      0.95        10\n",
      "           1       1.00      0.67      0.80         3\n",
      "\n",
      "    accuracy                           0.92        13\n",
      "   macro avg       0.95      0.83      0.88        13\n",
      "weighted avg       0.93      0.92      0.92        13\n",
      "\n"
     ]
    }
   ],
   "source": [
    "random.seed(413)\n",
    "svclassifier = SVC(kernel = 'rbf', C = 100, gamma = 1)\n",
    "svclassifier.fit(X_train, y_train)\n",
    "\n",
    "random.seed(413)\n",
    "y_pred = svclassifier.predict(X_test)\n",
    "\n",
    "print(confusion_matrix(y_test, y_pred))\n",
    "print(classification_report(y_test, y_pred))"
   ]
  },
  {
   "cell_type": "code",
   "execution_count": 89,
   "metadata": {},
   "outputs": [],
   "source": [
    "def visualize_boundary(X, y, model):\n",
    "    plt.figure(figsize = (15,10))\n",
    "    plot_data(X, y)\n",
    "    X_21, X_22 = np.meshgrid(np.linspace(X[:,0].min(), X[:,1].max(), num = 100), \n",
    "                             np.linspace(X[:,1].min(), X[:,1].max(), num = 100))\n",
    "    plt.contour(X_21, X_22, svclassifier.predict(np.array([X_21.ravel(),X_22.ravel()]).T).reshape(X_21.shape), 1, colors = 'k')\n",
    "    plt.legend()\n",
    "    plt.show()"
   ]
  },
  {
   "cell_type": "code",
   "execution_count": 90,
   "metadata": {},
   "outputs": [
    {
     "data": {
      "text/plain": [
       "<Figure size 1080x720 with 0 Axes>"
      ]
     },
     "metadata": {},
     "output_type": "display_data"
    },
    {
     "data": {
      "image/png": "[encoded data removed]",
      "text/plain": [
       "<Figure size 432x288 with 1 Axes>"
      ]
     },
     "metadata": {
      "needs_background": "light"
     },
     "output_type": "display_data"
    }
   ],
   "source": [
    "random.seed(413)\n",
    "svclassifier = SVC(kernel = 'rbf', C = 1000, gamma = 1)\n",
    "svclassifier.fit(X_train, y_train)\n",
    "visualize_boundary(X_train, y_train, svclassifier)\n",
    "\n",
    "y_pred = svclassifier.predict(X_test)"
   ]
  },
  {
   "cell_type": "markdown",
   "metadata": {},
   "source": [
    "## Section 3 \n",
    "#### Train a SVM-model by using colon-data set and tuning the hyper-parameters, and select the best model. <code>(Training:Testing = 80:20)</code> and give your comments"
   ]
  },
  {
   "cell_type": "code",
   "execution_count": 92,
   "metadata": {},
   "outputs": [
    {
     "data": {
      "text/plain": [
       "<matplotlib.legend.Legend at 0x1cb15bf6d00>"
      ]
     },
     "execution_count": 92,
     "metadata": {},
     "output_type": "execute_result"
    },
    {
     "data": {
      "image/png": "[encoded data removed]",
      "text/plain": [
       "<Figure size 432x288 with 1 Axes>"
      ]
     },
     "metadata": {
      "needs_background": "light"
     },
     "output_type": "display_data"
    }
   ],
   "source": [
    "XX = df_colon.drop('Class', axis = 1)\n",
    "yy = df_colon['Class']\n",
    "\n",
    "X, y = XX.to_numpy(), yy.to_numpy()\n",
    "y = y.flatten()\n",
    "\n",
    "\n",
    "plt.figure(figsize = (6, 4))\n",
    "plt.plot(X[:, 0][y ==  1], X[:, 1][y ==  1], 'ro', markersize = 5, label = 'Cancer')\n",
    "plt.plot(X[:, 0][y == -1], X[:, 1][y == -1], 'bo', markersize = 5, label = 'No Cancer')\n",
    "plt.legend()"
   ]
  },
  {
   "cell_type": "code",
   "execution_count": 93,
   "metadata": {},
   "outputs": [
    {
     "name": "stdout",
     "output_type": "stream",
     "text": [
      "Best parameters set found on development set:\n",
      "{'C': 25, 'gamma': 1e-05, 'kernel': 'rbf'}\n"
     ]
    }
   ],
   "source": [
    "random.seed(413)\n",
    "X = scaler.fit_transform(X)\n",
    "X_train, X_test, y_train, y_test = train_test_split(X, y, test_size = 0.20)\n",
    "\n",
    "tuned_parameters = [{'kernel': ['rbf'],     'gamma': [1e-2, 1e-3, 1e-4, 1e-5], 'C': [0.001, 0.10, 0.1, 10, 25, 50, 100, 1000]},\n",
    "                    {'kernel': ['sigmoid'], 'gamma': [1e-2, 1e-3, 1e-4, 1e-5], 'C': [0.001, 0.10, 0.1, 10, 25, 50, 100, 1000]},\n",
    "                    {'kernel': ['linear'],  'C': [0.001, 0.10, 0.1, 10, 25, 50, 100, 1000]}]\n",
    "\n",
    "scoring = {\n",
    "    'Precision': 'precision',\n",
    "    'Recall': 'recall',\n",
    "    'Accuracy': 'accuracy',\n",
    "    'AUC': 'roc_auc',\n",
    "    'F1': 'f1_micro'}\n",
    "    \n",
    "random.seed(413)\n",
    "clf = GridSearchCV(\n",
    "              SVC(), param_grid = tuned_parameters,\n",
    "              scoring = scoring, refit = 'Recall',\n",
    "              return_train_score = True)\n",
    "clf.fit(X_train, y_train)\n",
    "results = clf.cv_results_\n",
    "\n",
    "print('Best parameters set found on development set:')\n",
    "print(clf.best_params_)"
   ]
  },
  {
   "cell_type": "code",
   "execution_count": 103,
   "metadata": {},
   "outputs": [
    {
     "name": "stdout",
     "output_type": "stream",
     "text": [
      "[[7 1]\n",
      " [1 4]]\n",
      "              precision    recall  f1-score   support\n",
      "\n",
      "          -1       0.88      0.88      0.88         8\n",
      "           1       0.80      0.80      0.80         5\n",
      "\n",
      "    accuracy                           0.85        13\n",
      "   macro avg       0.84      0.84      0.84        13\n",
      "weighted avg       0.85      0.85      0.85        13\n",
      "\n"
     ]
    }
   ],
   "source": [
    "random.seed(413)\n",
    "svclassifier = SVC(kernel = 'rbf', C = 25, gamma = 0.00001)\n",
    "svclassifier.fit(X_train, y_train)\n",
    "\n",
    "y_pred = svclassifier.predict(X_test)\n",
    "\n",
    "print(confusion_matrix(y_test, y_pred))\n",
    "print(classification_report(y_test, y_pred))"
   ]
  },
  {
   "cell_type": "code",
   "execution_count": null,
   "metadata": {},
   "outputs": [],
   "source": []
  }
 ],
 "metadata": {
  "kernelspec": {
   "display_name": "Python 3.9.2 64-bit",
   "language": "python",
   "name": "python3"
  },
  "language_info": {
   "codemirror_mode": {
    "name": "ipython",
    "version": 3
   },
   "file_extension": ".py",
   "mimetype": "text/x-python",
   "name": "python",
   "nbconvert_exporter": "python",
   "pygments_lexer": "ipython3",
   "version": "3.9.2"
  },
  "orig_nbformat": 4,
  "vscode": {
   "interpreter": {
    "hash": "c6a2dc670f3436433c0efae6fb324965c1072d8aef0b90287abce79ee9328779"
   }
  }
 },
 "nbformat": 4,
 "nbformat_minor": 2
}
