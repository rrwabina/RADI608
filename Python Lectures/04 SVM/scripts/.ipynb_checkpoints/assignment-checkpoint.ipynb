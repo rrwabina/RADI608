{
 "cells": [
  {
   "cell_type": "markdown",
   "metadata": {},
   "source": [
    "## **RADI608: Data Mining and Machine Learning**\n",
    "\n",
    "### Assignment: Support Vector Machines \n",
    "**Romen Samuel Rodis Wabina** <br>\n",
    "Student, PhD Data Science in Healthcare and Clinical Informatics <br>\n",
    "Clinical Epidemiology and Biostatistics, Faculty of Medicine (Ramathibodi Hospital) <br>\n",
    "Mahidol University"
   ]
  },
  {
   "cell_type": "code",
   "execution_count": 3,
   "metadata": {},
   "outputs": [
    {
     "ename": "ImportError",
     "evalue": "this version of pandas is incompatible with numpy < 1.20.3\nyour numpy version is 1.19.2.\nPlease upgrade numpy to >= 1.20.3 to use this pandas version",
     "output_type": "error",
     "traceback": [
      "\u001b[1;31m---------------------------------------------------------------------------\u001b[0m",
      "\u001b[1;31mImportError\u001b[0m                               Traceback (most recent call last)",
      "\u001b[1;32m<ipython-input-3-6cc97a7992c3>\u001b[0m in \u001b[0;36m<module>\u001b[1;34m\u001b[0m\n\u001b[1;32m----> 1\u001b[1;33m \u001b[1;32mimport\u001b[0m \u001b[0mpandas\u001b[0m \u001b[1;32mas\u001b[0m \u001b[0mpd\u001b[0m\u001b[1;33m\u001b[0m\u001b[1;33m\u001b[0m\u001b[0m\n\u001b[0m\u001b[0;32m      2\u001b[0m \u001b[1;32mimport\u001b[0m \u001b[0mnumpy\u001b[0m \u001b[1;32mas\u001b[0m \u001b[0mnp\u001b[0m\u001b[1;33m\u001b[0m\u001b[1;33m\u001b[0m\u001b[0m\n\u001b[0;32m      3\u001b[0m \u001b[1;32mimport\u001b[0m \u001b[0mmatplotlib\u001b[0m\u001b[1;33m.\u001b[0m\u001b[0mpyplot\u001b[0m \u001b[1;32mas\u001b[0m \u001b[0mplt\u001b[0m\u001b[1;33m\u001b[0m\u001b[1;33m\u001b[0m\u001b[0m\n\u001b[0;32m      4\u001b[0m \u001b[1;32mimport\u001b[0m \u001b[0mrandom\u001b[0m\u001b[1;33m\u001b[0m\u001b[1;33m\u001b[0m\u001b[0m\n\u001b[0;32m      5\u001b[0m \u001b[1;32mimport\u001b[0m \u001b[0mwarnings\u001b[0m\u001b[1;33m\u001b[0m\u001b[1;33m\u001b[0m\u001b[0m\n",
      "\u001b[1;32m~\\anaconda3\\lib\\site-packages\\pandas\\__init__.py\u001b[0m in \u001b[0;36m<module>\u001b[1;34m\u001b[0m\n\u001b[0;32m     20\u001b[0m \u001b[1;33m\u001b[0m\u001b[0m\n\u001b[0;32m     21\u001b[0m \u001b[1;31m# numpy compat\u001b[0m\u001b[1;33m\u001b[0m\u001b[1;33m\u001b[0m\u001b[1;33m\u001b[0m\u001b[0m\n\u001b[1;32m---> 22\u001b[1;33m \u001b[1;32mfrom\u001b[0m \u001b[0mpandas\u001b[0m\u001b[1;33m.\u001b[0m\u001b[0mcompat\u001b[0m \u001b[1;32mimport\u001b[0m \u001b[0mis_numpy_dev\u001b[0m \u001b[1;32mas\u001b[0m \u001b[0m_is_numpy_dev\u001b[0m  \u001b[1;31m# pyright: ignore # noqa:F401\u001b[0m\u001b[1;33m\u001b[0m\u001b[1;33m\u001b[0m\u001b[0m\n\u001b[0m\u001b[0;32m     23\u001b[0m \u001b[1;33m\u001b[0m\u001b[0m\n\u001b[0;32m     24\u001b[0m \u001b[1;32mtry\u001b[0m\u001b[1;33m:\u001b[0m\u001b[1;33m\u001b[0m\u001b[1;33m\u001b[0m\u001b[0m\n",
      "\u001b[1;32m~\\anaconda3\\lib\\site-packages\\pandas\\compat\\__init__.py\u001b[0m in \u001b[0;36m<module>\u001b[1;34m\u001b[0m\n\u001b[0;32m     16\u001b[0m \u001b[1;33m\u001b[0m\u001b[0m\n\u001b[0;32m     17\u001b[0m \u001b[1;32mfrom\u001b[0m \u001b[0mpandas\u001b[0m\u001b[1;33m.\u001b[0m\u001b[0m_typing\u001b[0m \u001b[1;32mimport\u001b[0m \u001b[0mF\u001b[0m\u001b[1;33m\u001b[0m\u001b[1;33m\u001b[0m\u001b[0m\n\u001b[1;32m---> 18\u001b[1;33m from pandas.compat.numpy import (\n\u001b[0m\u001b[0;32m     19\u001b[0m     \u001b[0mis_numpy_dev\u001b[0m\u001b[1;33m,\u001b[0m\u001b[1;33m\u001b[0m\u001b[1;33m\u001b[0m\u001b[0m\n\u001b[0;32m     20\u001b[0m     \u001b[0mnp_version_under1p21\u001b[0m\u001b[1;33m,\u001b[0m\u001b[1;33m\u001b[0m\u001b[1;33m\u001b[0m\u001b[0m\n",
      "\u001b[1;32m~\\anaconda3\\lib\\site-packages\\pandas\\compat\\numpy\\__init__.py\u001b[0m in \u001b[0;36m<module>\u001b[1;34m\u001b[0m\n\u001b[0;32m     20\u001b[0m \u001b[1;33m\u001b[0m\u001b[0m\n\u001b[0;32m     21\u001b[0m \u001b[1;32mif\u001b[0m \u001b[0m_nlv\u001b[0m \u001b[1;33m<\u001b[0m \u001b[0mVersion\u001b[0m\u001b[1;33m(\u001b[0m\u001b[0m_min_numpy_ver\u001b[0m\u001b[1;33m)\u001b[0m\u001b[1;33m:\u001b[0m\u001b[1;33m\u001b[0m\u001b[1;33m\u001b[0m\u001b[0m\n\u001b[1;32m---> 22\u001b[1;33m     raise ImportError(\n\u001b[0m\u001b[0;32m     23\u001b[0m         \u001b[1;34mf\"this version of pandas is incompatible with numpy < {_min_numpy_ver}\\n\"\u001b[0m\u001b[1;33m\u001b[0m\u001b[1;33m\u001b[0m\u001b[0m\n\u001b[0;32m     24\u001b[0m         \u001b[1;34mf\"your numpy version is {_np_version}.\\n\"\u001b[0m\u001b[1;33m\u001b[0m\u001b[1;33m\u001b[0m\u001b[0m\n",
      "\u001b[1;31mImportError\u001b[0m: this version of pandas is incompatible with numpy < 1.20.3\nyour numpy version is 1.19.2.\nPlease upgrade numpy to >= 1.20.3 to use this pandas version"
     ]
    }
   ],
   "source": [
    "import pandas as pd\n",
    "import numpy as np\n",
    "import matplotlib.pyplot as plt\n",
    "import random \n",
    "import warnings \n",
    "warnings.filterwarnings('ignore')\n",
    "\n",
    "from sklearn.model_selection import train_test_split\n",
    "from sklearn.svm import SVC\n",
    "from sklearn import svm\n",
    "from sklearn.metrics import classification_report, confusion_matrix, make_scorer, f1_score\n",
    "from sklearn.model_selection import GridSearchCV\n",
    "from sklearn.svm import SVC\n",
    "from sklearn.preprocessing import StandardScaler\n",
    "from sklearn.decomposition import PCA\n",
    "from imblearn.over_sampling import SMOTE"
   ]
  },
  {
   "cell_type": "markdown",
   "metadata": {},
   "source": [
    "## Question 1\n",
    "#### Given the data <code>X = [[-2, 1], [-2, -1], [-1, -1.5], [1, 1], [1.5, -0.5],[2, -2]]</code> and <code>y = [1, -1, -1, 1, 1, -1]</code>, find the vector **$w$** and bias **$b$** if the support vectors are <code>(1.5, -0.5)</code> and <code>(2,-2)</code>."
   ]
  },
  {
   "cell_type": "markdown",
   "metadata": {},
   "source": [
    "**SOLUTION**: Suppose $\\alpha_i$ such that $i = [1, 2]$ is the Lagrangian multiplier that denotes the weights of all the training points as support vectors. In this problem, we assume $\\mathbf{X}, \\mathbf{y}$ is a linearly separable dataset and assume that $s_1 = (1.5, -0.5)$ and $s_2 = (2, -2)$ are the support vectors of the linearly separable dataset. \n",
    "\n",
    "\\begin{equation}\n",
    "\\begin{aligned}\n",
    "    \\alpha_1 \\phi(s_1) \\cdot \\phi(s_1) + \\alpha_2 \\phi(s_2) \\cdot \\phi(s_1) &=  1 \\\\\n",
    "    \\alpha_1 \\phi(s_1) \\cdot \\phi(s_2) + \\alpha_2 \\phi(s_2) \\cdot \\phi(s_2) &= -1 \\\\\n",
    "\\end{aligned}\n",
    "\\end{equation}"
   ]
  },
  {
   "cell_type": "markdown",
   "metadata": {},
   "source": [
    "Since the data is linearly separable, we can use a linear SVM (that is, one whose mapping function $\\phi(\\cdot) = I$ is the identity function). Hence, we can reduce Equation $1$ into\n",
    "\n",
    "\\begin{equation*}\n",
    "\\begin{aligned}\n",
    "    \\alpha_1 \\tilde{s_1} \\cdot \\tilde{s_1} + \\alpha_2 \\tilde{s_2} \\cdot \\tilde{s_1} &=   1 \\\\\n",
    "    \\alpha_1 \\tilde{s_1} \\cdot \\tilde{s_2} + \\alpha_2 \\tilde{s_2} \\cdot \\tilde{s_2} &=  -1 \\\\\n",
    "\\end{aligned}\n",
    "\\end{equation*}"
   ]
  },
  {
   "cell_type": "markdown",
   "metadata": {},
   "source": [
    "We will use vectors augmented with a 1 as a bias input. Hence, our support vectors are $\\tilde{s_1} = [1.5, 0.5, 1]$ and $\\tilde{s_2} = [2, -2, 1]$. Our task is to find values for the $\\alpha_i$ such that\n",
    "\n",
    "\\begin{equation*}\n",
    "\\begin{aligned}\n",
    "    \\alpha_1  \n",
    "    \\begin{bmatrix}\n",
    "     1.5  \\\\\n",
    "    -0.5  \\\\\n",
    "     1.0 \\\\ \n",
    "    \\end{bmatrix}\n",
    "    \\cdot \n",
    "    \\begin{bmatrix}\n",
    "     1.5  \\\\\n",
    "    -0.5  \\\\\n",
    "     1.0 \\\\ \n",
    "    \\end{bmatrix} \n",
    "    + \\alpha_2 \n",
    "    \\begin{bmatrix}\n",
    "    2.0  \\\\\n",
    "    -2  \\\\\n",
    "    1.0 \\\\ \n",
    "    \\end{bmatrix} \n",
    "    \\cdot \n",
    "    \\begin{bmatrix}\n",
    "     1.5  \\\\\n",
    "    -0.5  \\\\\n",
    "     1.0 \\\\ \n",
    "    \\end{bmatrix} &=   1 \\\\\n",
    "    \\alpha_1 \n",
    "    \\begin{bmatrix}\n",
    "     1.5  \\\\\n",
    "    -0.5  \\\\\n",
    "     1.0 \\\\ \n",
    "    \\end{bmatrix} \n",
    "    \\cdot \n",
    "    \\begin{bmatrix}\n",
    "    2.0  \\\\\n",
    "    -2  \\\\\n",
    "    1.0 \\\\ \n",
    "    \\end{bmatrix}  \n",
    "    + \n",
    "    \\alpha_2 \n",
    "    \\begin{bmatrix}\n",
    "    2.0  \\\\\n",
    "    -2  \\\\\n",
    "    1.0 \\\\ \n",
    "    \\end{bmatrix}  \n",
    "    \\cdot \n",
    "    \\begin{bmatrix}\n",
    "    2.0  \\\\\n",
    "    -2  \\\\\n",
    "    1.0 \\\\ \n",
    "    \\end{bmatrix} \n",
    "    &=  -1 \\\\\n",
    "\\end{aligned}\n",
    "\\end{equation*}"
   ]
  },
  {
   "cell_type": "markdown",
   "metadata": {},
   "source": [
    "\\begin{equation*}\n",
    "\\begin{aligned}\n",
    "    \\alpha_1 (1.5 * 1.5 + 0.5 * 0.5 + 1.0  * 1.0) + \n",
    "    \\alpha_2 (2.0 * 1.5 + (-2.0 * 0.5) + 1.0 * 1.0) \n",
    "    &=   1 \\\\\n",
    "    \\alpha_1 (1.5 * 2.0 + (0.5 * -2.0)  + 1.0 * 1.0) +\n",
    "    \\alpha_2 (2.0 * 2.0 + (-2.0 * -2.0) + 1.0 * 1.0)\n",
    "    &=  -1 \\\\\n",
    "\\end{aligned}\n",
    "\\end{equation*}\n",
    "\n",
    "\\begin{equation*}\n",
    "\\begin{aligned}\n",
    "    3.5 \\alpha_1 + 5 \\alpha_2  &=   1 \\\\\n",
    "    5   \\alpha_1 + 9 \\alpha_2  &=  -1 \\\\\n",
    "\\end{aligned}\n",
    "\\end{equation*} \n",
    "\n",
    "Using Gaussian elimination, the $\\alpha_i$ are given by $\\alpha_1 = 2.153846$ and $\\alpha_2 = -1.307692$. Now, we can look at how these $\\alpha_i$ values relate to the discriminating hyperplane."
   ]
  },
  {
   "cell_type": "markdown",
   "metadata": {},
   "source": [
    "\\begin{equation*}\n",
    "\\begin{aligned}\n",
    "    \\tilde{w} &= \\sum_{i}^{2}\\alpha_i \\tilde{s}_i \\\\\n",
    "    \\tilde{w} &= \\alpha_1 \\tilde{s}_1 + \\alpha_2 \\tilde{s}_2 \\\\\n",
    "    \\tilde{w} &= (2.153846) \n",
    "    \\begin{bmatrix}\n",
    "     1.5  \\\\\n",
    "    -0.5  \\\\\n",
    "     1.0 \\\\ \n",
    "    \\end{bmatrix}\n",
    "    +\n",
    "    (-1.307692) \n",
    "    \\begin{bmatrix}\n",
    "     2.0  \\\\\n",
    "    -2.0  \\\\\n",
    "     1.0 \\\\ \n",
    "    \\end{bmatrix} \\\\\n",
    "    \\tilde{w} &=  \n",
    "    \\begin{bmatrix}\n",
    "     3.230769  \\\\\n",
    "    -1.076923  \\\\\n",
    "     2.153846 \\\\ \n",
    "    \\end{bmatrix}\n",
    "    + \n",
    "    \\begin{bmatrix}\n",
    "    -2.615384  \\\\\n",
    "     2.615384  \\\\\n",
    "    -1.307692 \\\\ \n",
    "    \\end{bmatrix} \\\\\n",
    "    \n",
    "    \\tilde{w} &= \n",
    "    \\begin{bmatrix}\n",
    "     0.615385  \\\\\n",
    "     1.538461  \\\\\n",
    "     0.846615 \\\\ \n",
    "    \\end{bmatrix}\n",
    "\\end{aligned}\n",
    "\\end{equation*}\n",
    "\n"
   ]
  },
  {
   "cell_type": "code",
   "execution_count": 1,
   "metadata": {},
   "outputs": [
    {
     "ename": "NameError",
     "evalue": "name 'np' is not defined",
     "output_type": "error",
     "traceback": [
      "\u001b[1;31m---------------------------------------------------------------------------\u001b[0m",
      "\u001b[1;31mNameError\u001b[0m                                 Traceback (most recent call last)",
      "\u001b[1;32m<ipython-input-1-2befb662e95c>\u001b[0m in \u001b[0;36m<module>\u001b[1;34m\u001b[0m\n\u001b[1;32m----> 1\u001b[1;33m \u001b[0mx_pos\u001b[0m \u001b[1;33m=\u001b[0m \u001b[0mnp\u001b[0m\u001b[1;33m.\u001b[0m\u001b[0marray\u001b[0m\u001b[1;33m(\u001b[0m\u001b[1;33m[\u001b[0m\u001b[1;33m[\u001b[0m\u001b[1;33m-\u001b[0m\u001b[1;36m2\u001b[0m\u001b[1;33m,\u001b[0m  \u001b[1;36m1\u001b[0m\u001b[1;33m]\u001b[0m\u001b[1;33m,\u001b[0m \u001b[1;33m[\u001b[0m\u001b[1;36m1\u001b[0m\u001b[1;33m,\u001b[0m \u001b[1;36m1\u001b[0m\u001b[1;33m]\u001b[0m\u001b[1;33m,\u001b[0m \u001b[1;33m[\u001b[0m\u001b[1;36m1.5\u001b[0m\u001b[1;33m,\u001b[0m \u001b[1;33m-\u001b[0m\u001b[1;36m0.5\u001b[0m\u001b[1;33m]\u001b[0m\u001b[1;33m]\u001b[0m\u001b[1;33m)\u001b[0m\u001b[1;33m\u001b[0m\u001b[1;33m\u001b[0m\u001b[0m\n\u001b[0m\u001b[0;32m      2\u001b[0m \u001b[0my_pos\u001b[0m \u001b[1;33m=\u001b[0m \u001b[0mnp\u001b[0m\u001b[1;33m.\u001b[0m\u001b[0marray\u001b[0m\u001b[1;33m(\u001b[0m\u001b[1;33m[\u001b[0m\u001b[1;36m1\u001b[0m\u001b[1;33m,\u001b[0m \u001b[1;36m1\u001b[0m\u001b[1;33m,\u001b[0m \u001b[1;36m1\u001b[0m\u001b[1;33m]\u001b[0m\u001b[1;33m)\u001b[0m\u001b[1;33m\u001b[0m\u001b[1;33m\u001b[0m\u001b[0m\n\u001b[0;32m      3\u001b[0m \u001b[1;33m\u001b[0m\u001b[0m\n\u001b[0;32m      4\u001b[0m \u001b[0mx_neg\u001b[0m \u001b[1;33m=\u001b[0m \u001b[0mnp\u001b[0m\u001b[1;33m.\u001b[0m\u001b[0marray\u001b[0m\u001b[1;33m(\u001b[0m\u001b[1;33m[\u001b[0m\u001b[1;33m[\u001b[0m\u001b[1;33m-\u001b[0m\u001b[1;36m2\u001b[0m\u001b[1;33m,\u001b[0m \u001b[1;33m-\u001b[0m\u001b[1;36m1\u001b[0m\u001b[1;33m]\u001b[0m\u001b[1;33m,\u001b[0m \u001b[1;33m[\u001b[0m\u001b[1;33m-\u001b[0m\u001b[1;36m1\u001b[0m\u001b[1;33m,\u001b[0m \u001b[1;33m-\u001b[0m\u001b[1;36m1.5\u001b[0m\u001b[1;33m]\u001b[0m\u001b[1;33m,\u001b[0m\u001b[1;33m[\u001b[0m\u001b[1;36m2\u001b[0m\u001b[1;33m,\u001b[0m \u001b[1;33m-\u001b[0m\u001b[1;36m2\u001b[0m\u001b[1;33m]\u001b[0m\u001b[1;33m]\u001b[0m\u001b[1;33m)\u001b[0m\u001b[1;33m\u001b[0m\u001b[1;33m\u001b[0m\u001b[0m\n\u001b[0;32m      5\u001b[0m \u001b[0my_neg\u001b[0m \u001b[1;33m=\u001b[0m \u001b[0mnp\u001b[0m\u001b[1;33m.\u001b[0m\u001b[0marray\u001b[0m\u001b[1;33m(\u001b[0m\u001b[1;33m[\u001b[0m\u001b[1;33m-\u001b[0m\u001b[1;36m1\u001b[0m\u001b[1;33m,\u001b[0m \u001b[1;33m-\u001b[0m\u001b[1;36m1\u001b[0m\u001b[1;33m,\u001b[0m \u001b[1;33m-\u001b[0m\u001b[1;36m1\u001b[0m\u001b[1;33m]\u001b[0m\u001b[1;33m)\u001b[0m\u001b[1;33m\u001b[0m\u001b[1;33m\u001b[0m\u001b[0m\n",
      "\u001b[1;31mNameError\u001b[0m: name 'np' is not defined"
     ]
    }
   ],
   "source": [
    "x_pos = np.array([[-2,  1], [1, 1], [1.5, -0.5]])\n",
    "y_pos = np.array([1, 1, 1])\n",
    "\n",
    "x_neg = np.array([[-2, -1], [-1, -1.5],[2, -2]])\n",
    "y_neg = np.array([-1, -1, -1])\n",
    "\n",
    "x1 = np.linspace(-6, 6)\n",
    "x = np.vstack((np.linspace(-10,10),np.linspace(-10,10)))\n",
    "\n",
    "X = np.vstack((x_pos, x_neg))\n",
    "y = np.concatenate((y_pos,y_neg))\n",
    "\n",
    "w = np.array([0.615385, 1.538461]).reshape(-1,1)\n",
    "b = 0.846615\n",
    "\n",
    "fig = plt.figure(figsize = (7, 7))\n",
    "plt.scatter(x_neg[:,0], x_neg[:,1], marker = 'x', color = 'r', label = 'Negative -1')\n",
    "plt.scatter(x_pos[:,0], x_pos[:,1], marker = 'o', color = 'b', label = 'Positive +1')\n",
    "plt.plot(x1, x1  - 3, color = 'darkblue')\n",
    "plt.plot(x1, x1  - 7, linestyle = '--', alpha = .3, color = 'b')\n",
    "plt.plot(x1, x1  + 1, linestyle = '--', alpha = .3, color = 'r')\n",
    "plt.legend()"
   ]
  },
  {
   "cell_type": "markdown",
   "metadata": {},
   "source": [
    "## Question 2 - <code>SVM-2F</code>\n",
    "#### Create a SVM-model and plot a 2D-SVM classification by using Python and colon data set (use only two genes, T62947 and H64807), and find your best hyper-parameters for precision, recall, and accuracy. <code>(Training:Testing = 80:20)</code>\n",
    "\n",
    "**SOLUTION**: First, we denote <code>SVM-2F</code> as the SVM model with only two features. In this section, we only used two features called <code>T62947</code> and <code>H64807</code>. Hence, the number of samples <code>m = 62</code> is greater than the number of features <code>n = 2</code>. The class distribution, however, is imbalanced with 22 patients having cancer while 40 patients having no cancer. Hence, it is important to perform resampling techniques (i.e., undersampling, oversampling, SMOTE). \n",
    "\n",
    "We verified the dataset in terms of their data types (i.e., <code>float</code> for $\\mathbf{X}$ while <code>int</code> for $\\mathbf{y}$) to ensure proper data modeling in SVM. No missing values were detected in the dataset. In addition, we normalize the given dataset through standardization by removing the mean and scaling to unit variance. We also split the data into 80:20 ratio between training and testing sets."
   ]
  },
  {
   "cell_type": "code",
   "execution_count": 3,
   "metadata": {},
   "outputs": [],
   "source": [
    "df_colon = pd.read_csv('../data/colon.csv')\n",
    "XX = df_colon[['T62947', 'H64807']]\n",
    "yy = df_colon['Class']\n",
    "\n",
    "XX, yy = XX.to_numpy(), yy.to_numpy()\n",
    "yy = yy.flatten()\n",
    "\n",
    "smote = SMOTE()\n",
    "X, y = smote.fit_resample(XX, yy)\n",
    "\n",
    "random.seed(413)\n",
    "X_train, X_test, y_train, y_test = train_test_split(X, y, test_size = 0.2, random_state = 42)\n",
    "scaler  = StandardScaler()\n",
    "X_train = scaler.fit_transform(X_train)\n",
    "X_test  = scaler.transform(X_test)"
   ]
  },
  {
   "cell_type": "markdown",
   "metadata": {},
   "source": [
    "Let's try to visualize the class distribution with and without resampling (i.e., SMOTE method). Since the given class distribution of the dataset is imbalanced, we performed oversampling using Synthetic Minority Oversampling Technique (SMOTE) as presented above as <code>smote = SMOTE()</code>."
   ]
  },
  {
   "cell_type": "code",
   "execution_count": 4,
   "metadata": {},
   "outputs": [
    {
     "data": {
      "text/plain": [
       "Text(0.5, 1.0, 'SMOTE Resampling')"
      ]
     },
     "execution_count": 4,
     "metadata": {},
     "output_type": "execute_result"
    },
    {
     "data": {
      "image/png": "[encoded data removed]",
      "text/plain": [
       "<Figure size 576x288 with 2 Axes>"
      ]
     },
     "metadata": {
      "needs_background": "light"
     },
     "output_type": "display_data"
    }
   ],
   "source": [
    "x = np.arange(2)\n",
    "fig, (ax1, ax2) = plt.subplots(1, 2, figsize = (8, 4))\n",
    "\n",
    "ax1.bar(x, height = [len(yy[yy == 1]), len(yy[yy == -1])])\n",
    "ax1.set_xticks(x, ['Cancer', 'No Cancer'])\n",
    "ax1.set_title('Imbalanced dataset')\n",
    "\n",
    "ax2.bar(x, height = [len(y[y == 1]), len(y[y == -1])])\n",
    "ax2.set_xticks(x, ['Cancer', 'No Cancer'])\n",
    "ax2.set_title('SMOTE Resampling')"
   ]
  },
  {
   "cell_type": "markdown",
   "metadata": {},
   "source": [
    "We created a Python function called <code>plot_data</code> to visually create the scatter plot of the features between two classes. We labeled the two classes <code>i.e., (y = -1, y = 1)</code> as 'No Cancer' and 'Cancer' patients, respectively. Patients with no cancer are highlighted as color blue while patients without cancer are colored as red dots."
   ]
  },
  {
   "cell_type": "code",
   "execution_count": 5,
   "metadata": {},
   "outputs": [
    {
     "data": {
      "image/png": "[encoded data removed]",
      "text/plain": [
       "<Figure size 576x360 with 1 Axes>"
      ]
     },
     "metadata": {
      "needs_background": "light"
     },
     "output_type": "display_data"
    }
   ],
   "source": [
    "def plot_data(X, y):\n",
    "    y = y.flatten()\n",
    "    class1 = (y ==  1)\n",
    "    class2 = (y == -1)\n",
    "    plt.figure(figsize=(8, 5))    \n",
    "    plt.plot(X[:,0][class1], X[:,1][class1], 'ro', markersize = 8, label = 'Cancer')\n",
    "    plt.plot(X[:,0][class2], X[:,1][class2], 'bo', markersize = 8, label = 'No Cancer')\n",
    "    plt.legend(loc = 'lower left')\n",
    "\n",
    "plot_data(X, y)"
   ]
  },
  {
   "cell_type": "markdown",
   "metadata": {},
   "source": [
    "We find the best hyper-parameters for <code>precision, recall, and accuracy</code>. Other performance evaluation, such as <code>AUC</code> and <code>F1-score</code>, were also tuned for simulation purposes. We then initialized the parameters on a given range and types for <code>kernel</code>, <code>gamma</code>, and <code>C</code>. A 5-fold cross-validation was also adopted here. We set <code>random.seed(413)</code> to initialize the random number generator. The <code>Accuracy</code> was evaluated as a refit method to refit an estimator using the best found parameters on the whole dataset."
   ]
  },
  {
   "cell_type": "code",
   "execution_count": 6,
   "metadata": {},
   "outputs": [
    {
     "name": "stdout",
     "output_type": "stream",
     "text": [
      "Best parameter set found on development set: {'C': 50, 'gamma': 1, 'kernel': 'rbf'}\n"
     ]
    }
   ],
   "source": [
    "tuned_parameters = [{'kernel': ['rbf'],     'gamma': [1, 1e-2, 1e-3, 1e-4, 1e-5, 1e-7], 'C': [0.001, 0.10, 0.1, 10, 25, 50, 100, 1000]},\n",
    "                    {'kernel': ['sigmoid'], 'gamma': [1, 1e-2, 1e-3, 1e-4, 1e-5, 1e-7], 'C': [0.001, 0.10, 0.1, 10, 25, 50, 100, 1000]},\n",
    "                    {'kernel': ['linear'],                                              'C': [0.001, 0.10, 0.1, 10, 20, 25, 50, 100, 1000]}]\n",
    "\n",
    "scoring = {'Precision': 'precision', 'Recall': 'recall', 'Accuracy': 'accuracy', \n",
    "           'AUC': 'roc_auc', 'F1': 'f1_micro'}\n",
    "    \n",
    "random.seed(413)\n",
    "clf = GridSearchCV(SVC(C = 1), param_grid = tuned_parameters, cv = 5,\n",
    "                    scoring = scoring, refit = 'Accuracy',\n",
    "                    return_train_score = True)\n",
    "clf.fit(X_train, y_train)\n",
    "results = clf.cv_results_\n",
    "\n",
    "print(f'Best parameter set found on development set: {clf.best_params_}')"
   ]
  },
  {
   "cell_type": "markdown",
   "metadata": {},
   "source": [
    "We created a Python function called <code>visualize_boundary</code> that plots the data and its decision boundary between the classes."
   ]
  },
  {
   "cell_type": "code",
   "execution_count": 7,
   "metadata": {},
   "outputs": [
    {
     "data": {
      "text/plain": [
       "<Figure size 1080x720 with 0 Axes>"
      ]
     },
     "metadata": {},
     "output_type": "display_data"
    },
    {
     "data": {
      "image/png": "[encoded data removed]",
      "text/plain": [
       "<Figure size 576x360 with 1 Axes>"
      ]
     },
     "metadata": {
      "needs_background": "light"
     },
     "output_type": "display_data"
    }
   ],
   "source": [
    "random.seed(413)\n",
    "svclassifier = SVC(kernel = 'rbf', C = 25, gamma = 1)\n",
    "svclassifier.fit(X_train, y_train)\n",
    "\n",
    "def visualize_boundary(X, y, model, title):\n",
    "    plt.figure(figsize = (15, 10))\n",
    "    plot_data(X, y)\n",
    "    X_21, X_22 = np.meshgrid(np.linspace(X[:,0].min(), X[:,1].max(), num = 100), \n",
    "                             np.linspace(X[:,1].min(), X[:,1].max(), num = 100))\n",
    "    plt.contour(X_21, X_22, model.predict(np.array([X_21.ravel(),X_22.ravel()]).T).reshape(X_21.shape), 1, colors = 'k')\n",
    "    plt.title(title, size = 15)\n",
    "    plt.legend(loc = 'lower left')\n",
    "    plt.show()\n",
    "\n",
    "random.seed(413)\n",
    "visualize_boundary(X_train, y_train, svclassifier, \n",
    "                            title = 'Decision Boundary for Training Dataset')"
   ]
  },
  {
   "cell_type": "markdown",
   "metadata": {},
   "source": [
    "The code below calculates the predictions <code>y_pred</code> from the testing set. We then used <code>y_pred</code> to create the confusion matrix and classification report."
   ]
  },
  {
   "cell_type": "code",
   "execution_count": 9,
   "metadata": {},
   "outputs": [
    {
     "name": "stdout",
     "output_type": "stream",
     "text": [
      "[[8 0]\n",
      " [0 8]]\n",
      "              precision    recall  f1-score   support\n",
      "\n",
      "   No Cancer       1.00      1.00      1.00         8\n",
      "      Cancer       1.00      1.00      1.00         8\n",
      "\n",
      "    accuracy                           1.00        16\n",
      "   macro avg       1.00      1.00      1.00        16\n",
      "weighted avg       1.00      1.00      1.00        16\n",
      "\n"
     ]
    }
   ],
   "source": [
    "y_pred = svclassifier.predict(X_test)\n",
    "\n",
    "print(confusion_matrix(y_test, y_pred))\n",
    "print(classification_report(y_test, y_pred, target_names = ['No Cancer', 'Cancer']))"
   ]
  },
  {
   "cell_type": "markdown",
   "metadata": {},
   "source": [
    "### Conclusion - <code>SVM-2F</code>:\n",
    "The SVM model with two features, denoted as <code>SVM-2F</code> produced **perfect** results, as shown to its classification report. The results indicated that <code>SVM-2F</code> did not predict any misclassifications between the two classes since the number of false positive and false negative are zero.  \n",
    "\n",
    "We evaluated <code>SVM-2F</code> in two scenarios - SVM model with and without SMOTE, through two performance metrics: <code>Accuracy</code> and <code>F1-score</code>, respectively. **While accuracy is best suited for balanced datasets and F1-score is applied for imbalanced datasets, regardless of the resampling methods, both evaluation metrics produced 100% accuracy and F1-score.** However, it is important to note that we need to use <code>F1-score</code> for imbalanced datasets because it can quantify the harmonic mean of both precision and recall for the minority class. Hence, <code>F1-score</code> should be used when class distribution is uneven."
   ]
  },
  {
   "cell_type": "markdown",
   "metadata": {},
   "source": [
    "## Question 3 - <code>SVM-AF</code>\n",
    "#### Train a SVM-model by using colon-data set and tuning the hyper-parameters, and select the best model. <code>(Training:Testing = 80:20)</code> and give your comments.\n",
    "\n",
    "**SOLUTION**: In this section, we used <code>m = 80</code> samples with <code>n = 2000</code> features. Hence, the number of samples is **lower** than the number of features. Since traditional machine learning models assume $m > n$, this challenge of high-dimensional spaces is referred to as the curse of dimensionality. In this section, we will solve Question 3 into two scenarios - using SVM with $m < n$ and SVM with feature selection methods.\n",
    "\n",
    "In the code below, we initialized $\\mathbf{X, y}$ and plotted it using the <code>plot_data</code> function we created earlier."
   ]
  },
  {
   "cell_type": "code",
   "execution_count": 175,
   "metadata": {},
   "outputs": [
    {
     "data": {
      "image/png": "[encoded data removed]",
      "text/plain": [
       "<Figure size 576x360 with 1 Axes>"
      ]
     },
     "metadata": {
      "needs_background": "light"
     },
     "output_type": "display_data"
    }
   ],
   "source": [
    "XX = df_colon.drop('Class', axis = 1)\n",
    "yy = df_colon['Class']\n",
    "\n",
    "X, y = smote.fit_resample(XX, yy)\n",
    "X, y = X.to_numpy(), y.to_numpy()\n",
    "y = y.flatten()\n",
    "\n",
    "plot_data(X, y)"
   ]
  },
  {
   "cell_type": "markdown",
   "metadata": {},
   "source": [
    "Similar to Question 2, we also find the best hyper-parameters for <code>precision, recall, accuracy, AUC, and F1-score</code>. We then initialized the parameters on a given range and types for <code>kernel</code>, <code>gamma</code>, and <code>C</code>. A 5-fold cross-validation was also adopted here. We set <code>random.seed(413)</code> to initialize the random number generator. The <code>F1-score</code> was evaluated as a refit method to refit an estimator using the best found parameters on the whole dataset. In addition, the <code>F1-score</code> as a refit method can help balance the metric across positive and negative samples."
   ]
  },
  {
   "cell_type": "code",
   "execution_count": 176,
   "metadata": {},
   "outputs": [
    {
     "name": "stdout",
     "output_type": "stream",
     "text": [
      "Best parameters set found on development set: {'C': 10, 'gamma': 0.0001, 'kernel': 'rbf'}\n"
     ]
    }
   ],
   "source": [
    "random.seed(413)\n",
    "X = scaler.fit_transform(X)\n",
    "X_train, X_test, y_train, y_test = train_test_split(X, y, test_size = 0.20)\n",
    "\n",
    "tuned_parameters = [{'kernel': ['rbf'],     'gamma': [1, 1e-2, 1e-3, 1e-4, 1e-5, 1e-7], 'C': [0.001, 0.10, 0.1, 10, 25, 50, 100, 1000]},\n",
    "                    {'kernel': ['sigmoid'], 'gamma': [1, 1e-2, 1e-3, 1e-4, 1e-5, 1e-7], 'C': [0.001, 0.10, 0.1, 10, 25, 50, 100, 1000]},\n",
    "                    {'kernel': ['linear'],                                              'C': [0.001, 0.10, 0.1, 10, 20, 25, 50, 100, 1000]}]\n",
    "\n",
    "scoring = {'Precision': 'precision', 'Recall': 'recall', 'Accuracy': 'accuracy', \n",
    "           'AUC': 'roc_auc', 'F1': 'f1_micro'}\n",
    "    \n",
    "random.seed(413)\n",
    "clf = GridSearchCV(SVC(C = 10), param_grid = tuned_parameters, cv = 5,\n",
    "                    scoring = scoring, refit = 'F1',\n",
    "                    return_train_score = True)\n",
    "clf.fit(X_train, y_train)\n",
    "results = clf.cv_results_\n",
    "\n",
    "print(f'Best parameters set found on development set: {clf.best_params_}')"
   ]
  },
  {
   "cell_type": "code",
   "execution_count": 177,
   "metadata": {},
   "outputs": [
    {
     "data": {
      "text/plain": [
       "SVC(C=10, gamma=0.0001)"
      ]
     },
     "execution_count": 177,
     "metadata": {},
     "output_type": "execute_result"
    }
   ],
   "source": [
    "random.seed(413)\n",
    "svclassifier = SVC(kernel = 'rbf', C = 10, gamma = 0.0001)\n",
    "svclassifier.fit(X_train, y_train)"
   ]
  },
  {
   "cell_type": "markdown",
   "metadata": {},
   "source": [
    "The code below calculates the predictions <code>y_pred</code> from the testing set. We then used <code>y_pred</code> to create the confusion matrix and classification report."
   ]
  },
  {
   "cell_type": "code",
   "execution_count": 178,
   "metadata": {},
   "outputs": [
    {
     "name": "stdout",
     "output_type": "stream",
     "text": [
      "[[9 1]\n",
      " [0 6]]\n",
      "              precision    recall  f1-score   support\n",
      "\n",
      "          -1       1.00      0.90      0.95        10\n",
      "           1       0.86      1.00      0.92         6\n",
      "\n",
      "    accuracy                           0.94        16\n",
      "   macro avg       0.93      0.95      0.94        16\n",
      "weighted avg       0.95      0.94      0.94        16\n",
      "\n"
     ]
    }
   ],
   "source": [
    "y_pred = svclassifier.predict(X_test)\n",
    "\n",
    "print(confusion_matrix(y_test, y_pred))\n",
    "print(classification_report(y_test, y_pred, target_names = ['No Cancer', 'Cancer']))"
   ]
  },
  {
   "cell_type": "markdown",
   "metadata": {},
   "source": [
    "### Conclusion:\n",
    "The SVM model with all features in the dataset, denoted as <code>SVM-AF</code>, generally produced excellent results. However, its performance metrics are comparatively lower than <code>SVM-2F</code>, since <code>SVM-AF</code> uses a large number of features for each data point that exceed the number of data samples. This problem is known as the **curse of dimensionality** since the feature space will have many subregions with few samples that the SVM will lose predictive power given that it did not get to learn the behaviour of the data in many significant subregions. While <code>SVM-AF</code> underperforms due to its dimensions, we can rectify this problem by using a lower $C$ to regularize the dataset stronger since the training errors may increase in size, which can induce overfitting."
   ]
  }
 ],
 "metadata": {
  "kernelspec": {
   "display_name": "Python 3",
   "language": "python",
   "name": "python3"
  },
  "language_info": {
   "codemirror_mode": {
    "name": "ipython",
    "version": 3
   },
   "file_extension": ".py",
   "mimetype": "text/x-python",
   "name": "python",
   "nbconvert_exporter": "python",
   "pygments_lexer": "ipython3",
   "version": "3.8.5"
  },
  "vscode": {
   "interpreter": {
    "hash": "c6a2dc670f3436433c0efae6fb324965c1072d8aef0b90287abce79ee9328779"
   }
  }
 },
 "nbformat": 4,
 "nbformat_minor": 2
}
