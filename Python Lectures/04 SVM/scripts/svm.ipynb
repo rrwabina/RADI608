{
 "cells": [
  {
   "cell_type": "markdown",
   "metadata": {},
   "source": [
    "## Support Vector Machines "
   ]
  },
  {
   "cell_type": "code",
   "execution_count": 1,
   "metadata": {},
   "outputs": [],
   "source": [
    "import pandas as pd\n",
    "import numpy as np\n",
    "import matplotlib.pyplot as plt\n",
    "\n",
    "from sklearn.model_selection import train_test_split\n",
    "from sklearn.svm import SVC\n",
    "from sklearn.metrics import classification_report, confusion_matrix"
   ]
  },
  {
   "cell_type": "code",
   "execution_count": 2,
   "metadata": {},
   "outputs": [],
   "source": [
    "df_colon = pd.read_csv('../data/colon.csv')\n",
    "\n",
    "X = df_colon.drop('Class', axis=1)\n",
    "y = df_colon['Class']\n",
    "\n",
    "assert X.shape == (62, 2000)\n",
    "\n",
    "X_train, X_test, y_train, y_test = train_test_split(X, y, test_size = 0.20)\n",
    "\n",
    "svclassifier = SVC(kernel='rbf')\n",
    "svclassifier.fit(X_train, y_train)\n",
    "\n",
    "y_pred = svclassifier.predict(X_test)"
   ]
  },
  {
   "cell_type": "code",
   "execution_count": 3,
   "metadata": {},
   "outputs": [
    {
     "name": "stdout",
     "output_type": "stream",
     "text": [
      "[[8 3]\n",
      " [1 1]]\n",
      "              precision    recall  f1-score   support\n",
      "\n",
      "          -1       0.89      0.73      0.80        11\n",
      "           1       0.25      0.50      0.33         2\n",
      "\n",
      "    accuracy                           0.69        13\n",
      "   macro avg       0.57      0.61      0.57        13\n",
      "weighted avg       0.79      0.69      0.73        13\n",
      "\n",
      "              precision    recall  f1-score   support\n",
      "\n",
      "      Cancer       0.89      0.73      0.80        11\n",
      "     Healthy       0.25      0.50      0.33         2\n",
      "\n",
      "    accuracy                           0.69        13\n",
      "   macro avg       0.57      0.61      0.57        13\n",
      "weighted avg       0.79      0.69      0.73        13\n",
      "\n"
     ]
    }
   ],
   "source": [
    "confusion = confusion_matrix(y_test,y_pred)\n",
    "print(confusion)\n",
    "print(classification_report(y_test,y_pred))\n",
    "\n",
    "target_names = ['Cancer', 'Healthy']\n",
    "print(classification_report(y_test, y_pred, target_names = target_names))"
   ]
  },
  {
   "cell_type": "markdown",
   "metadata": {},
   "source": [
    "### Kernel-trick with <code>scikit-learn</code>"
   ]
  },
  {
   "cell_type": "code",
   "execution_count": 4,
   "metadata": {},
   "outputs": [
    {
     "name": "stdout",
     "output_type": "stream",
     "text": [
      "# Tuning hyper-parameters for precision\n",
      "\n",
      "# Tuning hyper-parameters for recall\n",
      "\n",
      "Best parameters set found on development set:\n",
      "\n",
      "{'C': 100, 'kernel': 'linear'}\n",
      "\n",
      "Grid scores on development set:\n",
      "\n",
      "0.333 (+/-0.000) for {'C': 0.001, 'gamma': 0.01, 'kernel': 'rbf'}\n",
      "\n",
      "0.333 (+/-0.000) for {'C': 0.001, 'gamma': 0.001, 'kernel': 'rbf'}\n",
      "\n",
      "0.333 (+/-0.000) for {'C': 0.001, 'gamma': 0.0001, 'kernel': 'rbf'}\n",
      "\n",
      "0.333 (+/-0.000) for {'C': 0.001, 'gamma': 1e-05, 'kernel': 'rbf'}\n",
      "\n",
      "0.667 (+/-0.000) for {'C': 0.1, 'gamma': 0.01, 'kernel': 'rbf'}\n",
      "\n",
      "0.333 (+/-0.000) for {'C': 0.1, 'gamma': 0.001, 'kernel': 'rbf'}\n",
      "\n",
      "0.333 (+/-0.000) for {'C': 0.1, 'gamma': 0.0001, 'kernel': 'rbf'}\n",
      "\n",
      "0.333 (+/-0.000) for {'C': 0.1, 'gamma': 1e-05, 'kernel': 'rbf'}\n",
      "\n",
      "0.667 (+/-0.000) for {'C': 0.1, 'gamma': 0.01, 'kernel': 'rbf'}\n",
      "\n",
      "0.333 (+/-0.000) for {'C': 0.1, 'gamma': 0.001, 'kernel': 'rbf'}\n",
      "\n",
      "0.333 (+/-0.000) for {'C': 0.1, 'gamma': 0.0001, 'kernel': 'rbf'}\n",
      "\n",
      "0.333 (+/-0.000) for {'C': 0.1, 'gamma': 1e-05, 'kernel': 'rbf'}\n",
      "\n",
      "0.958 (+/-0.112) for {'C': 10, 'gamma': 0.01, 'kernel': 'rbf'}\n",
      "\n",
      "0.939 (+/-0.133) for {'C': 10, 'gamma': 0.001, 'kernel': 'rbf'}\n",
      "\n",
      "0.667 (+/-0.000) for {'C': 10, 'gamma': 0.0001, 'kernel': 'rbf'}\n",
      "\n",
      "0.333 (+/-0.000) for {'C': 10, 'gamma': 1e-05, 'kernel': 'rbf'}\n",
      "\n",
      "0.967 (+/-0.082) for {'C': 25, 'gamma': 0.01, 'kernel': 'rbf'}\n",
      "\n",
      "0.947 (+/-0.115) for {'C': 25, 'gamma': 0.001, 'kernel': 'rbf'}\n",
      "\n",
      "0.733 (+/-0.094) for {'C': 25, 'gamma': 0.0001, 'kernel': 'rbf'}\n",
      "\n",
      "0.333 (+/-0.000) for {'C': 25, 'gamma': 1e-05, 'kernel': 'rbf'}\n",
      "\n",
      "0.958 (+/-0.112) for {'C': 50, 'gamma': 0.01, 'kernel': 'rbf'}\n",
      "\n",
      "0.950 (+/-0.133) for {'C': 50, 'gamma': 0.001, 'kernel': 'rbf'}\n",
      "\n",
      "0.931 (+/-0.103) for {'C': 50, 'gamma': 0.0001, 'kernel': 'rbf'}\n",
      "\n",
      "0.367 (+/-0.082) for {'C': 50, 'gamma': 1e-05, 'kernel': 'rbf'}\n",
      "\n",
      "0.967 (+/-0.111) for {'C': 100, 'gamma': 0.01, 'kernel': 'rbf'}\n",
      "\n",
      "0.958 (+/-0.112) for {'C': 100, 'gamma': 0.001, 'kernel': 'rbf'}\n",
      "\n",
      "0.939 (+/-0.133) for {'C': 100, 'gamma': 0.0001, 'kernel': 'rbf'}\n",
      "\n",
      "0.667 (+/-0.000) for {'C': 100, 'gamma': 1e-05, 'kernel': 'rbf'}\n",
      "\n",
      "0.947 (+/-0.115) for {'C': 1000, 'gamma': 0.01, 'kernel': 'rbf'}\n",
      "\n",
      "0.967 (+/-0.111) for {'C': 1000, 'gamma': 0.001, 'kernel': 'rbf'}\n",
      "\n",
      "0.958 (+/-0.112) for {'C': 1000, 'gamma': 0.0001, 'kernel': 'rbf'}\n",
      "\n",
      "0.939 (+/-0.133) for {'C': 1000, 'gamma': 1e-05, 'kernel': 'rbf'}\n",
      "\n",
      "0.333 (+/-0.000) for {'C': 0.001, 'gamma': 0.01, 'kernel': 'sigmoid'}\n",
      "\n",
      "0.333 (+/-0.000) for {'C': 0.001, 'gamma': 0.001, 'kernel': 'sigmoid'}\n",
      "\n",
      "0.333 (+/-0.000) for {'C': 0.001, 'gamma': 0.0001, 'kernel': 'sigmoid'}\n",
      "\n",
      "0.333 (+/-0.000) for {'C': 0.001, 'gamma': 1e-05, 'kernel': 'sigmoid'}\n",
      "\n",
      "0.333 (+/-0.000) for {'C': 0.1, 'gamma': 0.01, 'kernel': 'sigmoid'}\n",
      "\n",
      "0.333 (+/-0.000) for {'C': 0.1, 'gamma': 0.001, 'kernel': 'sigmoid'}\n",
      "\n",
      "0.333 (+/-0.000) for {'C': 0.1, 'gamma': 0.0001, 'kernel': 'sigmoid'}\n",
      "\n",
      "0.333 (+/-0.000) for {'C': 0.1, 'gamma': 1e-05, 'kernel': 'sigmoid'}\n",
      "\n",
      "0.333 (+/-0.000) for {'C': 0.1, 'gamma': 0.01, 'kernel': 'sigmoid'}\n",
      "\n",
      "0.333 (+/-0.000) for {'C': 0.1, 'gamma': 0.001, 'kernel': 'sigmoid'}\n",
      "\n",
      "0.333 (+/-0.000) for {'C': 0.1, 'gamma': 0.0001, 'kernel': 'sigmoid'}\n",
      "\n",
      "0.333 (+/-0.000) for {'C': 0.1, 'gamma': 1e-05, 'kernel': 'sigmoid'}\n",
      "\n",
      "0.906 (+/-0.139) for {'C': 10, 'gamma': 0.01, 'kernel': 'sigmoid'}\n",
      "\n",
      "0.922 (+/-0.126) for {'C': 10, 'gamma': 0.001, 'kernel': 'sigmoid'}\n",
      "\n",
      "0.367 (+/-0.082) for {'C': 10, 'gamma': 0.0001, 'kernel': 'sigmoid'}\n",
      "\n",
      "0.333 (+/-0.000) for {'C': 10, 'gamma': 1e-05, 'kernel': 'sigmoid'}\n",
      "\n",
      "0.872 (+/-0.217) for {'C': 25, 'gamma': 0.01, 'kernel': 'sigmoid'}\n",
      "\n",
      "0.947 (+/-0.115) for {'C': 25, 'gamma': 0.001, 'kernel': 'sigmoid'}\n",
      "\n",
      "0.667 (+/-0.000) for {'C': 25, 'gamma': 0.0001, 'kernel': 'sigmoid'}\n",
      "\n",
      "0.333 (+/-0.000) for {'C': 25, 'gamma': 1e-05, 'kernel': 'sigmoid'}\n",
      "\n",
      "0.864 (+/-0.240) for {'C': 50, 'gamma': 0.01, 'kernel': 'sigmoid'}\n",
      "\n",
      "0.947 (+/-0.115) for {'C': 50, 'gamma': 0.001, 'kernel': 'sigmoid'}\n",
      "\n",
      "0.733 (+/-0.094) for {'C': 50, 'gamma': 0.0001, 'kernel': 'sigmoid'}\n",
      "\n",
      "0.333 (+/-0.000) for {'C': 50, 'gamma': 1e-05, 'kernel': 'sigmoid'}\n",
      "\n",
      "0.808 (+/-0.305) for {'C': 100, 'gamma': 0.01, 'kernel': 'sigmoid'}\n",
      "\n",
      "0.958 (+/-0.112) for {'C': 100, 'gamma': 0.001, 'kernel': 'sigmoid'}\n",
      "\n",
      "0.931 (+/-0.103) for {'C': 100, 'gamma': 0.0001, 'kernel': 'sigmoid'}\n",
      "\n",
      "0.367 (+/-0.082) for {'C': 100, 'gamma': 1e-05, 'kernel': 'sigmoid'}\n",
      "\n",
      "0.792 (+/-0.297) for {'C': 1000, 'gamma': 0.01, 'kernel': 'sigmoid'}\n",
      "\n",
      "0.958 (+/-0.112) for {'C': 1000, 'gamma': 0.001, 'kernel': 'sigmoid'}\n",
      "\n",
      "0.950 (+/-0.133) for {'C': 1000, 'gamma': 0.0001, 'kernel': 'sigmoid'}\n",
      "\n",
      "0.931 (+/-0.103) for {'C': 1000, 'gamma': 1e-05, 'kernel': 'sigmoid'}\n",
      "\n",
      "0.367 (+/-0.082) for {'C': 0.001, 'kernel': 'linear'}\n",
      "\n",
      "0.950 (+/-0.133) for {'C': 0.1, 'kernel': 'linear'}\n",
      "\n",
      "0.950 (+/-0.133) for {'C': 0.1, 'kernel': 'linear'}\n",
      "\n",
      "0.964 (+/-0.117) for {'C': 10, 'kernel': 'linear'}\n",
      "\n",
      "0.972 (+/-0.114) for {'C': 25, 'kernel': 'linear'}\n",
      "\n",
      "0.972 (+/-0.114) for {'C': 50, 'kernel': 'linear'}\n",
      "\n",
      "0.983 (+/-0.100) for {'C': 100, 'kernel': 'linear'}\n",
      "\n",
      "0.958 (+/-0.112) for {'C': 1000, 'kernel': 'linear'}\n",
      "\n"
     ]
    }
   ],
   "source": [
    "import numpy as np\n",
    "import matplotlib.pyplot as plt\n",
    "import pandas as pd\n",
    "from sklearn.model_selection import train_test_split\n",
    "from sklearn.metrics import classification_report, confusion_matrix\n",
    "from sklearn.model_selection import GridSearchCV\n",
    "from sklearn.svm import SVC\n",
    "import warnings \n",
    "warnings.filterwarnings('ignore')\n",
    "\n",
    "url = \"https://archive.ics.uci.edu/ml/machine-learning-databases/iris/iris.data\"\n",
    "\n",
    "colnames = ['sepal-length', 'sepal-width', 'petal-length', 'petal-width', 'Class']\n",
    "irisdata = pd.read_csv(url, names = colnames)\n",
    "\n",
    "X = irisdata.drop('Class', axis=1)\n",
    "y = irisdata['Class']\n",
    "\n",
    "X_train, X_test, y_train, y_test = train_test_split(X, y, test_size = 0.20)\n",
    "\n",
    "\n",
    "tuned_parameters = [{'kernel': ['rbf'], 'gamma': [1e-2, 1e-3, 1e-4, 1e-5], 'C': [0.001, 0.10, 0.1, 10, 25, 50, 100, 1000]},\n",
    "                    {'kernel': ['sigmoid'], 'gamma': [1e-2, 1e-3, 1e-4, 1e-5], 'C': [0.001, 0.10, 0.1, 10, 25, 50, 100, 1000]},\n",
    "                    {'kernel': ['linear'], 'C': [0.001, 0.10, 0.1, 10, 25, 50, 100, 1000]}]\n",
    "\n",
    "scores = ['precision', 'recall']\n",
    "for score in scores:\n",
    "    print(\"# Tuning hyper-parameters for %s\" % score)\n",
    "    print()\n",
    "    clf = GridSearchCV(SVC(C=1), tuned_parameters, cv = 10,\n",
    "    scoring='%s_macro' % score)\n",
    "    clf.fit(X_train, y_train)\n",
    "\n",
    "\n",
    "print(\"Best parameters set found on development set:\")\n",
    "print()\n",
    "print(clf.best_params_)\n",
    "print()\n",
    "print(\"Grid scores on development set:\")\n",
    "print()\n",
    "means = clf.cv_results_['mean_test_score']\n",
    "stds  = clf.cv_results_['std_test_score']\n",
    "for mean, std, params in zip(means, stds, clf.cv_results_['params']):\n",
    "    print(\"%0.3f (+/-%0.03f) for %r\" % (mean, std* 2, params))\n",
    "    print()"
   ]
  },
  {
   "cell_type": "code",
   "execution_count": 5,
   "metadata": {},
   "outputs": [
    {
     "name": "stdout",
     "output_type": "stream",
     "text": [
      "[[ 6  0  0]\n",
      " [ 0 13  0]\n",
      " [ 0  1 10]]\n",
      "                 precision    recall  f1-score   support\n",
      "\n",
      "    Iris-setosa       1.00      1.00      1.00         6\n",
      "Iris-versicolor       0.93      1.00      0.96        13\n",
      " Iris-virginica       1.00      0.91      0.95        11\n",
      "\n",
      "       accuracy                           0.97        30\n",
      "      macro avg       0.98      0.97      0.97        30\n",
      "   weighted avg       0.97      0.97      0.97        30\n",
      "\n"
     ]
    }
   ],
   "source": [
    "svclassifier = SVC(kernel = 'rbf', C = 25, degree = 7, gamma = 0.01)\n",
    "svclassifier.fit(X_train, y_train)\n",
    "\n",
    "y_pred = svclassifier.predict(X_test)\n",
    "\n",
    "print(confusion_matrix(y_test, y_pred))\n",
    "print(classification_report(y_test, y_pred))"
   ]
  },
  {
   "cell_type": "markdown",
   "metadata": {},
   "source": [
    "## SVM with Hard Margin"
   ]
  },
  {
   "cell_type": "code",
   "execution_count": 112,
   "metadata": {},
   "outputs": [],
   "source": [
    "from cvxopt import matrix as cvxopt_matrix\n",
    "from cvxopt import solvers as cvxopt_solvers\n",
    "\n",
    "df_colon = pd.read_csv('../data/colon.csv')\n",
    "\n",
    "X = df_colon.drop('Class', axis=1)\n",
    "y = df_colon['Class']\n",
    "assert X.shape == (62, 2000)\n",
    "X_train, X_test, y_train, y_test = train_test_split(X, y, test_size = 0.20)\n",
    "\n",
    "m,n = X.shape\n",
    "y = y.to_numpy().reshape(-1,1) * 1.\n",
    "X_dash = y * X\n",
    "H = np.dot(X_dash , X_dash.T) * 1.\n",
    "\n",
    "#Converting into cvxopt format\n",
    "P = cvxopt_matrix(H)\n",
    "q = cvxopt_matrix(-np.ones((m, 1)))\n",
    "G = cvxopt_matrix(-np.eye(m))\n",
    "h = cvxopt_matrix(np.zeros(m))\n",
    "A = cvxopt_matrix(y.reshape(1, -1))\n",
    "b = cvxopt_matrix(np.zeros(1))\n",
    "\n",
    "#Setting solver parameters (change default to decrease tolerance) \n",
    "cvxopt_solvers.options['show_progress'] = False\n",
    "cvxopt_solvers.options['abstol'] = 1e-10\n",
    "cvxopt_solvers.options['reltol'] = 1e-10\n",
    "cvxopt_solvers.options['feastol'] = 1e-10\n",
    "\n",
    "#Run solver\n",
    "sol = cvxopt_solvers.qp(P, q, G, h, A, b)\n",
    "alphas = np.array(sol['x'])"
   ]
  },
  {
   "cell_type": "code",
   "execution_count": 113,
   "metadata": {},
   "outputs": [
    {
     "name": "stdout",
     "output_type": "stream",
     "text": [
      "Alphas =  [0.00144346 0.00460682 0.00066177 0.00202853 0.00343005 0.00101425\n",
      " 0.00323673 0.0015483  0.00354578 0.00290193 0.00371118 0.00281004\n",
      " 0.0042194  0.00418364 0.00684896 0.00399155 0.00860468 0.00390808\n",
      " 0.00319156 0.00410369 0.0019162  0.00134921 0.00491714 0.01126432\n",
      " 0.00136064 0.00984111 0.0004934  0.00117244 0.00305769 0.00418232\n",
      " 0.00168339 0.0091686  0.00326189 0.0001915  0.00143949]\n",
      "w =  [ 0.00200061 -0.00132887 -0.00363671 ... -0.01154151 -0.01288506\n",
      " -0.01602337]\n",
      "b =  [0.05749543]\n"
     ]
    }
   ],
   "source": [
    "#w parameter in vectorized form\n",
    "w = ((y * alphas).T @ X.to_numpy()).reshape(-1,1)\n",
    "\n",
    "#Selecting the set of indices S corresponding to non zero parameters\n",
    "S = (alphas > 1e-4).flatten()\n",
    "\n",
    "#Computing b\n",
    "b = y[S] - np.dot(X[S], w)\n",
    "\n",
    "#Display results\n",
    "print('Alphas = ', alphas[alphas > 1e-4])\n",
    "print('w = ', w.flatten())\n",
    "print('b = ', b[0])"
   ]
  },
  {
   "cell_type": "markdown",
   "metadata": {},
   "source": [
    "## SVM with non-linearly separable data "
   ]
  },
  {
   "cell_type": "code",
   "execution_count": 114,
   "metadata": {},
   "outputs": [],
   "source": [
    "import numpy as np\n",
    "import matplotlib.pyplot as plt\n",
    "from matplotlib import animation, rc\n",
    "\n",
    "mu = [[20,20], [16,16], [24,24]]\n",
    "sigma_increase = [[10,9],[9,10]]\n",
    "sigma_decrease = [[10,-9],[-9,10]]\n",
    "\n",
    "num_of_clusters = 3\n",
    "i = 0\n",
    "c1 = np.random.multivariate_normal(mu[0], sigma_increase, 200)\n",
    "c2 = np.random.multivariate_normal(mu[1], sigma_decrease, 200)\n",
    "c3 = np.random.multivariate_normal(mu[2], sigma_decrease, 200)\n",
    "\n",
    "X = np.append(c1,c2, axis = 0)\n",
    "X = np.append(X,c3, axis = 0)\n",
    "\n",
    "y1 = np.repeat(1,200)\n",
    "y2 = np.repeat(2,200)"
   ]
  },
  {
   "cell_type": "code",
   "execution_count": 115,
   "metadata": {},
   "outputs": [],
   "source": [
    "import matplotlib.pyplot as plt\n",
    "from sklearn import svm\n",
    "from sklearn.svm import SVC\n",
    "\n",
    "from sklearn.model_selection import train_test_split\n",
    "X = np.concatenate([c1,c3],axis=0)\n",
    "y = np.concatenate([y1,y2],axis=0)\n",
    "\n",
    "X_train, X_test, y_train, y_test = train_test_split(X, y, test_size=0.20, random_state=42)"
   ]
  },
  {
   "cell_type": "code",
   "execution_count": 116,
   "metadata": {},
   "outputs": [
    {
     "data": {
      "image/png": "[encoded data removed]",
      "text/plain": [
       "<Figure size 432x288 with 1 Axes>"
      ]
     },
     "metadata": {
      "needs_background": "light"
     },
     "output_type": "display_data"
    }
   ],
   "source": [
    "def plotData(X, y):\n",
    "    \"\"\"Plots the data points X and y into a new figure \"\"\"\n",
    "    \n",
    "    y = y.flatten()\n",
    "    class1 = y==1\n",
    "    class2 = y==2\n",
    "    plt.figure(figsize=(6,4))    \n",
    "    plt.plot(X[:,0][class1], X[:,1][class1], \"r+\", markersize=5, label='class1')\n",
    "    plt.plot(X[:,0][class2], X[:,1][class2], \"b.\", markersize=5, label='class2')\n",
    "    plt.legend()\n",
    "    # shorter but not as clear\n",
    "    # plt.plot(X[:,0][pos], X[:,1][pos], 'k+', X[:,0][neg], X[:,1][neg], 'yo', markersize=15)  \n",
    "\n",
    "plotData(X_train, y_train)"
   ]
  },
  {
   "cell_type": "code",
   "execution_count": 118,
   "metadata": {},
   "outputs": [],
   "source": [
    "def svmTrainLinear(X, y, C, kernelFunction, tol=1e-3, max_passes=-1, sigma=0.1):\n",
    "    y = y.flatten()\n",
    "    clf = svm.SVC(C = C, kernel=kernelFunction, tol=tol, max_iter=max_passes, verbose=2)\n",
    "    return clf.fit(X, y)       \n",
    "\n",
    "    \n",
    "def visualizeBoundaryLinear(X, y, model):\n",
    "    plotData(X, y) \n",
    "    w = model.coef_[0]\n",
    "    b = model.intercept_[0]\n",
    "    xp = np.linspace(X[:,0].min(), X[:,0].max(), 100)\n",
    "    yp = - (w[0] * xp + b) / w[1]\n",
    "    plt.plot(xp, yp, 'b-')   \n",
    "    plt.show()"
   ]
  },
  {
   "cell_type": "code",
   "execution_count": 119,
   "metadata": {},
   "outputs": [
    {
     "name": "stdout",
     "output_type": "stream",
     "text": [
      "[LibSVM]"
     ]
    },
    {
     "data": {
      "image/png": "[encoded data removed]",
      "text/plain": [
       "<Figure size 432x288 with 1 Axes>"
      ]
     },
     "metadata": {
      "needs_background": "light"
     },
     "output_type": "display_data"
    }
   ],
   "source": [
    "C = 0.1\n",
    "linear_model = svmTrainLinear(X_train, y_train, C, \"linear\")\n",
    "visualizeBoundaryLinear(X, y, linear_model)"
   ]
  },
  {
   "cell_type": "code",
   "execution_count": 120,
   "metadata": {},
   "outputs": [
    {
     "data": {
      "text/plain": [
       "<Figure size 720x576 with 0 Axes>"
      ]
     },
     "metadata": {},
     "output_type": "display_data"
    },
    {
     "data": {
      "image/png": "[encoded data removed]",
      "text/plain": [
       "<Figure size 432x288 with 1 Axes>"
      ]
     },
     "metadata": {
      "needs_background": "light"
     },
     "output_type": "display_data"
    }
   ],
   "source": [
    "def visualizeBoundaryNonLinear(X, y, model):\n",
    "    plt.figure(figsize=(10,8))\n",
    "    plotData(X, y)\n",
    "    X_21,X_22 = np.meshgrid(np.linspace(X[:,0].min(),X[:,1].max(),num=100),np.linspace(X[:,1].min(),X[:,1].max(),num=100))\n",
    "    plt.contour(X_21,X_22,rbk_model.predict(np.array([X_21.ravel(),X_22.ravel()]).T).reshape(X_21.shape),1,colors=\"k\")\n",
    "    plt.legend()\n",
    "    plt.show()\n",
    "    \n",
    "rbk_model = SVC(kernel = \"rbf\", gamma = 10, C = 10)\n",
    "rbk_model.fit(X_train,y_train.ravel())\n",
    "visualizeBoundaryNonLinear(X_train, y_train, rbk_model)"
   ]
  },
  {
   "cell_type": "markdown",
   "metadata": {},
   "source": [
    "## SVM with Soft Margin"
   ]
  },
  {
   "cell_type": "code",
   "execution_count": 126,
   "metadata": {},
   "outputs": [],
   "source": [
    "# #Initializing values and computing H. Note the 1. to force to float type\n",
    "\n",
    "# df_colon = pd.read_csv('../data/colon.csv')\n",
    "\n",
    "# X = df_colon.drop('Class', axis=1)\n",
    "# y = df_colon['Class']\n",
    "\n",
    "# assert X.shape == (62, 2000)\n",
    "\n",
    "# X_train, X_test, y_train, y_test = train_test_split(X, y, test_size = 0.20)\n",
    "\n",
    "# C = 10\n",
    "# m,n = X.shape\n",
    "# # y = y.to.reshape(-1,1) * 1.\n",
    "# X_dash = y * X\n",
    "# H = np.dot(X_dash , X_dash.T) * 1.\n",
    "\n",
    "# #Converting into cvxopt format - as previously\n",
    "# P = cvxopt_matrix(H)\n",
    "# q = cvxopt_matrix(-np.ones((m, 1)))\n",
    "# G = cvxopt_matrix(np.vstack((np.eye(m)*-1,np.eye(m))))\n",
    "# h = cvxopt_matrix(np.hstack((np.zeros(m), np.ones(m) * C)))\n",
    "# A = cvxopt_matrix(y.reshape(1, -1))\n",
    "# b = cvxopt_matrix(np.zeros(1))\n",
    "\n",
    "# #Run solver\n",
    "# sol = cvxopt_solvers.qp(P, q, G, h, A, b)\n",
    "# alphas = np.array(sol['x'])\n",
    "\n",
    "# #==================Computing and printing parameters===============================#\n",
    "# w = ((y * alphas).T @ X.to_numpy()).reshape(-1,1)\n",
    "# S = (alphas > 1e-4).flatten()\n",
    "# b = y[S] - np.dot(X[S], w)\n",
    "\n",
    "# #Display results\n",
    "# print('X: ', X)\n",
    "# print('Alphas: ', alphas)\n",
    "# print('Alphas = ',alphas[alphas > 1e-4])\n",
    "# print('w = ', w.flatten())\n",
    "# print('b = ', b[0])"
   ]
  },
  {
   "cell_type": "code",
   "execution_count": 29,
   "metadata": {},
   "outputs": [
    {
     "data": {
      "text/plain": [
       "(2.7914999999999996,\n",
       " array([[47.46903428],\n",
       "        [47.46903429],\n",
       "        [47.46903427],\n",
       "        [47.46903428],\n",
       "        [47.46903429],\n",
       "        [47.46903428],\n",
       "        [47.46903429],\n",
       "        [47.46903428],\n",
       "        [47.46903429],\n",
       "        [47.46903428],\n",
       "        [47.46903429],\n",
       "        [47.46903428],\n",
       "        [47.46903429],\n",
       "        [47.46903429],\n",
       "        [47.46903429],\n",
       "        [47.46903429],\n",
       "        [47.46903429],\n",
       "        [47.46903429],\n",
       "        [47.46903429],\n",
       "        [47.46903429],\n",
       "        [47.4690343 ],\n",
       "        [47.4690343 ],\n",
       "        [47.46903429],\n",
       "        [47.46903429],\n",
       "        [47.4690343 ],\n",
       "        [47.46903429],\n",
       "        [47.46903432],\n",
       "        [47.4690343 ],\n",
       "        [47.46903429],\n",
       "        [47.46903429],\n",
       "        [47.4690343 ],\n",
       "        [47.46903429],\n",
       "        [47.46903429],\n",
       "        [47.46903438],\n",
       "        [47.4690343 ]]))"
      ]
     },
     "execution_count": 29,
     "metadata": {},
     "output_type": "execute_result"
    },
    {
     "data": {
      "image/png": "[encoded data removed]",
      "text/plain": [
       "<Figure size 432x288 with 1 Axes>"
      ]
     },
     "metadata": {
      "needs_background": "light"
     },
     "output_type": "display_data"
    }
   ],
   "source": [
    "# Xm = X.to_numpy()\n",
    "class0 = df_colon[df_colon['Class'] == -1]\n",
    "class0 = class0.drop('Class', axis = 1)\n",
    "class0 = class0.to_numpy()\n",
    "\n",
    "class1 = df_colon[df_colon['Class'] == 1]\n",
    "class1 = class1.drop('Class', axis = 1)\n",
    "class1 = class1.to_numpy()\n",
    "\n",
    "def get_axes():\n",
    "    axes = plt.axes()\n",
    "    plot0 = plt.scatter(np.array(class0[:22,0]), np.array(class0[:22,1]), s = 30, c='b', marker='o', label='Class 0')\n",
    "    plot1 = plt.scatter(np.array(class1[:22,0]), np.array(class1[:22,1]), s = 30, c='y', marker='o', label='Class 1')\n",
    "    axes.set_aspect('equal', 'datalim')\n",
    "    return axes\n",
    "\n",
    "def plot_w(w, b, axes):\n",
    "    ylim = axes.get_ylim()\n",
    "    xlim = axes.get_xlim()\n",
    "    p1 = (xlim[0], - (w[0,0] * xlim[0] + b) / w[1,0])\n",
    "    p2 = (xlim[1], - (w[0,0] * xlim[1] + b) / w[1,0])\n",
    "    plt.plot((p1[0],p2[0]), (p1[1],p2[1]), 'r-')\n",
    "\n",
    "\n",
    "def plot_w(w, b, axes):\n",
    "    ylim = axes.get_ylim()\n",
    "    xlim = axes.get_xlim()\n",
    "    p1 = (xlim[0], - (w[0,0] * xlim[0] + b) / w[1,0])\n",
    "    p2 = (xlim[1], - (w[0,0] * xlim[1] + b) / w[1,0])\n",
    "    print(p1)\n",
    "    plt.plot((p1[0],p2[0]), (p1[1],p2[1]), 'r-')\n",
    "\n",
    "axes = get_axes()\n",
    "# plot_w(w, b, axes)\n",
    "xlim = axes.get_xlim()\n",
    "p1 = (xlim[0], - (w[0,0] * xlim[0] + b) / w[1,0])\n",
    "p2 = (xlim[1], - (w[0,0] * xlim[1] + b) / w[1,0])\n",
    "# plt.plot((p1[0],p2[0]), (p1[1][1],p2[1][1]), 'r-')"
   ]
  },
  {
   "cell_type": "code",
   "execution_count": 95,
   "metadata": {},
   "outputs": [
    {
     "name": "stdout",
     "output_type": "stream",
     "text": [
      "Accuracy: 1.0\n"
     ]
    },
    {
     "data": {
      "image/png": "[encoded data removed]",
      "text/plain": [
       "<Figure size 432x288 with 1 Axes>"
      ]
     },
     "metadata": {
      "needs_background": "light"
     },
     "output_type": "display_data"
    }
   ],
   "source": [
    "import cvxopt\n",
    "from sklearn import datasets\n",
    "\n",
    "def linear(x, z):\n",
    "    return np.dot(x, z.T)\n",
    "\n",
    "def polynomial(x, z, p=5):\n",
    "    return (1 + np.dot(x, z.T)) ** p\n",
    "\n",
    "def gaussian(x, z, sigma=0.1):\n",
    "    return np.exp(-np.linalg.norm(x - z, axis=1) ** 2 / (2 * (sigma ** 2)))\n",
    "\n",
    "def plot_contour(X, y, svm):\n",
    "    # plot the resulting classifier\n",
    "    h = 0.01\n",
    "    x_min, x_max = X[:, 0].min() - 1, X[:, 0].max() + 1\n",
    "    y_min, y_max = X[:, 1].min() - 1, X[:, 1].max() + 1\n",
    "\n",
    "    xx, yy = np.meshgrid(np.arange(x_min, x_max, h), np.arange(y_min, y_max, h))\n",
    "\n",
    "    points = np.c_[xx.ravel(), yy.ravel()]\n",
    "\n",
    "    Z = svm.predict(points)\n",
    "    Z = Z.reshape(xx.shape)\n",
    "    plt.contourf(xx, yy, Z, cmap=plt.cm.Spectral, alpha=0.8)\n",
    "\n",
    "    # plt the points\n",
    "    plt.scatter(X[:, 0], X[:, 1], c=y, s=40, cmap=plt.cm.Spectral)\n",
    "\n",
    "\n",
    "class SVM:\n",
    "    def __init__(self, kernel=gaussian, C=1):\n",
    "        self.kernel = kernel\n",
    "        self.C = C\n",
    "\n",
    "    def fit(self, X, y):\n",
    "        self.y = y\n",
    "        self.X = X\n",
    "        m, n = X.shape\n",
    "\n",
    "        # Calculate Kernel\n",
    "        self.K = np.zeros((m, m))\n",
    "        for i in range(m):\n",
    "            self.K[i, :] = self.kernel(X[i, np.newaxis], self.X)\n",
    "\n",
    "        # Solve with cvxopt final QP needs to be reformulated\n",
    "        # to match the input form for cvxopt.solvers.qp\n",
    "        P = cvxopt.matrix(np.outer(y, y) * self.K)\n",
    "        q = cvxopt.matrix(-np.ones((m, 1)))\n",
    "        G = cvxopt.matrix(np.vstack((np.eye(m) * -1, np.eye(m))))\n",
    "        h = cvxopt.matrix(np.hstack((np.zeros(m), np.ones(m) * self.C)))\n",
    "        A = cvxopt.matrix(y, (1, m), \"d\")\n",
    "        b = cvxopt.matrix(np.zeros(1))\n",
    "        cvxopt.solvers.options[\"show_progress\"] = False\n",
    "        sol = cvxopt.solvers.qp(P, q, G, h, A, b)\n",
    "        self.alphas = np.array(sol[\"x\"])\n",
    "\n",
    "    def predict(self, X):  #<----this is X_test\n",
    "        y_predict = np.zeros((X.shape[0]))\n",
    "        sv = self.get_parameters(self.alphas)\n",
    "\n",
    "        for i in range(X.shape[0]):\n",
    "            y_predict[i] = np.sum(\n",
    "                self.alphas[sv]\n",
    "                * self.y[sv, np.newaxis]\n",
    "                * self.kernel(X[i], self.X[sv])[:, np.newaxis]\n",
    "            )\n",
    "\n",
    "        return np.sign(y_predict + self.b)\n",
    "\n",
    "    def get_parameters(self, alphas):\n",
    "        threshold = 1e-5\n",
    "\n",
    "        sv = ((alphas > threshold) * (alphas < self.C)).flatten()\n",
    "        self.w = np.dot(self.X[sv].T, alphas[sv] * self.y[sv, np.newaxis])\n",
    "        self.b = np.mean(\n",
    "            self.y[sv, np.newaxis]\n",
    "            - self.alphas[sv] * self.y[sv, np.newaxis] * self.K[sv, sv][:, np.newaxis]\n",
    "        )\n",
    "        return sv\n",
    "    \n",
    "if __name__ == \"__main__\":\n",
    "    X, y = datasets.make_moons(50)\n",
    "    \n",
    "    #transform our y to be -1 and 1 to meet svm purpose\n",
    "    y[y==0] = -1\n",
    "    \n",
    "    svm = SVM(kernel=gaussian)\n",
    "    svm.fit(X, y)\n",
    "    y_pred = svm.predict(X)\n",
    "    plot_contour(X, y, svm)\n",
    "\n",
    "    print(f\"Accuracy: {sum(y==y_pred)/y.shape[0]}\")"
   ]
  }
 ],
 "metadata": {
  "kernelspec": {
   "display_name": "Python 3.9.2 64-bit",
   "language": "python",
   "name": "python3"
  },
  "language_info": {
   "codemirror_mode": {
    "name": "ipython",
    "version": 3
   },
   "file_extension": ".py",
   "mimetype": "text/x-python",
   "name": "python",
   "nbconvert_exporter": "python",
   "pygments_lexer": "ipython3",
   "version": "3.9.2"
  },
  "orig_nbformat": 4,
  "vscode": {
   "interpreter": {
    "hash": "c6a2dc670f3436433c0efae6fb324965c1072d8aef0b90287abce79ee9328779"
   }
  }
 },
 "nbformat": 4,
 "nbformat_minor": 2
}
