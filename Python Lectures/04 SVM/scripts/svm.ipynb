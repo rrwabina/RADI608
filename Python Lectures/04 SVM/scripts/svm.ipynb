{
 "cells": [
  {
   "cell_type": "code",
   "execution_count": 12,
   "metadata": {},
   "outputs": [],
   "source": [
    "import pandas as pd\n",
    "import numpy as np\n",
    "import matplotlib.pyplot as plt\n",
    "\n",
    "from sklearn.model_selection import train_test_split\n",
    "from sklearn.svm import SVC\n",
    "from sklearn.metrics import classification_report, confusion_matrix"
   ]
  },
  {
   "cell_type": "code",
   "execution_count": 11,
   "metadata": {},
   "outputs": [],
   "source": [
    "df_colon = pd.read_csv('../data/colon.csv')\n",
    "\n",
    "X = df_colon.drop('Class', axis=1)\n",
    "y = df_colon['Class']\n",
    "\n",
    "assert X.shape == (62, 2000)\n",
    "\n",
    "X_train, X_test, y_train, y_test = train_test_split(X, y, test_size = 0.20)\n",
    "\n",
    "svclassifier = SVC(kernel='linear')\n",
    "svclassifier.fit(X_train, y_train)\n",
    "\n",
    "y_pred = svclassifier.predict(X_test)"
   ]
  },
  {
   "cell_type": "code",
   "execution_count": 14,
   "metadata": {},
   "outputs": [
    {
     "name": "stdout",
     "output_type": "stream",
     "text": [
      "[[10  1]\n",
      " [ 0  2]]\n",
      "              precision    recall  f1-score   support\n",
      "\n",
      "          -1       1.00      0.91      0.95        11\n",
      "           1       0.67      1.00      0.80         2\n",
      "\n",
      "    accuracy                           0.92        13\n",
      "   macro avg       0.83      0.95      0.88        13\n",
      "weighted avg       0.95      0.92      0.93        13\n",
      "\n",
      "              precision    recall  f1-score   support\n",
      "\n",
      "      Cancer       1.00      0.91      0.95        11\n",
      "     Healthy       0.67      1.00      0.80         2\n",
      "\n",
      "    accuracy                           0.92        13\n",
      "   macro avg       0.83      0.95      0.88        13\n",
      "weighted avg       0.95      0.92      0.93        13\n",
      "\n"
     ]
    }
   ],
   "source": [
    "confusion = confusion_matrix(y_test,y_pred)\n",
    "print(confusion)\n",
    "print(classification_report(y_test,y_pred))\n",
    "\n",
    "target_names = ['Cancer', 'Healthy']\n",
    "print(classification_report(y_test, y_pred, target_names=target_names))"
   ]
  }
 ],
 "metadata": {
  "kernelspec": {
   "display_name": "Python 3.9.2 64-bit",
   "language": "python",
   "name": "python3"
  },
  "language_info": {
   "codemirror_mode": {
    "name": "ipython",
    "version": 3
   },
   "file_extension": ".py",
   "mimetype": "text/x-python",
   "name": "python",
   "nbconvert_exporter": "python",
   "pygments_lexer": "ipython3",
   "version": "3.9.2"
  },
  "orig_nbformat": 4,
  "vscode": {
   "interpreter": {
    "hash": "c6a2dc670f3436433c0efae6fb324965c1072d8aef0b90287abce79ee9328779"
   }
  }
 },
 "nbformat": 4,
 "nbformat_minor": 2
}
