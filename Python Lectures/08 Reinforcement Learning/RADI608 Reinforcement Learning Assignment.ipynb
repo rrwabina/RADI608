{
 "cells": [
  {
   "cell_type": "markdown",
   "metadata": {},
   "source": [
    "## **RADI608: Data Mining and Machine Learning**\n",
    "\n",
    "### Assignment: Reinforcement Learning\n",
    "**Romen Samuel Rodis Wabina** <br>\n",
    "Student, PhD Data Science in Healthcare and Clinical Informatics <br>\n",
    "Clinical Epidemiology and Biostatistics, Faculty of Medicine (Ramathibodi Hospital) <br>\n",
    "Mahidol University\n",
    "\n",
    "Note: In case of Python Markdown errors, you may access the assignment through this GitHub [Link](https://github.com/rrwabina/RADI608/tree/main/Submitted)"
   ]
  },
  {
   "cell_type": "markdown",
   "metadata": {},
   "source": [
    "Environment: A two-dimensional (2D) slice of any biomedical images (i.e., study used magnetic resonance imaging (MRI) datasets) to reconstruct a masked patch within an image for context encoding in biomedical image classification. \n",
    "\n",
    "Action: <code>Bahrami et al. (2022)</code> defined the set of actions $A$ to be the set of $k \\times k$ overlapping image patches that can be selected to be masked, creating a finite action space of size $|A| = k^2$ where $k$ is a hyperparameter. The agent selects a patch of the image to be occluded based on its reward estimation of masking for each patch. <code>Bahrami et al. (2022)</code> designed a one-step episodic problem in which the input image is the current state $s = x$ that creates a continuous infinite state space.\n"
   ]
  },
  {
   "cell_type": "markdown",
   "metadata": {},
   "source": [
    "### Strategising Template-guided Needle Placement for MR-targeted Prostate Biopsy"
   ]
  },
  {
   "cell_type": "markdown",
   "metadata": {},
   "source": [
    "##### <code>Objective</code>: Investigate the feasibility of using reinforcement learning to plan patient-specific needle samplibg strategies, optimized in pre-operative magnetic resonance (MR)-derived RL environments. \n",
    "\n",
    "\n",
    "#### <code>Environment</code>\n",
    "The authors developed an environment for template-guided biopsy sampling of the cancer targets, the MDP components, and the policy learning strategy. The environment is a 2D-slice of an MR-derived biopsy environment where virtual biopsy needles can be inserted through the perineum via a brachytherapy template gtid consisting of $13 \\times 13$ holes that are 5 mm apart. There are certain considerations the author assumed in designing and constructing the adopted biopsy environment.\n",
    "\n",
    "1. The prostate gland from each MR volume, the MR-identified targets, and key landmarks such as the position of the rectum are all manually segmented from indivudal patients to construct the biopsy environment. \n",
    "2. Binary segmentation are provided as observations for the RL agents, as opposed to ultrasound image intensities, which are neither available during planning nor straightforward to synthesize from MR images. \n",
    "3. Uncertainty in MR-to-Ultrasound registration can be added to the segmented regions, together with other potential erros in localizing these errors during observation nsuch as observer variability in manual segmentation. "
   ]
  },
  {
   "cell_type": "markdown",
   "metadata": {},
   "source": [
    "#### <code>State</code>\n",
    "\n",
    "At a given time point $t$ during the procedure, the agent receives information about its current state $s_t ∈ S$ : the chosen grid point and the re-sampled 2D image plane obtained by rotating the probe to the current template grid position."
   ]
  }
 ],
 "metadata": {
  "kernelspec": {
   "display_name": "Python 3.8.5 ('base')",
   "language": "python",
   "name": "python3"
  },
  "language_info": {
   "name": "python",
   "version": "3.8.5"
  },
  "orig_nbformat": 4,
  "vscode": {
   "interpreter": {
    "hash": "3608206ce1eb198bd23abae205dd191f991de1c92dbe872a18ef9e948d8a869d"
   }
  }
 },
 "nbformat": 4,
 "nbformat_minor": 2
}
