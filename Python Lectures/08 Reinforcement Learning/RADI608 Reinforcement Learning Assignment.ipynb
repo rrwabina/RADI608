{
 "cells": [
  {
   "cell_type": "markdown",
   "metadata": {},
   "source": [
    "# Strategising Template-guided Needle Placement for MR-targeted Prostate Biopsy\n",
    "\n",
    "## Reinforcement Learning\n",
    "**Romen Samuel Rodis Wabina** <br>\n",
    "Student, PhD Data Science<br>\n",
    "\n",
    "```\n",
    "Gayo, I. J., Saeed, S. U., Barratt, D. C., Clarkson, M. J., & Hu, Y. (2022). Strategising template-guided needle placement for MR-targeted prostate biopsy. In MICCAI Workshop on Cancer Prevention through Early Detection (pp. 149-158). Springer, Cham.\n",
    "```"
   ]
  },
  {
   "cell_type": "markdown",
   "metadata": {},
   "source": [
    "<center>\n",
    "<img src = \"figures/model.JPG\" width = \"1250\"/> <br>\n",
    "</center>"
   ]
  },
  {
   "cell_type": "markdown",
   "metadata": {},
   "source": [
    "##### <code>Objective</code>: Investigate the feasibility of using Reinforcement Learning (RL) to plan the patient-specific needle sampling strategies, optimized in pre-operative magnetic resonance (MR)-derived RL environments. \n",
    "\n",
    "##### <code>Environment</code>: The authors developed an environment for template-guided biopsy sampling of the cancer targets. The environment is a 2D-slice of an MR-derived biopsy environment where virtual biopsy needles can be inserted through the perineum via a brachytherapy template gtid consisting of $13 \\times 13$ holes that are 5 mm apart. \n",
    "\n",
    "The following points are certain considerations the authors assumed in designing and constructing the adopted biopsy environment.\n",
    "\n",
    "1. The prostate gland from each MR volume, the MR-identified targets, and key landmarks such as the position of the rectum are all **manually segmented from indivudal patients to construct the biopsy environment**. \n",
    "2. Binary segmentation are provided as observations for the RL agents, as opposed to ultrasound image intensities, which are neither available during planning nor straightforward to synthesize from MR images. \n",
    "3. Uncertainty in MR-to-Ultrasound registration can be added to the segmented regions, together with other potential erros in localizing these errors during observation nsuch as observer variability in manual segmentation. "
   ]
  },
  {
   "cell_type": "markdown",
   "metadata": {},
   "source": [
    "##### <code>State</code>: At a given time point $t$ during the procedure, the agent receives information about its current state $s_t ∈ S$ : the chosen grid point and the re-sampled 2D image plane obtained by rotating the probe to the current template grid position."
   ]
  },
  {
   "cell_type": "markdown",
   "metadata": {},
   "source": [
    "## **RADI608: Data Mining and Machine Learning**\n",
    "\n",
    "### Assignment: Reinforcement Learning\n",
    "**Romen Samuel Rodis Wabina** <br>\n",
    "Student, PhD Data Science in Healthcare and Clinical Informatics <br>\n",
    "Clinical Epidemiology and Biostatistics, Faculty of Medicine (Ramathibodi Hospital) <br>\n",
    "Mahidol University\n",
    "\n",
    "Note: In case of Python Markdown errors, you may access the assignment through this GitHub [Link](https://github.com/rrwabina/RADI608/tree/main/Submitted)"
   ]
  }
 ],
 "metadata": {
  "kernelspec": {
   "display_name": "Python 3.8.5 ('base')",
   "language": "python",
   "name": "python3"
  },
  "language_info": {
   "codemirror_mode": {
    "name": "ipython",
    "version": 3
   },
   "file_extension": ".py",
   "mimetype": "text/x-python",
   "name": "python",
   "nbconvert_exporter": "python",
   "pygments_lexer": "ipython3",
   "version": "3.8.5"
  },
  "orig_nbformat": 4,
  "vscode": {
   "interpreter": {
    "hash": "3608206ce1eb198bd23abae205dd191f991de1c92dbe872a18ef9e948d8a869d"
   }
  }
 },
 "nbformat": 4,
 "nbformat_minor": 2
}
