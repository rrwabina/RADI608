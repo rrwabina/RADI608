{
 "cells": [
  {
   "attachments": {},
   "cell_type": "markdown",
   "metadata": {},
   "source": [
    "## Reinforcement Learning"
   ]
  },
  {
   "attachments": {},
   "cell_type": "markdown",
   "metadata": {},
   "source": [
    "#### 1. What is Reinforcement Learning?\n",
    "\n",
    "Reinforcement Learning (RL) is the science of decision making. It is a type of machine learning technique that enables an **agent** to learn in an **interactive environment** by *trial and error* using feedback from its own actions and experiences in order to maximize a reward.\n",
    "\n",
    "##### 1.1 Differences of RL to Supervised and Unsupervised Learning\n",
    "In supervised and reinforcement learning, both methods use mapping between input and output. However, unlike supervised learning where the feedback provided to the agent is correct set of actions for performing a task, **reinforcement learning uses rewards and punishments as signals for positive and negative behavior.** As compared to unsupervised learning, reinforcement learning is different in terms of goals. While the goal in unsupervised learning is to find similarities and differences between data points, in the case of reinforcement learning the goal is to find a suitable action model that would maximize the total cumulative reward of the agent. \n",
    "\n",
    "**How does Reinforcement Learning learn?** The agent receives positive or negative rewards based on its actions and uses this feedback to improve its behavior."
   ]
  },
  {
   "attachments": {},
   "cell_type": "markdown",
   "metadata": {},
   "source": [
    "<center>\n",
    "<img src = \"../figures/types.PNG\" width = \"500\"/> <br>\n",
    "Source: https://towardsdatascience.com/reinforcement-learning-101-e24b50e1d292\n",
    "</center>"
   ]
  },
  {
   "attachments": {},
   "cell_type": "markdown",
   "metadata": {},
   "source": [
    "#### 2. Examples of reinforcement learning\n",
    "\n",
    "One example of reinforcement learning is a robot learning to walk. The robot receives a positive reward for each step it takes without falling, and a negative reward for each time it falls. Over time, the robot learns to take better steps in order to maximize its reward.\n",
    "\n",
    "Another example is a self-driving car learning to navigate city streets. The car receives a positive reward for reaching its destination safely and efficiently, and a negative reward for crashing or breaking traffic laws. By learning from its mistakes, the car can improve its driving behavior over time."
   ]
  },
  {
   "attachments": {},
   "cell_type": "markdown",
   "metadata": {},
   "source": [
    "#### 3. How does it work?\n",
    "In reinforcement learning, an agent learns through trial and error. It takes actions in an environment and receives rewards or punishments based on those actions. The goal is for the agent to learn the best actions to take in a given state in order to maximize the reward.\n",
    "\n",
    "To do this, the agent needs to estimate the value of each action it can take in a given state. The value of an action is the expected reward the agent will receive if it takes that action. The agent can then choose the action with the highest value, or it can use a technique called \"exploration\" to try out different actions and see which ones lead to the most reward."
   ]
  },
  {
   "attachments": {},
   "cell_type": "markdown",
   "metadata": {},
   "source": [
    "#### 4. Key terms\n",
    "- Agent: The entity that is learning to interact with the environment.\n",
    "- Environment: The world in which the agent takes actions and receives rewards.\n",
    "- State: The current situation or condition of the agent and the environment.\n",
    "- Action: A choice that the agent can make in a given state.\n",
    "- Reward: A positive or negative value given to the agent based on its actions.\n",
    "- Value: The expected reward for taking a given action in a given state.\n",
    "- Policy: The strategy that the agent uses to choose actions based on the values of those actions."
   ]
  }
 ],
 "metadata": {
  "kernelspec": {
   "display_name": "base",
   "language": "python",
   "name": "python3"
  },
  "language_info": {
   "name": "python",
   "version": "3.8.5 (default, Sep  3 2020, 21:29:08) [MSC v.1916 64 bit (AMD64)]"
  },
  "orig_nbformat": 4,
  "vscode": {
   "interpreter": {
    "hash": "3608206ce1eb198bd23abae205dd191f991de1c92dbe872a18ef9e948d8a869d"
   }
  }
 },
 "nbformat": 4,
 "nbformat_minor": 2
}
