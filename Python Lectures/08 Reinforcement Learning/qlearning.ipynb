{
 "cells": [
  {
   "cell_type": "code",
   "execution_count": 74,
   "metadata": {},
   "outputs": [],
   "source": [
    "win_loss_states = [0,6]\n",
    "\n",
    "q_matrix = [[0, 0],\n",
    "            [0, 0],\n",
    "            [0, 0],\n",
    "            [0, 0],\n",
    "            [0, 0],\n",
    "            [0, 0],\n",
    "            [0, 0],\n",
    "            [0, 0],\n",
    "            [0, 0],\n",
    "            [0, 0]]\n",
    "\n",
    "environment_matrix = [  [None, 0],\n",
    "                        [-100, 0],\n",
    "                        [0, 0],\n",
    "                        [0, 0],\n",
    "                        [0, 0],\n",
    "                        [0, 100],\n",
    "                        [0, 0],\n",
    "                        [100, 0],\n",
    "                        [0, 0],\n",
    "                        [0, None]]\n",
    "\n",
    "def getAllPossibleNextAction(cur_pos):\n",
    "    step_matrix = [x != None for x in environment_matrix[cur_pos]]\n",
    "    action = []\n",
    "    if(step_matrix[0]):\n",
    "        action.append(0) \n",
    "    if(step_matrix[1]):\n",
    "        action.append(1)\n",
    "    return(action)\n",
    "\n",
    "def isGoalStateReached(cur_pos):\n",
    "    return (cur_pos in [6])\n",
    "\n",
    "def getNextState(cur_pos, action):\n",
    "    if (action == 0):\n",
    "        return cur_pos-1\n",
    "    else:\n",
    "        return cur_pos + 1\n",
    "\n",
    "def isGameOver(cur_pos):\n",
    "    return cur_pos in win_loss_states\n"
   ]
  },
  {
   "cell_type": "code",
   "execution_count": 79,
   "metadata": {},
   "outputs": [
    {
     "name": "stdout",
     "output_type": "stream",
     "text": [
      "Training done!\n",
      "[[   0.       0.   ]\n",
      " [-100.      65.61 ]\n",
      " [  59.049   72.9  ]\n",
      " [  65.61    81.   ]\n",
      " [  72.9     90.   ]\n",
      " [  81.     100.   ]\n",
      " [   0.       0.   ]\n",
      " [ 100.      81.   ]\n",
      " [  90.      72.9  ]\n",
      " [  81.       0.   ]]\n",
      "Training done!\n",
      "[[   0.       0.   ]\n",
      " [-100.      65.61 ]\n",
      " [  59.049   72.9  ]\n",
      " [  65.61    81.   ]\n",
      " [  72.9     90.   ]\n",
      " [  81.     100.   ]\n",
      " [   0.       0.   ]\n",
      " [ 100.      81.   ]\n",
      " [  90.      72.9  ]\n",
      " [  81.       0.   ]]\n",
      "Training done!\n",
      "[[   0.       0.   ]\n",
      " [-100.      65.61 ]\n",
      " [  59.049   72.9  ]\n",
      " [  65.61    81.   ]\n",
      " [  72.9     90.   ]\n",
      " [  81.     100.   ]\n",
      " [   0.       0.   ]\n",
      " [ 100.      81.   ]\n",
      " [  90.      72.9  ]\n",
      " [  81.       0.   ]]\n",
      "Training done!\n",
      "[[   0.       0.   ]\n",
      " [-100.      65.61 ]\n",
      " [  59.049   72.9  ]\n",
      " [  65.61    81.   ]\n",
      " [  72.9     90.   ]\n",
      " [  81.     100.   ]\n",
      " [   0.       0.   ]\n",
      " [ 100.      81.   ]\n",
      " [  90.      72.9  ]\n",
      " [  81.       0.   ]]\n",
      "Training done!\n",
      "[[   0.       0.   ]\n",
      " [-100.      65.61 ]\n",
      " [  59.049   72.9  ]\n",
      " [  65.61    81.   ]\n",
      " [  72.9     90.   ]\n",
      " [  81.     100.   ]\n",
      " [   0.       0.   ]\n",
      " [ 100.      81.   ]\n",
      " [  90.      72.9  ]\n",
      " [  81.       0.   ]]\n",
      "Training done!\n",
      "[[   0.       0.   ]\n",
      " [-100.      65.61 ]\n",
      " [  59.049   72.9  ]\n",
      " [  65.61    81.   ]\n",
      " [  72.9     90.   ]\n",
      " [  81.     100.   ]\n",
      " [   0.       0.   ]\n",
      " [ 100.      81.   ]\n",
      " [  90.      72.9  ]\n",
      " [  81.       0.   ]]\n",
      "Training done!\n",
      "[[   0.       0.   ]\n",
      " [-100.      65.61 ]\n",
      " [  59.049   72.9  ]\n",
      " [  65.61    81.   ]\n",
      " [  72.9     90.   ]\n",
      " [  81.     100.   ]\n",
      " [   0.       0.   ]\n",
      " [ 100.      81.   ]\n",
      " [  90.      72.9  ]\n",
      " [  81.       0.   ]]\n",
      "Training done!\n",
      "[[   0.       0.   ]\n",
      " [-100.      65.61 ]\n",
      " [  59.049   72.9  ]\n",
      " [  65.61    81.   ]\n",
      " [  72.9     90.   ]\n",
      " [  81.     100.   ]\n",
      " [   0.       0.   ]\n",
      " [ 100.      81.   ]\n",
      " [  90.      72.9  ]\n",
      " [  81.       0.   ]]\n",
      "Training done!\n",
      "[[   0.       0.   ]\n",
      " [-100.      65.61 ]\n",
      " [  59.049   72.9  ]\n",
      " [  65.61    81.   ]\n",
      " [  72.9     90.   ]\n",
      " [  81.     100.   ]\n",
      " [   0.       0.   ]\n",
      " [ 100.      81.   ]\n",
      " [  90.      72.9  ]\n",
      " [  81.       0.   ]]\n"
     ]
    }
   ],
   "source": [
    "import random\n",
    "import numpy as np\n",
    "discount = 0.9\n",
    "learning_rate = 0.1\n",
    "iterations = np.arange(100, 1000, 100)\n",
    "for iteration in iterations:\n",
    "    for _ in range(iteration):\n",
    "        # get starting place\n",
    "        cur_pos = random.choice([0, 1, 2, 3, 4, 5, 6, 7, 8, 9])\n",
    "        \n",
    "        # while goal state is not reached\n",
    "        while(not isGameOver(cur_pos)):\n",
    "            # get all possible next states from cur_step\n",
    "            possible_actions = getAllPossibleNextAction(cur_pos)\n",
    "            \n",
    "            # select any one action randomly\n",
    "            action = random.choice(possible_actions)\n",
    "            \n",
    "            # find the next state corresponding to the action selected\n",
    "            next_state = getNextState(cur_pos, action)\n",
    "            \n",
    "            # update the q_matrix\n",
    "            q_matrix[cur_pos][action] = q_matrix[cur_pos][action] + \\\n",
    "                                        learning_rate * (environment_matrix[cur_pos][action] + \\\n",
    "                                        discount * max(q_matrix[next_state]) -q_matrix[cur_pos][action])\n",
    "            # go to next state\n",
    "            cur_pos = next_state\n",
    "            # print(\"Episode \", _ , \" done\")\n",
    "\n",
    "    print(\"Training done!\")\n",
    "    print(np.round(q_matrix, 5))\n"
   ]
  },
  {
   "cell_type": "code",
   "execution_count": 71,
   "metadata": {},
   "outputs": [
    {
     "name": "stdout",
     "output_type": "stream",
     "text": [
      "[[  0.        0.     ]\n",
      " [-99.48462  59.67929]\n",
      " [ 49.7638   70.34364]\n",
      " [ 61.67513  79.07062]\n",
      " [ 69.53213  88.75407]\n",
      " [ 75.63726  99.53616]\n",
      " [  0.        0.     ]\n",
      " [ 99.93038  79.48298]\n",
      " [ 89.81442  72.43028]\n",
      " [ 80.72878   0.     ]]\n"
     ]
    }
   ],
   "source": [
    "print(np.round(q_matrix, 5))"
   ]
  },
  {
   "cell_type": "code",
   "execution_count": 72,
   "metadata": {},
   "outputs": [
    {
     "name": "stdout",
     "output_type": "stream",
     "text": [
      "Maximum value at index 0 with 0\n",
      "Maximum value at index 1 with 59.679\n",
      "Maximum value at index 2 with 70.344\n",
      "Maximum value at index 3 with 79.071\n",
      "Maximum value at index 4 with 88.754\n",
      "Maximum value at index 5 with 99.536\n",
      "Maximum value at index 6 with 0\n",
      "Maximum value at index 7 with 99.93\n",
      "Maximum value at index 8 with 89.814\n",
      "Maximum value at index 9 with 80.729\n"
     ]
    }
   ],
   "source": [
    "for index, value in enumerate(q_matrix):\n",
    "    print(f'Maximum value at index {index} with {np.max(np.round(q_matrix[index], 3))}')"
   ]
  },
  {
   "cell_type": "code",
   "execution_count": 73,
   "metadata": {},
   "outputs": [
    {
     "name": "stdout",
     "output_type": "stream",
     "text": [
      "Action for state 0 is Right!\n",
      "Action for state 1 is Left!\n",
      "Action for state 2 is Left!\n",
      "Action for state 3 is Left!\n",
      "Action for state 4 is Left!\n",
      "Action for state 5 is Left!\n",
      "Action for state 6 is Right!\n",
      "Action for state 7 is Left!\n",
      "Action for state 8 is Left!\n",
      "Action for state 9 is Left!\n"
     ]
    }
   ],
   "source": [
    "for index, value in enumerate(q_matrix):\n",
    "    if np.max(np.round(q_matrix[index][0], 3)):\n",
    "        print(f'Action for state {index} is Left!')\n",
    "    else:\n",
    "        print(f'Action for state {index} is Right!')"
   ]
  },
  {
   "cell_type": "code",
   "execution_count": 86,
   "metadata": {},
   "outputs": [
    {
     "data": {
      "image/png": "[encoded data removed]",
      "text/plain": [
       "<Figure size 432x288 with 1 Axes>"
      ]
     },
     "metadata": {},
     "output_type": "display_data"
    }
   ],
   "source": [
    "import networkx as nx\n",
    "import numpy as np\n",
    "import pylab as plt\n",
    "\n",
    "points_list = [(0,1), (1,5), (5,6), (5,4), (1,2), (2,3), (2,7)]\n",
    "goal = 7\n",
    "\n",
    "G=nx.Graph()\n",
    "G.add_edges_from(points_list)\n",
    "pos = nx.spring_layout(G)\n",
    "nx.draw_networkx_nodes(G,pos)\n",
    "nx.draw_networkx_edges(G,pos)\n",
    "nx.draw_networkx_labels(G,pos)\n",
    "plt.show()\n"
   ]
  },
  {
   "cell_type": "code",
   "execution_count": 90,
   "metadata": {},
   "outputs": [
    {
     "data": {
      "text/plain": [
       "matrix([[ -1.,   0.,  -1.,  -1.,  -1.,  -1.,  -1.,  -1.],\n",
       "        [  0.,  -1.,   0.,  -1.,  -1.,   0.,  -1.,  -1.],\n",
       "        [ -1.,   0.,  -1.,   0.,  -1.,  -1.,  -1., 100.],\n",
       "        [ -1.,  -1.,   0.,  -1.,  -1.,  -1.,  -1.,  -1.],\n",
       "        [ -1.,  -1.,  -1.,  -1.,  -1.,   0.,  -1.,  -1.],\n",
       "        [ -1.,   0.,  -1.,  -1.,   0.,  -1.,   0.,  -1.],\n",
       "        [ -1.,  -1.,  -1.,  -1.,  -1.,   0.,  -1.,  -1.],\n",
       "        [ -1.,  -1.,   0.,  -1.,  -1.,  -1.,  -1., 100.]])"
      ]
     },
     "execution_count": 90,
     "metadata": {},
     "output_type": "execute_result"
    }
   ],
   "source": [
    "MATRIX_SIZE = 8\n",
    "R  = np.matrix(np.ones(shape=(MATRIX_SIZE, MATRIX_SIZE)))\n",
    "R *= -1\n",
    "\n",
    "for point in points_list:\n",
    "    if point[1] == goal:\n",
    "        R[point] = 100\n",
    "    else:\n",
    "        R[point] = 0\n",
    "    if point[0] == goal:\n",
    "        R[point[::-1]] = 100\n",
    "    else:\n",
    "        R[point[::-1]]= 0\n",
    "R[goal,goal]= 100\n",
    "R"
   ]
  },
  {
   "cell_type": "code",
   "execution_count": 101,
   "metadata": {},
   "outputs": [
    {
     "name": "stdout",
     "output_type": "stream",
     "text": [
      "[[  0.          63.99188292   0.           0.           0.\n",
      "    0.           0.           0.        ]\n",
      " [ 51.19350634   0.          79.98985365   0.           0.\n",
      "   51.16255997   0.           0.        ]\n",
      " [  0.          63.99188292   0.          63.99188292   0.\n",
      "    0.           0.         100.        ]\n",
      " [  0.           0.          80.           0.           0.\n",
      "    0.           0.           0.        ]\n",
      " [  0.           0.           0.           0.           0.\n",
      "   51.16255997   0.           0.        ]\n",
      " [  0.          63.95319996   0.           0.          40.93004798\n",
      "    0.          40.93004798   0.        ]\n",
      " [  0.           0.           0.           0.           0.\n",
      "   51.16255997   0.           0.        ]\n",
      " [  0.           0.          80.           0.           0.\n",
      "    0.           0.          99.98731706]]\n"
     ]
    }
   ],
   "source": [
    "Q = np.matrix(np.zeros([MATRIX_SIZE,MATRIX_SIZE]))\n",
    "\n",
    "gamma = 0.8\n",
    "initial_state = 1\n",
    "\n",
    "def available_actions(state):\n",
    "    current_state_row = R[state,]\n",
    "    av_act = np.where(current_state_row >= 0)[1]\n",
    "    return av_act\n",
    "available_act = available_actions(initial_state)\n",
    "available_act\n",
    "\n",
    "def sample_next_action(available_actions_range):\n",
    "    next_action = int(np.random.choice(available_act,1))\n",
    "    return next_action\n",
    "action = sample_next_action(available_act)\n",
    "\n",
    "def update(current_state, action, gamma):\n",
    "    max_index = np.where(Q[action,] == np.max(Q[action,]))[1]\n",
    "    if max_index.shape[0] > 1:\n",
    "        max_index = int(np.random.choice(max_index, size = 1))\n",
    "    else:\n",
    "        max_index = int(max_index)\n",
    "    max_value = Q[action, max_index]\n",
    "    Q[current_state, action] = R[current_state, action] + gamma * max_value\n",
    "    # print('max_value', R[current_state, action] + gamma * max_value)\n",
    "    if (np.max(Q) > 0):\n",
    "        return(np.sum(Q/np.max(Q)*100))\n",
    "    else:\n",
    "        return (0)\n",
    "# update(initial_state, action, gamma)\n",
    "\n",
    "scores = []\n",
    "for i in range(700):\n",
    "    current_state = np.random.randint(0, int(Q.shape[0]))\n",
    "    available_act = available_actions(current_state)\n",
    "    action = sample_next_action(available_act)\n",
    "    score = update(current_state,action,gamma)\n",
    "    scores.append(score)\n",
    "    # print ('Score:', str(score))\n",
    "\n",
    "# print(\"Trained Q matrix:\")\n",
    "print(Q/np.max(Q)*100)\n"
   ]
  },
  {
   "cell_type": "code",
   "execution_count": 102,
   "metadata": {},
   "outputs": [],
   "source": [
    "# Testing\n",
    "current_state = 0\n",
    "steps = [current_state]\n",
    "while current_state!= 7:\n",
    "    next_step_index = np.where(Q[current_state,] == np.max(Q[current_state,]))[1]\n",
    "    if next_step_index.shape[0] > 1:\n",
    "        next_step_index = int(np.random.choice(next_step_index, size = 1))\n",
    "    else:\n",
    "        next_step_index = int(next_step_index)\n",
    "    steps.append(next_step_index)\n",
    "    current_state = next_step_index"
   ]
  },
  {
   "cell_type": "code",
   "execution_count": 103,
   "metadata": {},
   "outputs": [
    {
     "name": "stdout",
     "output_type": "stream",
     "text": [
      "Most efficient path:\n",
      "[0, 1, 2, 7]\n"
     ]
    },
    {
     "data": {
      "image/png": "[encoded data removed]",
      "text/plain": [
       "<Figure size 432x288 with 1 Axes>"
      ]
     },
     "metadata": {
      "needs_background": "light"
     },
     "output_type": "display_data"
    }
   ],
   "source": [
    "print(\"Most efficient path:\")\n",
    "print(steps)\n",
    "plt.plot(scores)\n",
    "plt.show()"
   ]
  }
 ],
 "metadata": {
  "kernelspec": {
   "display_name": "Python 3.8.5 ('base')",
   "language": "python",
   "name": "python3"
  },
  "language_info": {
   "codemirror_mode": {
    "name": "ipython",
    "version": 3
   },
   "file_extension": ".py",
   "mimetype": "text/x-python",
   "name": "python",
   "nbconvert_exporter": "python",
   "pygments_lexer": "ipython3",
   "version": "3.8.5"
  },
  "orig_nbformat": 4,
  "vscode": {
   "interpreter": {
    "hash": "3608206ce1eb198bd23abae205dd191f991de1c92dbe872a18ef9e948d8a869d"
   }
  }
 },
 "nbformat": 4,
 "nbformat_minor": 2
}
