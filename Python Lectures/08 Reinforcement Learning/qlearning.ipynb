{
 "cells": [
  {
   "attachments": {},
   "cell_type": "markdown",
   "metadata": {},
   "source": [
    "## Reinforcement Learning\n",
    "\n",
    "BSDS4 Deep Learning Elective\n",
    "2022 DS Elective 4 <br>\n",
    "University of Science and Technology of the Philippines <br>\n",
    "Instructor: Romen Samuel Wabina, MSc <br>"
   ]
  },
  {
   "cell_type": "code",
   "execution_count": 1,
   "metadata": {},
   "outputs": [],
   "source": [
    "win_loss_states = [0,6]\n",
    "\n",
    "q_matrix = [[0, 0],\n",
    "            [0, 0],\n",
    "            [0, 0],\n",
    "            [0, 0],\n",
    "            [0, 0],\n",
    "            [0, 0],\n",
    "            [0, 0],\n",
    "            [0, 0],\n",
    "            [0, 0],\n",
    "            [0, 0]]\n",
    "\n",
    "environment_matrix = [  [None, 0],\n",
    "                        [-100, 0],\n",
    "                        [0, 0],\n",
    "                        [0, 0],\n",
    "                        [0, 0],\n",
    "                        [0, 100],\n",
    "                        [0, 0],\n",
    "                        [100, 0],\n",
    "                        [0, 0],\n",
    "                        [0, None]]\n",
    "\n",
    "def getAllPossibleNextAction(cur_pos):\n",
    "    step_matrix = [x != None for x in environment_matrix[cur_pos]]\n",
    "    action = []\n",
    "    if(step_matrix[0]):\n",
    "        action.append(0) \n",
    "    if(step_matrix[1]):\n",
    "        action.append(1)\n",
    "    return(action)\n",
    "\n",
    "def isGoalStateReached(cur_pos):\n",
    "    return (cur_pos in [6])\n",
    "\n",
    "def getNextState(cur_pos, action):\n",
    "    if (action == 0):\n",
    "        return cur_pos-1\n",
    "    else:\n",
    "        return cur_pos + 1\n",
    "\n",
    "def isGameOver(cur_pos):\n",
    "    return cur_pos in win_loss_states\n"
   ]
  },
  {
   "cell_type": "code",
   "execution_count": 2,
   "metadata": {},
   "outputs": [
    {
     "name": "stdout",
     "output_type": "stream",
     "text": [
      "Training done!\n",
      "[[  0.        0.     ]\n",
      " [-96.90968  27.4983 ]\n",
      " [ 16.76654  47.02668]\n",
      " [ 37.30491  58.54903]\n",
      " [ 47.75402  71.35427]\n",
      " [ 50.56086  89.0581 ]\n",
      " [  0.        0.     ]\n",
      " [ 94.76652  56.83053]\n",
      " [ 79.37049  48.74142]\n",
      " [ 64.72681   0.     ]]\n",
      "Training done!\n",
      "[[  0.        0.     ]\n",
      " [-99.9871   64.57621]\n",
      " [ 57.39934  72.60751]\n",
      " [ 64.96431  80.84732]\n",
      " [ 72.53759  89.94011]\n",
      " [ 80.58658  99.98034]\n",
      " [  0.        0.     ]\n",
      " [ 99.98955  80.78217]\n",
      " [ 89.97085  72.73522]\n",
      " [ 80.93058   0.     ]]\n",
      "Training done!\n",
      "[[   0.         0.     ]\n",
      " [-100.        65.6088 ]\n",
      " [  59.04738   72.89971]\n",
      " [  65.60953   80.99986]\n",
      " [  72.89966   89.99995]\n",
      " [  80.9996    99.99997]\n",
      " [   0.         0.     ]\n",
      " [ 100.        80.9999 ]\n",
      " [  90.        72.89995]\n",
      " [  80.99999    0.     ]]\n",
      "Training done!\n",
      "[[   0.       0.   ]\n",
      " [-100.      65.61 ]\n",
      " [  59.049   72.9  ]\n",
      " [  65.61    81.   ]\n",
      " [  72.9     90.   ]\n",
      " [  81.     100.   ]\n",
      " [   0.       0.   ]\n",
      " [ 100.      81.   ]\n",
      " [  90.      72.9  ]\n",
      " [  81.       0.   ]]\n",
      "Training done!\n",
      "[[   0.       0.   ]\n",
      " [-100.      65.61 ]\n",
      " [  59.049   72.9  ]\n",
      " [  65.61    81.   ]\n",
      " [  72.9     90.   ]\n",
      " [  81.     100.   ]\n",
      " [   0.       0.   ]\n",
      " [ 100.      81.   ]\n",
      " [  90.      72.9  ]\n",
      " [  81.       0.   ]]\n",
      "Training done!\n",
      "[[   0.       0.   ]\n",
      " [-100.      65.61 ]\n",
      " [  59.049   72.9  ]\n",
      " [  65.61    81.   ]\n",
      " [  72.9     90.   ]\n",
      " [  81.     100.   ]\n",
      " [   0.       0.   ]\n",
      " [ 100.      81.   ]\n",
      " [  90.      72.9  ]\n",
      " [  81.       0.   ]]\n",
      "Training done!\n",
      "[[   0.       0.   ]\n",
      " [-100.      65.61 ]\n",
      " [  59.049   72.9  ]\n",
      " [  65.61    81.   ]\n",
      " [  72.9     90.   ]\n",
      " [  81.     100.   ]\n",
      " [   0.       0.   ]\n",
      " [ 100.      81.   ]\n",
      " [  90.      72.9  ]\n",
      " [  81.       0.   ]]\n",
      "Training done!\n",
      "[[   0.       0.   ]\n",
      " [-100.      65.61 ]\n",
      " [  59.049   72.9  ]\n",
      " [  65.61    81.   ]\n",
      " [  72.9     90.   ]\n",
      " [  81.     100.   ]\n",
      " [   0.       0.   ]\n",
      " [ 100.      81.   ]\n",
      " [  90.      72.9  ]\n",
      " [  81.       0.   ]]\n",
      "Training done!\n",
      "[[   0.       0.   ]\n",
      " [-100.      65.61 ]\n",
      " [  59.049   72.9  ]\n",
      " [  65.61    81.   ]\n",
      " [  72.9     90.   ]\n",
      " [  81.     100.   ]\n",
      " [   0.       0.   ]\n",
      " [ 100.      81.   ]\n",
      " [  90.      72.9  ]\n",
      " [  81.       0.   ]]\n"
     ]
    }
   ],
   "source": [
    "import random\n",
    "import numpy as np\n",
    "\n",
    "discount = 0.9\n",
    "learning_rate = 0.1\n",
    "iterations = np.arange(100, 1000, 100)\n",
    "\n",
    "for iteration in iterations:\n",
    "    for _ in range(iteration):\n",
    "        # get starting place\n",
    "        cur_pos = random.choice([0, 1, 2, 3, 4, 5, 6, 7, 8, 9])\n",
    "        \n",
    "        # while goal state is not reached\n",
    "        while(not isGameOver(cur_pos)):\n",
    "            # get all possible next states from cur_step\n",
    "            possible_actions = getAllPossibleNextAction(cur_pos)\n",
    "            \n",
    "            # select any one action randomly\n",
    "            action = random.choice(possible_actions)\n",
    "            \n",
    "            # find the next state corresponding to the action selected\n",
    "            next_state = getNextState(cur_pos, action)\n",
    "            \n",
    "            # update the q_matrix\n",
    "            q_matrix[cur_pos][action] = q_matrix[cur_pos][action] + \\\n",
    "                                        learning_rate * (environment_matrix[cur_pos][action] + \\\n",
    "                                        discount * max(q_matrix[next_state]) -q_matrix[cur_pos][action])\n",
    "            # go to next state\n",
    "            cur_pos = next_state\n",
    "            # print(\"Episode \", _ , \" done\")\n",
    "\n",
    "    print(\"Training done!\")\n",
    "    print(np.round(q_matrix, 5))\n"
   ]
  },
  {
   "cell_type": "code",
   "execution_count": 11,
   "metadata": {},
   "outputs": [
    {
     "name": "stdout",
     "output_type": "stream",
     "text": [
      "[[   0.       0.   ]\n",
      " [-100.      65.61 ]\n",
      " [  59.049   72.9  ]\n",
      " [  65.61    81.   ]\n",
      " [  72.9     90.   ]\n",
      " [  81.     100.   ]\n",
      " [   0.       0.   ]\n",
      " [ 100.      81.   ]\n",
      " [  90.      72.9  ]\n",
      " [  81.       0.   ]]\n"
     ]
    }
   ],
   "source": [
    "print(np.round(q_matrix, 5))"
   ]
  },
  {
   "attachments": {},
   "cell_type": "markdown",
   "metadata": {},
   "source": [
    "### AI with Assisted Q-Learning\n",
    "A Simple Python Example and a Step Closer to AI with Assisted Q-Learning"
   ]
  },
  {
   "cell_type": "code",
   "execution_count": 6,
   "metadata": {},
   "outputs": [
    {
     "data": {
      "image/png": "[encoded data removed]",
      "text/plain": [
       "<Figure size 432x288 with 1 Axes>"
      ]
     },
     "metadata": {},
     "output_type": "display_data"
    }
   ],
   "source": [
    "import networkx as nx\n",
    "import numpy as np\n",
    "import pylab as plt\n",
    "\n",
    "points_list = [(0,1), (1,5), (5,6), (5,4), (1,2), (2,3), (2,7)]\n",
    "goal = 7\n",
    "\n",
    "G=nx.Graph()\n",
    "G.add_edges_from(points_list)\n",
    "pos = nx.spring_layout(G)\n",
    "nx.draw_networkx_nodes(G,pos)\n",
    "nx.draw_networkx_edges(G,pos)\n",
    "nx.draw_networkx_labels(G,pos)\n",
    "plt.show()\n"
   ]
  },
  {
   "cell_type": "code",
   "execution_count": 7,
   "metadata": {},
   "outputs": [
    {
     "data": {
      "text/plain": [
       "matrix([[ -1.,   0.,  -1.,  -1.,  -1.,  -1.,  -1.,  -1.],\n",
       "        [  0.,  -1.,   0.,  -1.,  -1.,   0.,  -1.,  -1.],\n",
       "        [ -1.,   0.,  -1.,   0.,  -1.,  -1.,  -1., 100.],\n",
       "        [ -1.,  -1.,   0.,  -1.,  -1.,  -1.,  -1.,  -1.],\n",
       "        [ -1.,  -1.,  -1.,  -1.,  -1.,   0.,  -1.,  -1.],\n",
       "        [ -1.,   0.,  -1.,  -1.,   0.,  -1.,   0.,  -1.],\n",
       "        [ -1.,  -1.,  -1.,  -1.,  -1.,   0.,  -1.,  -1.],\n",
       "        [ -1.,  -1.,   0.,  -1.,  -1.,  -1.,  -1., 100.]])"
      ]
     },
     "execution_count": 7,
     "metadata": {},
     "output_type": "execute_result"
    }
   ],
   "source": [
    "MATRIX_SIZE = 8\n",
    "R  = np.matrix(np.ones(shape=(MATRIX_SIZE, MATRIX_SIZE)))\n",
    "R *= -1\n",
    "\n",
    "for point in points_list:\n",
    "    if point[1] == goal:\n",
    "        R[point] = 100\n",
    "    else:\n",
    "        R[point] = 0\n",
    "    if point[0] == goal:\n",
    "        R[point[::-1]] = 100\n",
    "    else:\n",
    "        R[point[::-1]]= 0\n",
    "R[goal,goal]= 100\n",
    "R"
   ]
  },
  {
   "cell_type": "code",
   "execution_count": 8,
   "metadata": {},
   "outputs": [
    {
     "name": "stdout",
     "output_type": "stream",
     "text": [
      "[[  0.          63.99950379   0.           0.           0.\n",
      "    0.           0.           0.        ]\n",
      " [ 51.19910683   0.          79.99937974   0.           0.\n",
      "   51.19212347   0.           0.        ]\n",
      " [  0.          63.99950379   0.          63.99888353   0.\n",
      "    0.           0.         100.        ]\n",
      " [  0.           0.          80.           0.           0.\n",
      "    0.           0.           0.        ]\n",
      " [  0.           0.           0.           0.           0.\n",
      "   51.19960303   0.           0.        ]\n",
      " [  0.          63.99950379   0.           0.          40.95928546\n",
      "    0.          40.95928546   0.        ]\n",
      " [  0.           0.           0.           0.           0.\n",
      "   51.19910683   0.           0.        ]\n",
      " [  0.           0.          80.           0.           0.\n",
      "    0.           0.          99.99922468]]\n"
     ]
    }
   ],
   "source": [
    "Q = np.matrix(np.zeros([MATRIX_SIZE,MATRIX_SIZE]))\n",
    "\n",
    "gamma = 0.8\n",
    "initial_state = 1\n",
    "\n",
    "def available_actions(state):\n",
    "    current_state_row = R[state,]\n",
    "    av_act = np.where(current_state_row >= 0)[1]\n",
    "    return av_act\n",
    "available_act = available_actions(initial_state)\n",
    "available_act\n",
    "\n",
    "def sample_next_action(available_actions_range):\n",
    "    next_action = int(np.random.choice(available_act,1))\n",
    "    return next_action\n",
    "action = sample_next_action(available_act)\n",
    "\n",
    "def update(current_state, action, gamma):\n",
    "    max_index = np.where(Q[action,] == np.max(Q[action,]))[1]\n",
    "    if max_index.shape[0] > 1:\n",
    "        max_index = int(np.random.choice(max_index, size = 1))\n",
    "    else:\n",
    "        max_index = int(max_index)\n",
    "    max_value = Q[action, max_index]\n",
    "    Q[current_state, action] = R[current_state, action] + gamma * max_value\n",
    "    # print('max_value', R[current_state, action] + gamma * max_value)\n",
    "    if (np.max(Q) > 0):\n",
    "        return(np.sum(Q/np.max(Q)*100))\n",
    "    else:\n",
    "        return (0)\n",
    "# update(initial_state, action, gamma)\n",
    "\n",
    "scores = []\n",
    "for i in range(700):\n",
    "    current_state = np.random.randint(0, int(Q.shape[0]))\n",
    "    available_act = available_actions(current_state)\n",
    "    action = sample_next_action(available_act)\n",
    "    score = update(current_state,action,gamma)\n",
    "    scores.append(score)\n",
    "    # print ('Score:', str(score))\n",
    "\n",
    "# print(\"Trained Q matrix:\")\n",
    "print(Q/np.max(Q)*100)\n"
   ]
  },
  {
   "cell_type": "code",
   "execution_count": 9,
   "metadata": {},
   "outputs": [],
   "source": [
    "# Testing\n",
    "current_state = 0\n",
    "steps = [current_state]\n",
    "while current_state!= 7:\n",
    "    next_step_index = np.where(Q[current_state,] == np.max(Q[current_state,]))[1]\n",
    "    if next_step_index.shape[0] > 1:\n",
    "        next_step_index = int(np.random.choice(next_step_index, size = 1))\n",
    "    else:\n",
    "        next_step_index = int(next_step_index)\n",
    "    steps.append(next_step_index)\n",
    "    current_state = next_step_index"
   ]
  },
  {
   "cell_type": "code",
   "execution_count": 10,
   "metadata": {},
   "outputs": [
    {
     "name": "stdout",
     "output_type": "stream",
     "text": [
      "Most efficient path:\n",
      "[0, 1, 2, 7]\n"
     ]
    },
    {
     "data": {
      "image/png": "[encoded data removed]",
      "text/plain": [
       "<Figure size 432x288 with 1 Axes>"
      ]
     },
     "metadata": {
      "needs_background": "light"
     },
     "output_type": "display_data"
    }
   ],
   "source": [
    "print(\"Most efficient path:\")\n",
    "print(steps)\n",
    "plt.plot(scores)\n",
    "plt.show()"
   ]
  }
 ],
 "metadata": {
  "kernelspec": {
   "display_name": "Python 3.8.5 ('base')",
   "language": "python",
   "name": "python3"
  },
  "language_info": {
   "codemirror_mode": {
    "name": "ipython",
    "version": 3
   },
   "file_extension": ".py",
   "mimetype": "text/x-python",
   "name": "python",
   "nbconvert_exporter": "python",
   "pygments_lexer": "ipython3",
   "version": "3.8.5"
  },
  "orig_nbformat": 4,
  "vscode": {
   "interpreter": {
    "hash": "3608206ce1eb198bd23abae205dd191f991de1c92dbe872a18ef9e948d8a869d"
   }
  }
 },
 "nbformat": 4,
 "nbformat_minor": 2
}
