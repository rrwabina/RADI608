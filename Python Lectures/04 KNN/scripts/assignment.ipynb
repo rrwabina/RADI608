{
 "cells": [
  {
   "cell_type": "code",
   "execution_count": 29,
   "metadata": {},
   "outputs": [],
   "source": [
    "import pandas as pd\n",
    "import numpy as np\n",
    "import matplotlib.pyplot as plt\n",
    "import random \n",
    "import warnings \n",
    "warnings.filterwarnings('ignore')\n",
    "\n",
    "\n",
    "from matplotlib.colors import ListedColormap\n",
    "from sklearn import neighbors, datasets\n",
    "\n",
    "from sklearn.neighbors import KNeighborsClassifier\n",
    "from sklearn.neighbors import NearestNeighbors\n",
    "from sklearn.model_selection import train_test_split\n",
    "from sklearn.neighbors import KNeighborsClassifier\n",
    "from sklearn.model_selection import StratifiedShuffleSplit, GridSearchCV\n",
    "from sklearn.metrics import classification_report, confusion_matrix, make_scorer, f1_score\n",
    "from sklearn.preprocessing import StandardScaler"
   ]
  },
  {
   "cell_type": "code",
   "execution_count": 30,
   "metadata": {},
   "outputs": [],
   "source": [
    "df_colon = pd.read_csv('../data/colon.csv')\n",
    "XX = df_colon.drop('Class', axis = 1)\n",
    "yy = df_colon['Class']\n",
    "X, y = XX.to_numpy(), yy.to_numpy()\n",
    "y = y.flatten()"
   ]
  },
  {
   "cell_type": "code",
   "execution_count": 31,
   "metadata": {},
   "outputs": [
    {
     "name": "stdout",
     "output_type": "stream",
     "text": [
      "The best parameters are {'n_neighbors': 5} with a score of 0.76\n",
      "=========Classification report=======\n",
      "Report:                precision    recall  f1-score   support\n",
      "\n",
      "          -1       0.67      0.75      0.71         8\n",
      "           1       0.50      0.40      0.44         5\n",
      "\n",
      "    accuracy                           0.62        13\n",
      "   macro avg       0.58      0.57      0.58        13\n",
      "weighted avg       0.60      0.62      0.61        13\n",
      "\n"
     ]
    }
   ],
   "source": [
    "random.seed(413)\n",
    "X_train, X_test, y_train, y_test = train_test_split(X, y, test_size = 0.2, random_state = 42)\n",
    "scaler = StandardScaler()\n",
    "X_train = scaler.fit_transform(X_train)\n",
    "X_test = scaler.transform(X_test)\n",
    "\n",
    "model = KNeighborsClassifier(weights = 'distance')\n",
    "param_grid = {\"n_neighbors\": np.arange(2, 12)}\n",
    "\n",
    "cv = StratifiedShuffleSplit(n_splits = 5, test_size = 0.2, random_state = 42)\n",
    "grid = GridSearchCV(model, param_grid = param_grid, cv = cv, refit = True)\n",
    "grid.fit(X_train, y_train)\n",
    "\n",
    "print(f\"The best parameters are {grid.best_params_} with\" + f\" a score of {grid.best_score_:.2f}\")\n",
    "\n",
    "yhat = grid.predict(X_test)\n",
    "    \n",
    "print(\"=========Classification report=======\")\n",
    "print(\"Report: \", classification_report(y_test, yhat))"
   ]
  },
  {
   "cell_type": "code",
   "execution_count": 32,
   "metadata": {},
   "outputs": [
    {
     "name": "stdout",
     "output_type": "stream",
     "text": [
      "The best parameters are {'n_neighbors': 5} with a score of 0.76\n",
      "=========Classification report=======\n",
      "Report:                precision    recall  f1-score   support\n",
      "\n",
      "          -1       0.67      0.75      0.71         8\n",
      "           1       0.50      0.40      0.44         5\n",
      "\n",
      "    accuracy                           0.62        13\n",
      "   macro avg       0.58      0.57      0.58        13\n",
      "weighted avg       0.60      0.62      0.61        13\n",
      "\n"
     ]
    }
   ],
   "source": [
    "model = KNeighborsClassifier(weights = 'uniform')\n",
    "param_grid = {\"n_neighbors\": np.arange(2, 12)}\n",
    "\n",
    "cv = StratifiedShuffleSplit(n_splits = 5, test_size = 0.2, random_state = 42)\n",
    "grid = GridSearchCV(model, param_grid = param_grid, cv = cv, refit = True)\n",
    "grid.fit(X_train, y_train)\n",
    "\n",
    "print(f\"The best parameters are {grid.best_params_} with\" + f\" a score of {grid.best_score_:.2f}\")\n",
    "\n",
    "yhat = grid.predict(X_test)\n",
    "    \n",
    "print(\"=========Classification report=======\")\n",
    "print(\"Report: \", classification_report(y_test, yhat))"
   ]
  }
 ],
 "metadata": {
  "kernelspec": {
   "display_name": "Python 3.9.2 64-bit",
   "language": "python",
   "name": "python3"
  },
  "language_info": {
   "codemirror_mode": {
    "name": "ipython",
    "version": 3
   },
   "file_extension": ".py",
   "mimetype": "text/x-python",
   "name": "python",
   "nbconvert_exporter": "python",
   "pygments_lexer": "ipython3",
   "version": "3.9.2"
  },
  "orig_nbformat": 4,
  "vscode": {
   "interpreter": {
    "hash": "c6a2dc670f3436433c0efae6fb324965c1072d8aef0b90287abce79ee9328779"
   }
  }
 },
 "nbformat": 4,
 "nbformat_minor": 2
}
