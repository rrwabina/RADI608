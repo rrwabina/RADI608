{
 "cells": [
  {
   "attachments": {},
   "cell_type": "markdown",
   "metadata": {},
   "source": [
    "## Model Deployment: Pickle\n",
    "\n",
    "BSDS4 Deep Learning Elective\n",
    "2022 DS Elective 4 <br>\n",
    "University of Science and Technology of the Philippines <br>\n",
    "Instructor: Romen Samuel Wabina, MSc <br>"
   ]
  },
  {
   "cell_type": "code",
   "execution_count": 2,
   "metadata": {},
   "outputs": [
    {
     "name": "stdout",
     "output_type": "stream",
     "text": [
      "Omkar => {'key': 'Omkar', 'name': 'Omkar Pathak', 'age': 21, 'pay': 40000}\n",
      "Jagdish => {'key': 'Jagdish', 'name': 'Jagdish Pathak', 'age': 50, 'pay': 50000}\n"
     ]
    }
   ],
   "source": [
    "import pickle\n",
    "  \n",
    "def storeData():\n",
    "    # initializing data to be stored in db\n",
    "    Omkar =    {'key' : 'Omkar', \n",
    "                'name' : 'Omkar Pathak',\n",
    "                'age' : 21, \n",
    "                'pay' : 40000}\n",
    "\n",
    "    Jagdish =   {'key' : 'Jagdish', \n",
    "                 'name' : 'Jagdish Pathak',\n",
    "                 'age' : 50, \n",
    "                'pay' : 50000}\n",
    "  \n",
    "    # database\n",
    "    db = {}\n",
    "    db['Omkar'] = Omkar\n",
    "    db['Jagdish'] = Jagdish\n",
    "      \n",
    "    # Its important to use binary mode\n",
    "    dbfile = open('examplePickle', 'ab')\n",
    "      \n",
    "    # source, destination\n",
    "    pickle.dump(db, dbfile)                     \n",
    "    dbfile.close()\n",
    "  \n",
    "def loadData():\n",
    "    dbfile = open('examplePickle', 'rb')     \n",
    "    db = pickle.load(dbfile)\n",
    "    for keys in db:\n",
    "        print(keys, '=>', db[keys])\n",
    "    dbfile.close()\n",
    "  \n",
    "if __name__ == '__main__':\n",
    "    storeData()\n",
    "    loadData()"
   ]
  },
  {
   "cell_type": "code",
   "execution_count": 3,
   "metadata": {},
   "outputs": [],
   "source": [
    "import pickle \n",
    "\n",
    "db = {}\n",
    "patient1 = {'FirstName': 'Leonel',\n",
    "            'LastName' : 'Messi',\n",
    "            'Height'   :  168}\n",
    "            \n",
    "patient2 = {'FirstName': 'Christiano',\n",
    "            'LastName' : 'Ronaldo',\n",
    "            'Height'   :  186}\n",
    "\n",
    "db['001'] = patient1\n",
    "db['002'] = patient2\n",
    "\n",
    "dbfile = open('sampledb.pkl', 'wb')\n",
    "pickle.dump(db, dbfile)\n",
    "dbfile.close()"
   ]
  }
 ],
 "metadata": {
  "kernelspec": {
   "display_name": "Python 3.9.2 64-bit",
   "language": "python",
   "name": "python3"
  },
  "language_info": {
   "codemirror_mode": {
    "name": "ipython",
    "version": 3
   },
   "file_extension": ".py",
   "mimetype": "text/x-python",
   "name": "python",
   "nbconvert_exporter": "python",
   "pygments_lexer": "ipython3",
   "version": "3.9.2 (tags/v3.9.2:1a79785, Feb 19 2021, 13:44:55) [MSC v.1928 64 bit (AMD64)]"
  },
  "orig_nbformat": 4,
  "vscode": {
   "interpreter": {
    "hash": "c6a2dc670f3436433c0efae6fb324965c1072d8aef0b90287abce79ee9328779"
   }
  }
 },
 "nbformat": 4,
 "nbformat_minor": 2
}
