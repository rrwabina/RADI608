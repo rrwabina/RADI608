{
 "cells": [
  {
   "cell_type": "markdown",
   "id": "b00a082d",
   "metadata": {
    "slideshow": {
     "slide_type": "slide"
    }
   },
   "source": [
    "# Lab Demo: Overview"
   ]
  },
  {
   "cell_type": "markdown",
   "id": "549141d8",
   "metadata": {
    "ExecuteTime": {
     "end_time": "2022-10-11T05:00:40.350439Z",
     "start_time": "2022-10-11T05:00:40.335652Z"
    },
    "slideshow": {
     "slide_type": "fragment"
    }
   },
   "source": [
    "This tutorials demonstrate about how to conduct machine learning experiment using decision tree.  "
   ]
  },
  {
   "cell_type": "markdown",
   "id": "b5850d83",
   "metadata": {
    "slideshow": {
     "slide_type": "fragment"
    }
   },
   "source": [
    "Folder organization is the following."
   ]
  },
  {
   "cell_type": "markdown",
   "id": "c221b546",
   "metadata": {
    "slideshow": {
     "slide_type": "fragment"
    }
   },
   "source": [
    "Topics include  \n",
    "- Data Preparation  \n",
    "- Modeling  \n",
    "- Evaluation  \n",
    "- Export Model"
   ]
  },
  {
   "cell_type": "markdown",
   "id": "a15865de",
   "metadata": {
    "slideshow": {
     "slide_type": "subslide"
    }
   },
   "source": [
    "Module used in this tutorials are  \n",
    "- matplotlib 3.5.1  \n",
    "- numpy 1.22.3  \n",
    "- pandas 1.4.3   \n",
    "- scikit-learn 1.0.2  \n",
    "- scipy 1.7.3 \n",
    "- tqdm 4.64.0  \n"
   ]
  },
  {
   "cell_type": "markdown",
   "id": "9db5c444",
   "metadata": {
    "slideshow": {
     "slide_type": "slide"
    }
   },
   "source": [
    "# Experiment"
   ]
  },
  {
   "cell_type": "markdown",
   "id": "0f27025d",
   "metadata": {
    "slideshow": {
     "slide_type": "subslide"
    }
   },
   "source": [
    "## Data Preparation"
   ]
  },
  {
   "cell_type": "markdown",
   "id": "e70fd136",
   "metadata": {
    "slideshow": {
     "slide_type": "fragment"
    }
   },
   "source": [
    "This subsection demonstrates how to prepare data for `decision tree` to train with `train test validate`.  \n",
    "Details consist of \n",
    "- Import Modules and Data  \n",
    "- Missing Value Handling  \n",
    "- Data Transformation  \n",
    "- Data Splitting"
   ]
  },
  {
   "cell_type": "markdown",
   "id": "f1b47730",
   "metadata": {
    "slideshow": {
     "slide_type": "subslide"
    }
   },
   "source": [
    "### Import Modules and Data"
   ]
  },
  {
   "cell_type": "code",
   "execution_count": 42,
   "id": "a9a67535",
   "metadata": {
    "ExecuteTime": {
     "end_time": "2022-10-17T05:31:04.750664Z",
     "start_time": "2022-10-17T05:31:04.739708Z"
    },
    "slideshow": {
     "slide_type": "fragment"
    }
   },
   "outputs": [],
   "source": [
    "import matplotlib.pyplot as plt\n",
    "import matplotlib as mpl\n",
    "import numpy as np\n",
    "import pandas as pd\n",
    "from sklearn.model_selection import train_test_split\n",
    "\n",
    "mpl.rcParams['text.color'] = 'ghostwhite'\n",
    "mpl.rcParams['xtick.color'] = 'ghostwhite'\n",
    "mpl.rcParams['ytick.color'] = 'ghostwhite'\n",
    "mpl.rcParams['axes.labelcolor'] = 'ghostwhite'"
   ]
  },
  {
   "cell_type": "code",
   "execution_count": 24,
   "id": "ba839814",
   "metadata": {
    "ExecuteTime": {
     "end_time": "2022-10-17T05:22:00.461608Z",
     "start_time": "2022-10-17T05:22:00.438925Z"
    },
    "slideshow": {
     "slide_type": "fragment"
    }
   },
   "outputs": [],
   "source": [
    "column_names = [\"age\", \"sex\", \"cp\", \"trestbps\", \"chol\", \"fbs\",\n",
    "                \"restecg\", \"thalach\", \"exang\", \"oldpeak\", \"slope\",\n",
    "                \"ca\", \"thal\", \"num\"]\n",
    "df = pd.read_csv(\"../data/processed.cleveland.data\", header=None, names=column_names)"
   ]
  },
  {
   "cell_type": "markdown",
   "id": "aa1b4c58",
   "metadata": {
    "slideshow": {
     "slide_type": "fragment"
    }
   },
   "source": [
    "Explore the dataset using `.head()`"
   ]
  },
  {
   "cell_type": "code",
   "execution_count": 25,
   "id": "68bc7544",
   "metadata": {
    "ExecuteTime": {
     "end_time": "2022-10-17T05:22:01.026298Z",
     "start_time": "2022-10-17T05:22:00.987610Z"
    },
    "scrolled": true,
    "slideshow": {
     "slide_type": "fragment"
    }
   },
   "outputs": [
    {
     "data": {
      "text/html": [
       "<div>\n",
       "<style scoped>\n",
       "    .dataframe tbody tr th:only-of-type {\n",
       "        vertical-align: middle;\n",
       "    }\n",
       "\n",
       "    .dataframe tbody tr th {\n",
       "        vertical-align: top;\n",
       "    }\n",
       "\n",
       "    .dataframe thead th {\n",
       "        text-align: right;\n",
       "    }\n",
       "</style>\n",
       "<table border=\"1\" class=\"dataframe\">\n",
       "  <thead>\n",
       "    <tr style=\"text-align: right;\">\n",
       "      <th></th>\n",
       "      <th>age</th>\n",
       "      <th>sex</th>\n",
       "      <th>cp</th>\n",
       "      <th>trestbps</th>\n",
       "      <th>chol</th>\n",
       "      <th>fbs</th>\n",
       "      <th>restecg</th>\n",
       "      <th>thalach</th>\n",
       "      <th>exang</th>\n",
       "      <th>oldpeak</th>\n",
       "      <th>slope</th>\n",
       "      <th>ca</th>\n",
       "      <th>thal</th>\n",
       "      <th>num</th>\n",
       "    </tr>\n",
       "  </thead>\n",
       "  <tbody>\n",
       "    <tr>\n",
       "      <th>0</th>\n",
       "      <td>63.0</td>\n",
       "      <td>1.0</td>\n",
       "      <td>1.0</td>\n",
       "      <td>145.0</td>\n",
       "      <td>233.0</td>\n",
       "      <td>1.0</td>\n",
       "      <td>2.0</td>\n",
       "      <td>150.0</td>\n",
       "      <td>0.0</td>\n",
       "      <td>2.3</td>\n",
       "      <td>3.0</td>\n",
       "      <td>0.0</td>\n",
       "      <td>6.0</td>\n",
       "      <td>0</td>\n",
       "    </tr>\n",
       "    <tr>\n",
       "      <th>1</th>\n",
       "      <td>67.0</td>\n",
       "      <td>1.0</td>\n",
       "      <td>4.0</td>\n",
       "      <td>160.0</td>\n",
       "      <td>286.0</td>\n",
       "      <td>0.0</td>\n",
       "      <td>2.0</td>\n",
       "      <td>108.0</td>\n",
       "      <td>1.0</td>\n",
       "      <td>1.5</td>\n",
       "      <td>2.0</td>\n",
       "      <td>3.0</td>\n",
       "      <td>3.0</td>\n",
       "      <td>2</td>\n",
       "    </tr>\n",
       "    <tr>\n",
       "      <th>2</th>\n",
       "      <td>67.0</td>\n",
       "      <td>1.0</td>\n",
       "      <td>4.0</td>\n",
       "      <td>120.0</td>\n",
       "      <td>229.0</td>\n",
       "      <td>0.0</td>\n",
       "      <td>2.0</td>\n",
       "      <td>129.0</td>\n",
       "      <td>1.0</td>\n",
       "      <td>2.6</td>\n",
       "      <td>2.0</td>\n",
       "      <td>2.0</td>\n",
       "      <td>7.0</td>\n",
       "      <td>1</td>\n",
       "    </tr>\n",
       "    <tr>\n",
       "      <th>3</th>\n",
       "      <td>37.0</td>\n",
       "      <td>1.0</td>\n",
       "      <td>3.0</td>\n",
       "      <td>130.0</td>\n",
       "      <td>250.0</td>\n",
       "      <td>0.0</td>\n",
       "      <td>0.0</td>\n",
       "      <td>187.0</td>\n",
       "      <td>0.0</td>\n",
       "      <td>3.5</td>\n",
       "      <td>3.0</td>\n",
       "      <td>0.0</td>\n",
       "      <td>3.0</td>\n",
       "      <td>0</td>\n",
       "    </tr>\n",
       "    <tr>\n",
       "      <th>4</th>\n",
       "      <td>41.0</td>\n",
       "      <td>0.0</td>\n",
       "      <td>2.0</td>\n",
       "      <td>130.0</td>\n",
       "      <td>204.0</td>\n",
       "      <td>0.0</td>\n",
       "      <td>2.0</td>\n",
       "      <td>172.0</td>\n",
       "      <td>0.0</td>\n",
       "      <td>1.4</td>\n",
       "      <td>1.0</td>\n",
       "      <td>0.0</td>\n",
       "      <td>3.0</td>\n",
       "      <td>0</td>\n",
       "    </tr>\n",
       "  </tbody>\n",
       "</table>\n",
       "</div>"
      ],
      "text/plain": [
       "    age  sex   cp  trestbps   chol  fbs  restecg  thalach  exang  oldpeak  \\\n",
       "0  63.0  1.0  1.0     145.0  233.0  1.0      2.0    150.0    0.0      2.3   \n",
       "1  67.0  1.0  4.0     160.0  286.0  0.0      2.0    108.0    1.0      1.5   \n",
       "2  67.0  1.0  4.0     120.0  229.0  0.0      2.0    129.0    1.0      2.6   \n",
       "3  37.0  1.0  3.0     130.0  250.0  0.0      0.0    187.0    0.0      3.5   \n",
       "4  41.0  0.0  2.0     130.0  204.0  0.0      2.0    172.0    0.0      1.4   \n",
       "\n",
       "   slope   ca thal  num  \n",
       "0    3.0  0.0  6.0    0  \n",
       "1    2.0  3.0  3.0    2  \n",
       "2    2.0  2.0  7.0    1  \n",
       "3    3.0  0.0  3.0    0  \n",
       "4    1.0  0.0  3.0    0  "
      ]
     },
     "execution_count": 25,
     "metadata": {},
     "output_type": "execute_result"
    }
   ],
   "source": [
    "df.head()"
   ]
  },
  {
   "cell_type": "markdown",
   "id": "d167e838",
   "metadata": {
    "slideshow": {
     "slide_type": "subslide"
    }
   },
   "source": [
    "### Missing Value Handling  \n",
    "We can do a simple data exploration with `.groupby()` as follows."
   ]
  },
  {
   "cell_type": "code",
   "execution_count": 26,
   "id": "e140e83e",
   "metadata": {
    "ExecuteTime": {
     "end_time": "2022-10-17T05:22:01.407584Z",
     "start_time": "2022-10-17T05:22:01.388052Z"
    },
    "slideshow": {
     "slide_type": "fragment"
    }
   },
   "outputs": [
    {
     "data": {
      "text/html": [
       "<div>\n",
       "<style scoped>\n",
       "    .dataframe tbody tr th:only-of-type {\n",
       "        vertical-align: middle;\n",
       "    }\n",
       "\n",
       "    .dataframe tbody tr th {\n",
       "        vertical-align: top;\n",
       "    }\n",
       "\n",
       "    .dataframe thead th {\n",
       "        text-align: right;\n",
       "    }\n",
       "</style>\n",
       "<table border=\"1\" class=\"dataframe\">\n",
       "  <thead>\n",
       "    <tr style=\"text-align: right;\">\n",
       "      <th></th>\n",
       "      <th>thal</th>\n",
       "      <th>#</th>\n",
       "    </tr>\n",
       "  </thead>\n",
       "  <tbody>\n",
       "    <tr>\n",
       "      <th>0</th>\n",
       "      <td>3.0</td>\n",
       "      <td>166</td>\n",
       "    </tr>\n",
       "    <tr>\n",
       "      <th>1</th>\n",
       "      <td>6.0</td>\n",
       "      <td>18</td>\n",
       "    </tr>\n",
       "    <tr>\n",
       "      <th>2</th>\n",
       "      <td>7.0</td>\n",
       "      <td>117</td>\n",
       "    </tr>\n",
       "    <tr>\n",
       "      <th>3</th>\n",
       "      <td>?</td>\n",
       "      <td>2</td>\n",
       "    </tr>\n",
       "  </tbody>\n",
       "</table>\n",
       "</div>"
      ],
      "text/plain": [
       "  thal    #\n",
       "0  3.0  166\n",
       "1  6.0   18\n",
       "2  7.0  117\n",
       "3    ?    2"
      ]
     },
     "execution_count": 26,
     "metadata": {},
     "output_type": "execute_result"
    }
   ],
   "source": [
    "df.groupby(\"thal\").size().reset_index(name=\"#\")"
   ]
  },
  {
   "cell_type": "code",
   "execution_count": 27,
   "id": "6f570312",
   "metadata": {
    "ExecuteTime": {
     "end_time": "2022-10-17T05:22:01.581349Z",
     "start_time": "2022-10-17T05:22:01.558562Z"
    },
    "slideshow": {
     "slide_type": "fragment"
    }
   },
   "outputs": [
    {
     "data": {
      "text/html": [
       "<div>\n",
       "<style scoped>\n",
       "    .dataframe tbody tr th:only-of-type {\n",
       "        vertical-align: middle;\n",
       "    }\n",
       "\n",
       "    .dataframe tbody tr th {\n",
       "        vertical-align: top;\n",
       "    }\n",
       "\n",
       "    .dataframe thead th {\n",
       "        text-align: right;\n",
       "    }\n",
       "</style>\n",
       "<table border=\"1\" class=\"dataframe\">\n",
       "  <thead>\n",
       "    <tr style=\"text-align: right;\">\n",
       "      <th></th>\n",
       "      <th>ca</th>\n",
       "      <th>#</th>\n",
       "    </tr>\n",
       "  </thead>\n",
       "  <tbody>\n",
       "    <tr>\n",
       "      <th>0</th>\n",
       "      <td>0.0</td>\n",
       "      <td>176</td>\n",
       "    </tr>\n",
       "    <tr>\n",
       "      <th>1</th>\n",
       "      <td>1.0</td>\n",
       "      <td>65</td>\n",
       "    </tr>\n",
       "    <tr>\n",
       "      <th>2</th>\n",
       "      <td>2.0</td>\n",
       "      <td>38</td>\n",
       "    </tr>\n",
       "    <tr>\n",
       "      <th>3</th>\n",
       "      <td>3.0</td>\n",
       "      <td>20</td>\n",
       "    </tr>\n",
       "    <tr>\n",
       "      <th>4</th>\n",
       "      <td>?</td>\n",
       "      <td>4</td>\n",
       "    </tr>\n",
       "  </tbody>\n",
       "</table>\n",
       "</div>"
      ],
      "text/plain": [
       "    ca    #\n",
       "0  0.0  176\n",
       "1  1.0   65\n",
       "2  2.0   38\n",
       "3  3.0   20\n",
       "4    ?    4"
      ]
     },
     "execution_count": 27,
     "metadata": {},
     "output_type": "execute_result"
    }
   ],
   "source": [
    "df.groupby(\"ca\").size().reset_index(name=\"#\")"
   ]
  },
  {
   "cell_type": "markdown",
   "id": "6e8e587b",
   "metadata": {
    "slideshow": {
     "slide_type": "fragment"
    }
   },
   "source": [
    "Obviously, missing values were reported by ? for 2 rows in `thal` and 4 rows in `ca`.  \n",
    "**Remark**  Since this is a well-known dataset for teaching.  We know exactly where are missing values.  In practice, students need to explore all variables."
   ]
  },
  {
   "cell_type": "markdown",
   "id": "d09e67fb",
   "metadata": {
    "slideshow": {
     "slide_type": "subslide"
    }
   },
   "source": [
    "There is alternative to check missing values using `.info()`.  However, it works only with any missing value represented by `NaN`."
   ]
  },
  {
   "cell_type": "code",
   "execution_count": 28,
   "id": "bd02c350",
   "metadata": {
    "ExecuteTime": {
     "end_time": "2022-10-17T05:22:02.135332Z",
     "start_time": "2022-10-17T05:22:02.114574Z"
    },
    "slideshow": {
     "slide_type": "fragment"
    }
   },
   "outputs": [
    {
     "name": "stdout",
     "output_type": "stream",
     "text": [
      "<class 'pandas.core.frame.DataFrame'>\n",
      "RangeIndex: 303 entries, 0 to 302\n",
      "Data columns (total 14 columns):\n",
      " #   Column    Non-Null Count  Dtype  \n",
      "---  ------    --------------  -----  \n",
      " 0   age       303 non-null    float64\n",
      " 1   sex       303 non-null    float64\n",
      " 2   cp        303 non-null    float64\n",
      " 3   trestbps  303 non-null    float64\n",
      " 4   chol      303 non-null    float64\n",
      " 5   fbs       303 non-null    float64\n",
      " 6   restecg   303 non-null    float64\n",
      " 7   thalach   303 non-null    float64\n",
      " 8   exang     303 non-null    float64\n",
      " 9   oldpeak   303 non-null    float64\n",
      " 10  slope     303 non-null    float64\n",
      " 11  ca        303 non-null    object \n",
      " 12  thal      303 non-null    object \n",
      " 13  num       303 non-null    int64  \n",
      "dtypes: float64(11), int64(1), object(2)\n",
      "memory usage: 33.3+ KB\n"
     ]
    }
   ],
   "source": [
    "df.info()"
   ]
  },
  {
   "cell_type": "markdown",
   "id": "855dd6c2",
   "metadata": {
    "slideshow": {
     "slide_type": "fragment"
    }
   },
   "source": [
    "Clearly, `.info()` reports no mussing value because the missing values in this data were represented by `?`"
   ]
  },
  {
   "cell_type": "markdown",
   "id": "f681a0c0",
   "metadata": {
    "slideshow": {
     "slide_type": "fragment"
    }
   },
   "source": [
    "Therefore, these rows will be excluded dataframe slicing.  "
   ]
  },
  {
   "cell_type": "code",
   "execution_count": 29,
   "id": "245b4b74",
   "metadata": {
    "ExecuteTime": {
     "end_time": "2022-10-17T05:22:03.069453Z",
     "start_time": "2022-10-17T05:22:03.056414Z"
    },
    "slideshow": {
     "slide_type": "fragment"
    }
   },
   "outputs": [],
   "source": [
    "df = df[df[\"thal\"] != \"?\"].reset_index(drop=True)\n",
    "df = df[df[\"ca\"] != \"?\"].reset_index(drop=True)"
   ]
  },
  {
   "cell_type": "markdown",
   "id": "7babec21",
   "metadata": {
    "slideshow": {
     "slide_type": "subslide"
    }
   },
   "source": [
    "### Data Transformation"
   ]
  },
  {
   "cell_type": "markdown",
   "id": "2d85090c",
   "metadata": {
    "slideshow": {
     "slide_type": "fragment"
    }
   },
   "source": [
    "Although `decision tree` can handle both numerical and categorical data by theory, `sklearn` implementation requires to encode as numerical data."
   ]
  },
  {
   "cell_type": "markdown",
   "id": "52ba6803",
   "metadata": {
    "slideshow": {
     "slide_type": "fragment"
    }
   },
   "source": [
    "`Onehot encoding` may help to solve the problem."
   ]
  },
  {
   "cell_type": "markdown",
   "id": "4cc89c24",
   "metadata": {
    "slideshow": {
     "slide_type": "fragment"
    }
   },
   "source": [
    "However, from theoretical point of views, changing categorical variable to numerical variable directly won't effect to the way decision tree work."
   ]
  },
  {
   "cell_type": "markdown",
   "id": "d0353609",
   "metadata": {
    "slideshow": {
     "slide_type": "fragment"
    }
   },
   "source": [
    "Because decision tree just keep counting unique values.  Let's check data type first with `.dtypes`"
   ]
  },
  {
   "cell_type": "code",
   "execution_count": 30,
   "id": "917d2e7b",
   "metadata": {
    "ExecuteTime": {
     "end_time": "2022-10-17T05:22:05.344626Z",
     "start_time": "2022-10-17T05:22:05.331622Z"
    },
    "slideshow": {
     "slide_type": "fragment"
    }
   },
   "outputs": [
    {
     "data": {
      "text/plain": [
       "age         float64\n",
       "sex         float64\n",
       "cp          float64\n",
       "trestbps    float64\n",
       "chol        float64\n",
       "fbs         float64\n",
       "restecg     float64\n",
       "thalach     float64\n",
       "exang       float64\n",
       "oldpeak     float64\n",
       "slope       float64\n",
       "ca           object\n",
       "thal         object\n",
       "num           int64\n",
       "dtype: object"
      ]
     },
     "execution_count": 30,
     "metadata": {},
     "output_type": "execute_result"
    }
   ],
   "source": [
    "df.dtypes"
   ]
  },
  {
   "cell_type": "markdown",
   "id": "6bd56ba4",
   "metadata": {
    "slideshow": {
     "slide_type": "subslide"
    }
   },
   "source": [
    "We only need to cast data type of `thal` and `ca`"
   ]
  },
  {
   "cell_type": "code",
   "execution_count": 31,
   "id": "e4df90fd",
   "metadata": {
    "ExecuteTime": {
     "end_time": "2022-10-17T05:22:06.620828Z",
     "start_time": "2022-10-17T05:22:06.608759Z"
    },
    "slideshow": {
     "slide_type": "fragment"
    }
   },
   "outputs": [],
   "source": [
    "df[\"thal\"] = df[\"thal\"].astype(float)\n",
    "df[\"ca\"] = df[\"ca\"].astype(float)"
   ]
  },
  {
   "cell_type": "markdown",
   "id": "692b7701",
   "metadata": {
    "slideshow": {
     "slide_type": "fragment"
    }
   },
   "source": [
    "Label preparation is required according to the data descriptions."
   ]
  },
  {
   "cell_type": "code",
   "execution_count": 34,
   "id": "4352a874",
   "metadata": {
    "ExecuteTime": {
     "end_time": "2022-10-17T05:22:38.579490Z",
     "start_time": "2022-10-17T05:22:38.533049Z"
    },
    "scrolled": true,
    "slideshow": {
     "slide_type": "fragment"
    }
   },
   "outputs": [
    {
     "data": {
      "text/html": [
       "<div>\n",
       "<style scoped>\n",
       "    .dataframe tbody tr th:only-of-type {\n",
       "        vertical-align: middle;\n",
       "    }\n",
       "\n",
       "    .dataframe tbody tr th {\n",
       "        vertical-align: top;\n",
       "    }\n",
       "\n",
       "    .dataframe thead th {\n",
       "        text-align: right;\n",
       "    }\n",
       "</style>\n",
       "<table border=\"1\" class=\"dataframe\">\n",
       "  <thead>\n",
       "    <tr style=\"text-align: right;\">\n",
       "      <th></th>\n",
       "      <th>age</th>\n",
       "      <th>sex</th>\n",
       "      <th>cp</th>\n",
       "      <th>trestbps</th>\n",
       "      <th>chol</th>\n",
       "      <th>fbs</th>\n",
       "      <th>restecg</th>\n",
       "      <th>thalach</th>\n",
       "      <th>exang</th>\n",
       "      <th>oldpeak</th>\n",
       "      <th>slope</th>\n",
       "      <th>ca</th>\n",
       "      <th>thal</th>\n",
       "      <th>label</th>\n",
       "    </tr>\n",
       "  </thead>\n",
       "  <tbody>\n",
       "    <tr>\n",
       "      <th>0</th>\n",
       "      <td>63.0</td>\n",
       "      <td>1.0</td>\n",
       "      <td>1.0</td>\n",
       "      <td>145.0</td>\n",
       "      <td>233.0</td>\n",
       "      <td>1.0</td>\n",
       "      <td>2.0</td>\n",
       "      <td>150.0</td>\n",
       "      <td>0.0</td>\n",
       "      <td>2.3</td>\n",
       "      <td>3.0</td>\n",
       "      <td>0.0</td>\n",
       "      <td>6.0</td>\n",
       "      <td>0</td>\n",
       "    </tr>\n",
       "    <tr>\n",
       "      <th>1</th>\n",
       "      <td>67.0</td>\n",
       "      <td>1.0</td>\n",
       "      <td>4.0</td>\n",
       "      <td>160.0</td>\n",
       "      <td>286.0</td>\n",
       "      <td>0.0</td>\n",
       "      <td>2.0</td>\n",
       "      <td>108.0</td>\n",
       "      <td>1.0</td>\n",
       "      <td>1.5</td>\n",
       "      <td>2.0</td>\n",
       "      <td>3.0</td>\n",
       "      <td>3.0</td>\n",
       "      <td>1</td>\n",
       "    </tr>\n",
       "    <tr>\n",
       "      <th>2</th>\n",
       "      <td>67.0</td>\n",
       "      <td>1.0</td>\n",
       "      <td>4.0</td>\n",
       "      <td>120.0</td>\n",
       "      <td>229.0</td>\n",
       "      <td>0.0</td>\n",
       "      <td>2.0</td>\n",
       "      <td>129.0</td>\n",
       "      <td>1.0</td>\n",
       "      <td>2.6</td>\n",
       "      <td>2.0</td>\n",
       "      <td>2.0</td>\n",
       "      <td>7.0</td>\n",
       "      <td>1</td>\n",
       "    </tr>\n",
       "    <tr>\n",
       "      <th>3</th>\n",
       "      <td>37.0</td>\n",
       "      <td>1.0</td>\n",
       "      <td>3.0</td>\n",
       "      <td>130.0</td>\n",
       "      <td>250.0</td>\n",
       "      <td>0.0</td>\n",
       "      <td>0.0</td>\n",
       "      <td>187.0</td>\n",
       "      <td>0.0</td>\n",
       "      <td>3.5</td>\n",
       "      <td>3.0</td>\n",
       "      <td>0.0</td>\n",
       "      <td>3.0</td>\n",
       "      <td>0</td>\n",
       "    </tr>\n",
       "    <tr>\n",
       "      <th>4</th>\n",
       "      <td>41.0</td>\n",
       "      <td>0.0</td>\n",
       "      <td>2.0</td>\n",
       "      <td>130.0</td>\n",
       "      <td>204.0</td>\n",
       "      <td>0.0</td>\n",
       "      <td>2.0</td>\n",
       "      <td>172.0</td>\n",
       "      <td>0.0</td>\n",
       "      <td>1.4</td>\n",
       "      <td>1.0</td>\n",
       "      <td>0.0</td>\n",
       "      <td>3.0</td>\n",
       "      <td>0</td>\n",
       "    </tr>\n",
       "  </tbody>\n",
       "</table>\n",
       "</div>"
      ],
      "text/plain": [
       "    age  sex   cp  trestbps   chol  fbs  restecg  thalach  exang  oldpeak  \\\n",
       "0  63.0  1.0  1.0     145.0  233.0  1.0      2.0    150.0    0.0      2.3   \n",
       "1  67.0  1.0  4.0     160.0  286.0  0.0      2.0    108.0    1.0      1.5   \n",
       "2  67.0  1.0  4.0     120.0  229.0  0.0      2.0    129.0    1.0      2.6   \n",
       "3  37.0  1.0  3.0     130.0  250.0  0.0      0.0    187.0    0.0      3.5   \n",
       "4  41.0  0.0  2.0     130.0  204.0  0.0      2.0    172.0    0.0      1.4   \n",
       "\n",
       "   slope   ca  thal  label  \n",
       "0    3.0  0.0   6.0      0  \n",
       "1    2.0  3.0   3.0      1  \n",
       "2    2.0  2.0   7.0      1  \n",
       "3    3.0  0.0   3.0      0  \n",
       "4    1.0  0.0   3.0      0  "
      ]
     },
     "execution_count": 34,
     "metadata": {},
     "output_type": "execute_result"
    }
   ],
   "source": [
    "df[\"label\"] = df['num'].apply(lambda x: 0 if x == 0 else 1)\n",
    "df.drop(\"num\", axis=1, inplace=True)\n",
    "df.head()"
   ]
  },
  {
   "cell_type": "markdown",
   "id": "06e6f37e",
   "metadata": {
    "slideshow": {
     "slide_type": "subslide"
    }
   },
   "source": [
    "Finally, we prepare `X` and `y` for our dataset."
   ]
  },
  {
   "cell_type": "code",
   "execution_count": 99,
   "id": "46b415c4",
   "metadata": {
    "ExecuteTime": {
     "end_time": "2022-10-17T07:06:46.936045Z",
     "start_time": "2022-10-17T07:06:46.921020Z"
    },
    "slideshow": {
     "slide_type": "fragment"
    }
   },
   "outputs": [],
   "source": [
    "X = df.drop(\"label\", axis=1).values\n",
    "y = df[\"label\"].values.ravel().ravel().reshape(-1, 1)"
   ]
  },
  {
   "cell_type": "markdown",
   "id": "dc7c6a54",
   "metadata": {
    "slideshow": {
     "slide_type": "subslide"
    }
   },
   "source": [
    "### Data Splitting"
   ]
  },
  {
   "cell_type": "code",
   "execution_count": 100,
   "id": "8dc79e0b",
   "metadata": {
    "ExecuteTime": {
     "end_time": "2022-10-17T07:06:49.861248Z",
     "start_time": "2022-10-17T07:06:49.841293Z"
    },
    "slideshow": {
     "slide_type": "fragment"
    }
   },
   "outputs": [
    {
     "name": "stdout",
     "output_type": "stream",
     "text": [
      "Number of training samples is 208\n",
      "Number of test samples is 45\n",
      "Number of validate samples is 44\n"
     ]
    }
   ],
   "source": [
    "seed = 433 # Set random seed\n",
    "\n",
    "train, remain = train_test_split(df, test_size=int(np.floor(0.30 * len(df.index))), \n",
    "                                stratify=df[\"label\"], random_state=seed)\n",
    "\n",
    "test, val = train_test_split(remain, test_size=int(np.floor(0.5 * len(remain.index))), \n",
    "                             stratify=remain[\"label\"], random_state=seed)\n",
    "\n",
    "print(\"Number of training samples is {}\".format(len(train.index)))\n",
    "print(\"Number of test samples is {}\".format(len(test.index)))\n",
    "print(\"Number of validate samples is {}\".format(len(val.index)))"
   ]
  },
  {
   "cell_type": "markdown",
   "id": "6e794bfe",
   "metadata": {
    "slideshow": {
     "slide_type": "subslide"
    }
   },
   "source": [
    "Exploring class distribution"
   ]
  },
  {
   "cell_type": "code",
   "execution_count": 101,
   "id": "cf0ef1cc",
   "metadata": {
    "ExecuteTime": {
     "end_time": "2022-10-17T07:06:50.835987Z",
     "start_time": "2022-10-17T07:06:50.511819Z"
    },
    "slideshow": {
     "slide_type": "fragment"
    }
   },
   "outputs": [
    {
     "data": {
      "image/png": "[encoded data removed]",
      "text/plain": [
       "<Figure size 720x360 with 3 Axes>"
      ]
     },
     "metadata": {
      "needs_background": "dark"
     },
     "output_type": "display_data"
    }
   ],
   "source": [
    "train_dist = train.groupby(\"label\").size().reset_index(name=\"#\")\n",
    "train_dist[\"%\"] = train_dist[\"#\"] / train_dist[\"#\"].sum()\n",
    "\n",
    "val_dist = val.groupby(\"label\").size().reset_index(name=\"#\")\n",
    "val_dist[\"%\"] = val_dist[\"#\"] / val_dist[\"#\"].sum()\n",
    "\n",
    "test_dist = test.groupby(\"label\").size().reset_index(name=\"#\")\n",
    "test_dist[\"%\"] = test_dist[\"#\"] / test_dist[\"#\"].sum()\n",
    "\n",
    "fig, ax = plt.subplots(nrows=1, ncols=3, figsize=(10, 5))\n",
    "ax[0].bar(train_dist[\"label\"], train_dist[\"%\"])\n",
    "ax[0].set_title(\"Train\")\n",
    "ax[1].bar(val_dist[\"label\"], val_dist[\"%\"])\n",
    "ax[1].set_title(\"Validation\")\n",
    "ax[2].bar(test_dist[\"label\"], test_dist[\"%\"])\n",
    "ax[2].set_title(\"Test\")\n",
    "plt.show()"
   ]
  },
  {
   "cell_type": "markdown",
   "id": "7b918b0a",
   "metadata": {
    "slideshow": {
     "slide_type": "subslide"
    }
   },
   "source": [
    "## Modling"
   ]
  },
  {
   "cell_type": "markdown",
   "id": "26a77e4e",
   "metadata": {
    "slideshow": {
     "slide_type": "fragment"
    }
   },
   "source": [
    "The modeling task attempts to search for the `optimum hyperparameters`.  "
   ]
  },
  {
   "cell_type": "markdown",
   "id": "1a65d1d8",
   "metadata": {
    "slideshow": {
     "slide_type": "fragment"
    }
   },
   "source": [
    "Common practices are `Random Search` and `Grid Search`.  "
   ]
  },
  {
   "cell_type": "markdown",
   "id": "f4ab38e5",
   "metadata": {
    "slideshow": {
     "slide_type": "fragment"
    }
   },
   "source": [
    "This subsection consists of the following tasks.  \n",
    "- Import Modules  \n",
    "- Hyperparameter Tuning (Random Search)  \n",
    "- Hyperparameter Tuning (Grid Search)"
   ]
  },
  {
   "cell_type": "markdown",
   "id": "83effda7",
   "metadata": {
    "slideshow": {
     "slide_type": "subslide"
    }
   },
   "source": [
    "### Random Search"
   ]
  },
  {
   "cell_type": "markdown",
   "id": "5f592c32",
   "metadata": {
    "slideshow": {
     "slide_type": "fragment"
    }
   },
   "source": [
    "There are several hyperparameters to be adjusted for decision tree in sklearn"
   ]
  },
  {
   "cell_type": "markdown",
   "id": "79b83043",
   "metadata": {
    "slideshow": {
     "slide_type": "fragment"
    }
   },
   "source": [
    "This tutorial demonstrates only 2 hyperparameters  \n",
    "- max_depth: Range from 1 to 5  \n",
    "- min_sample_split: Range from 5 to 20  "
   ]
  },
  {
   "cell_type": "markdown",
   "id": "35801de7",
   "metadata": {
    "slideshow": {
     "slide_type": "fragment"
    }
   },
   "source": [
    "**Discussions**"
   ]
  },
  {
   "cell_type": "markdown",
   "id": "517f0f9b",
   "metadata": {
    "slideshow": {
     "slide_type": "fragment"
    }
   },
   "source": [
    "How do these hyperparameters effect to the tree induction?"
   ]
  },
  {
   "cell_type": "markdown",
   "id": "b14ddf3c",
   "metadata": {
    "slideshow": {
     "slide_type": "subslide"
    }
   },
   "source": [
    "Initialize a decision tree classifier"
   ]
  },
  {
   "cell_type": "code",
   "execution_count": 102,
   "id": "26be7957",
   "metadata": {
    "ExecuteTime": {
     "end_time": "2022-10-17T07:06:54.577970Z",
     "start_time": "2022-10-17T07:06:54.569994Z"
    },
    "slideshow": {
     "slide_type": "fragment"
    }
   },
   "outputs": [],
   "source": [
    "from sklearn.tree import DecisionTreeClassifier\n",
    "\n",
    "dt = DecisionTreeClassifier(random_state=seed,\n",
    "                            class_weight=\"balanced\")"
   ]
  },
  {
   "cell_type": "markdown",
   "id": "055e9e5b",
   "metadata": {
    "slideshow": {
     "slide_type": "fragment"
    }
   },
   "source": [
    "Initialize random search cv"
   ]
  },
  {
   "cell_type": "code",
   "execution_count": 103,
   "id": "6ebc9fa4",
   "metadata": {
    "ExecuteTime": {
     "end_time": "2022-10-17T07:06:55.616551Z",
     "start_time": "2022-10-17T07:06:55.521268Z"
    },
    "slideshow": {
     "slide_type": "fragment"
    }
   },
   "outputs": [],
   "source": [
    "from sklearn.model_selection import RandomizedSearchCV\n",
    "\n",
    "np.random.seed(seed)\n",
    "rand_depth = np.random.randint(low=1, high=5, size=10)\n",
    "np.random.seed(seed)\n",
    "rand_sample_split = np.random.randint(low=5, high=20, size=10)\n",
    "rd_hparams = {\"max_depth\": rand_depth, \"min_samples_split\": rand_sample_split}\n",
    "\n",
    "rand_tune = RandomizedSearchCV(dt, \n",
    "                               rd_hparams, \n",
    "                               random_state=seed, \n",
    "                               cv=[(train.index, val.index)], \n",
    "                               scoring=\"recall\")\n",
    "\n",
    "rand_search = rand_tune.fit(X, y)"
   ]
  },
  {
   "cell_type": "markdown",
   "id": "b1d57f12",
   "metadata": {
    "slideshow": {
     "slide_type": "subslide"
    }
   },
   "source": [
    "The best set of hyperparameters can be observed via attribute `best_estimator_`"
   ]
  },
  {
   "cell_type": "code",
   "execution_count": 104,
   "id": "58f3cda8",
   "metadata": {
    "ExecuteTime": {
     "end_time": "2022-10-17T07:06:56.443737Z",
     "start_time": "2022-10-17T07:06:56.421287Z"
    },
    "slideshow": {
     "slide_type": "fragment"
    }
   },
   "outputs": [
    {
     "data": {
      "text/plain": [
       "DecisionTreeClassifier(class_weight='balanced', max_depth=3,\n",
       "                       min_samples_split=12, random_state=433)"
      ]
     },
     "execution_count": 104,
     "metadata": {},
     "output_type": "execute_result"
    }
   ],
   "source": [
    "rand_search.best_estimator_"
   ]
  },
  {
   "cell_type": "markdown",
   "id": "f415c55b",
   "metadata": {
    "slideshow": {
     "slide_type": "subslide"
    }
   },
   "source": [
    "### Grid Search"
   ]
  },
  {
   "cell_type": "markdown",
   "id": "e252d630",
   "metadata": {
    "slideshow": {
     "slide_type": "fragment"
    }
   },
   "source": [
    "Grid search will be performed on top of the best hyperparameters obtained from random search."
   ]
  },
  {
   "cell_type": "markdown",
   "id": "1d71299b",
   "metadata": {
    "slideshow": {
     "slide_type": "fragment"
    }
   },
   "source": [
    "Initialize grid search"
   ]
  },
  {
   "cell_type": "code",
   "execution_count": 105,
   "id": "767ea0a1",
   "metadata": {
    "ExecuteTime": {
     "end_time": "2022-10-17T07:06:58.118482Z",
     "start_time": "2022-10-17T07:06:58.111502Z"
    },
    "slideshow": {
     "slide_type": "fragment"
    }
   },
   "outputs": [],
   "source": [
    "from sklearn.model_selection import GridSearchCV"
   ]
  },
  {
   "cell_type": "code",
   "execution_count": 106,
   "id": "927c2ae7",
   "metadata": {
    "ExecuteTime": {
     "end_time": "2022-10-17T07:06:58.701754Z",
     "start_time": "2022-10-17T07:06:58.682182Z"
    },
    "slideshow": {
     "slide_type": "fragment"
    }
   },
   "outputs": [],
   "source": [
    "span_depth = 1\n",
    "span_sample = 4\n",
    "grid_depth = [rand_search.best_estimator_.max_depth + i for i in range(-span_depth, span_depth + 1)]\n",
    "grid_sample = [rand_search.best_estimator_.min_samples_split + i for i in range(-span_sample, span_sample + 1)]\n",
    "gd_hparams = {\"max_depth\": grid_depth, \"min_samples_split\": grid_sample}"
   ]
  },
  {
   "cell_type": "code",
   "execution_count": 107,
   "id": "3223d194",
   "metadata": {
    "ExecuteTime": {
     "end_time": "2022-10-17T07:06:59.331529Z",
     "start_time": "2022-10-17T07:06:59.201835Z"
    },
    "slideshow": {
     "slide_type": "subslide"
    }
   },
   "outputs": [],
   "source": [
    "grid_tune = GridSearchCV(dt, gd_hparams, cv=[(train.index, val.index)], scoring=\"recall\")\n",
    "grid_search = grid_tune.fit(X, y)"
   ]
  },
  {
   "cell_type": "markdown",
   "id": "e9e2ec36",
   "metadata": {
    "ExecuteTime": {
     "end_time": "2022-10-17T06:54:01.307343Z",
     "start_time": "2022-10-17T06:54:01.285192Z"
    },
    "slideshow": {
     "slide_type": "fragment"
    }
   },
   "source": [
    "Explore the best fine tune hyperparameters"
   ]
  },
  {
   "cell_type": "code",
   "execution_count": 108,
   "id": "1a699178",
   "metadata": {
    "ExecuteTime": {
     "end_time": "2022-10-17T07:07:00.201252Z",
     "start_time": "2022-10-17T07:07:00.193275Z"
    },
    "slideshow": {
     "slide_type": "fragment"
    }
   },
   "outputs": [
    {
     "data": {
      "text/plain": [
       "DecisionTreeClassifier(class_weight='balanced', max_depth=3,\n",
       "                       min_samples_split=8, random_state=433)"
      ]
     },
     "execution_count": 108,
     "metadata": {},
     "output_type": "execute_result"
    }
   ],
   "source": [
    "grid_search.best_estimator_"
   ]
  },
  {
   "cell_type": "markdown",
   "id": "26a970b5",
   "metadata": {
    "slideshow": {
     "slide_type": "subslide"
    }
   },
   "source": [
    "## Evaluation"
   ]
  },
  {
   "cell_type": "markdown",
   "id": "e640fca0",
   "metadata": {
    "slideshow": {
     "slide_type": "fragment"
    }
   },
   "source": [
    "This section demonstrates how to evaluate the fine-tuned model."
   ]
  },
  {
   "cell_type": "markdown",
   "id": "c1441d8d",
   "metadata": {
    "slideshow": {
     "slide_type": "fragment"
    }
   },
   "source": [
    "The topics include  \n",
    "- Prediction  \n",
    "- Threshold Calibration  \n",
    "- Performance metric calculation  \n",
    "- ROC and PR plot"
   ]
  },
  {
   "cell_type": "markdown",
   "id": "1ae9c308",
   "metadata": {
    "slideshow": {
     "slide_type": "fragment"
    }
   },
   "source": [
    "Prediction probability can be performed via `predict_proba`"
   ]
  },
  {
   "cell_type": "code",
   "execution_count": 119,
   "id": "f937329d",
   "metadata": {
    "ExecuteTime": {
     "end_time": "2022-10-17T07:15:05.349245Z",
     "start_time": "2022-10-17T07:15:05.330255Z"
    },
    "slideshow": {
     "slide_type": "fragment"
    }
   },
   "outputs": [],
   "source": [
    "prob_test = grid_search.best_estimator_.predict_proba(X[test.index])"
   ]
  },
  {
   "cell_type": "markdown",
   "id": "f84934bf",
   "metadata": {
    "slideshow": {
     "slide_type": "subslide"
    }
   },
   "source": [
    "### Threshold Calibration"
   ]
  },
  {
   "cell_type": "markdown",
   "id": "389c7e66",
   "metadata": {
    "ExecuteTime": {
     "end_time": "2022-10-17T07:09:02.729523Z",
     "start_time": "2022-10-17T07:09:02.713136Z"
    },
    "slideshow": {
     "slide_type": "fragment"
    }
   },
   "source": [
    "By default, inferencing in sklearn to $\\hat{y}$ can be performed via `predict` with fixed threshold at 0.5"
   ]
  },
  {
   "cell_type": "markdown",
   "id": "58ca52e2",
   "metadata": {
    "slideshow": {
     "slide_type": "fragment"
    }
   },
   "source": [
    "However, using the 0.5 threshold is not always recommended.  Calibrating the threshold will be more reliable."
   ]
  },
  {
   "cell_type": "code",
   "execution_count": 117,
   "id": "839ccb42",
   "metadata": {
    "ExecuteTime": {
     "end_time": "2022-10-17T07:13:52.116546Z",
     "start_time": "2022-10-17T07:13:52.083552Z"
    },
    "slideshow": {
     "slide_type": "fragment"
    }
   },
   "outputs": [
    {
     "name": "stdout",
     "output_type": "stream",
     "text": [
      "The optimal threshold is 0.6549118387909321\n"
     ]
    }
   ],
   "source": [
    "from sklearn.metrics import roc_curve\n",
    "\n",
    "prob_trian = grid_search.best_estimator_.predict_proba(X[train.index])\n",
    "fpr, tpr, thresholds = roc_curve(y_true=y[train.index], y_score=prob_trian[:, 1], pos_label=1)\n",
    "idx = np.argmax(tpr - fpr)\n",
    "optimal_threshold = thresholds[idx]\n",
    "print(\"The optimal threshold is {}\".format(optimal_threshold))"
   ]
  },
  {
   "cell_type": "markdown",
   "id": "5b80c368",
   "metadata": {
    "slideshow": {
     "slide_type": "fragment"
    }
   },
   "source": [
    "The optimal threshold will be used as the cutoff for prediction"
   ]
  },
  {
   "cell_type": "code",
   "execution_count": 120,
   "id": "bd0e1c2c",
   "metadata": {
    "ExecuteTime": {
     "end_time": "2022-10-17T07:15:15.449269Z",
     "start_time": "2022-10-17T07:15:15.430306Z"
    },
    "slideshow": {
     "slide_type": "fragment"
    }
   },
   "outputs": [],
   "source": [
    "yhat = (prob_test[:, 1] >= optimal_threshold).astype(int)"
   ]
  },
  {
   "cell_type": "markdown",
   "id": "97c2d770",
   "metadata": {
    "slideshow": {
     "slide_type": "subslide"
    }
   },
   "source": [
    "## Performance Metric Calculation"
   ]
  },
  {
   "cell_type": "code",
   "execution_count": 121,
   "id": "91bd6d35",
   "metadata": {
    "ExecuteTime": {
     "end_time": "2022-10-17T07:16:00.243502Z",
     "start_time": "2022-10-17T07:16:00.223408Z"
    },
    "slideshow": {
     "slide_type": "fragment"
    }
   },
   "outputs": [],
   "source": [
    "from sklearn.metrics import confusion_matrix, precision_score, recall_score, accuracy_score, f1_score, roc_auc_score"
   ]
  },
  {
   "cell_type": "code",
   "execution_count": 122,
   "id": "7f54b860",
   "metadata": {
    "ExecuteTime": {
     "end_time": "2022-10-17T07:16:20.934037Z",
     "start_time": "2022-10-17T07:16:20.916085Z"
    },
    "slideshow": {
     "slide_type": "fragment"
    }
   },
   "outputs": [
    {
     "name": "stdout",
     "output_type": "stream",
     "text": [
      "[[19  5]\n",
      " [ 3 18]]\n"
     ]
    }
   ],
   "source": [
    "cmat = confusion_matrix(y[test.index], yhat)\n",
    "print(cmat)"
   ]
  },
  {
   "cell_type": "markdown",
   "id": "459c1966",
   "metadata": {
    "slideshow": {
     "slide_type": "fragment"
    }
   },
   "source": [
    "Confusion matrix from `scikit-learn` has different orientation from textbook.  "
   ]
  },
  {
   "cell_type": "markdown",
   "id": "e25866bc",
   "metadata": {
    "slideshow": {
     "slide_type": "fragment"
    }
   },
   "source": [
    "Such orientation was organized from python indexing that starts from 0."
   ]
  },
  {
   "cell_type": "markdown",
   "id": "4036a544",
   "metadata": {
    "slideshow": {
     "slide_type": "fragment"
    }
   },
   "source": [
    "The orientation of confusion matrix is organized as follows\n",
    "- `TP`: cmat[1, 1]  \n",
    "- `TN`: cmat[0, 0]  \n",
    "- `FP`: cmat[0, 1]  \n",
    "- `FN`: cmat[1, 0]  \n",
    "  \n",
    "We can take those values to calculate `precision`, `recall`, `accuracy` and `F1`."
   ]
  },
  {
   "cell_type": "code",
   "execution_count": 123,
   "id": "5ca6560b",
   "metadata": {
    "ExecuteTime": {
     "end_time": "2022-10-17T07:19:25.353727Z",
     "start_time": "2022-10-17T07:19:25.332784Z"
    },
    "slideshow": {
     "slide_type": "fragment"
    }
   },
   "outputs": [
    {
     "name": "stdout",
     "output_type": "stream",
     "text": [
      "Precision is 0.783\n",
      "Recall is 0.857\n",
      "Accuracy is 0.822\n",
      "F1 is 0.818\n"
     ]
    }
   ],
   "source": [
    "print(\"Precision is {}\".format(round(cmat[1, 1] / (cmat[1, 1] + cmat[0, 1]), 3)))\n",
    "print(\"Recall is {}\".format(round(cmat[1, 1] / (cmat[1, 1] + cmat[1, 0]), 3)))\n",
    "print(\"Accuracy is {}\".format(round((cmat[1, 1] + cmat[0, 0]) / cmat.sum(), 3)))\n",
    "P = cmat[1, 1] / (cmat[1, 1] + cmat[0, 1])\n",
    "R = cmat[1, 1] / (cmat[1, 1] + cmat[1, 0])\n",
    "print(\"F1 is {}\".format(round(2 * P * R / (P + R), 3)))"
   ]
  },
  {
   "cell_type": "markdown",
   "id": "e749a6a4",
   "metadata": {
    "slideshow": {
     "slide_type": "subslide"
    }
   },
   "source": [
    "Alternatively, we can use the built-in function in sklearn"
   ]
  },
  {
   "cell_type": "code",
   "execution_count": 124,
   "id": "ca62a907",
   "metadata": {
    "ExecuteTime": {
     "end_time": "2022-10-17T07:19:56.782370Z",
     "start_time": "2022-10-17T07:19:56.750459Z"
    },
    "scrolled": true,
    "slideshow": {
     "slide_type": "fragment"
    }
   },
   "outputs": [
    {
     "name": "stdout",
     "output_type": "stream",
     "text": [
      "Precision is 0.783\n",
      "Recall is 0.857\n",
      "Accuracy is 0.822\n",
      "F1 is 0.818\n"
     ]
    }
   ],
   "source": [
    "precision = precision_score(y[test.index], yhat)\n",
    "recall = recall_score(y[test.index], yhat)\n",
    "accuracy = accuracy_score(y[test.index], yhat)\n",
    "f1 = f1_score(y[test.index], yhat)\n",
    "\n",
    "print(\"Precision is {}\".format(round(precision, 3)))\n",
    "print(\"Recall is {}\".format(round(recall, 3)))\n",
    "print(\"Accuracy is {}\".format(round(accuracy, 3)))\n",
    "print(\"F1 is {}\".format(round(f1, 3)))"
   ]
  },
  {
   "cell_type": "markdown",
   "id": "301e5b04",
   "metadata": {
    "slideshow": {
     "slide_type": "subslide"
    }
   },
   "source": [
    "### ROC Curve and PR Plot"
   ]
  },
  {
   "cell_type": "markdown",
   "id": "f376750d",
   "metadata": {
    "slideshow": {
     "slide_type": "fragment"
    }
   },
   "source": [
    "Behavior of the model can be observed via ROC curve and PR curve"
   ]
  },
  {
   "cell_type": "code",
   "execution_count": 127,
   "id": "b7ef790f",
   "metadata": {
    "ExecuteTime": {
     "end_time": "2022-10-17T07:26:19.633320Z",
     "start_time": "2022-10-17T07:26:19.615369Z"
    },
    "slideshow": {
     "slide_type": "fragment"
    }
   },
   "outputs": [],
   "source": [
    "from sklearn.metrics import roc_auc_score, precision_recall_curve, auc"
   ]
  },
  {
   "cell_type": "code",
   "execution_count": 126,
   "id": "71ee64be",
   "metadata": {
    "ExecuteTime": {
     "end_time": "2022-10-17T07:22:09.020518Z",
     "start_time": "2022-10-17T07:22:08.726218Z"
    },
    "slideshow": {
     "slide_type": "fragment"
    }
   },
   "outputs": [
    {
     "data": {
      "image/png": "[encoded data removed]",
      "text/plain": [
       "<Figure size 640x480 with 1 Axes>"
      ]
     },
     "metadata": {},
     "output_type": "display_data"
    }
   ],
   "source": [
    "aucroc = roc_auc_score(y_true=y[test.index], y_score=prob_test[:, 1])\n",
    "fpr, tpr, thresholds = roc_curve(y_true=y[test.index], y_score=prob_test[:, 1], pos_label=1)\n",
    "\n",
    "plt.style.use(\"default\")\n",
    "plt.plot(fpr, tpr, color=\"blue\", linewidth=2, label=\"AUCROC: {}\".format(round(aucroc, 3)))\n",
    "plt.plot([0, 1], [0, 1], color=\"gray\", linewidth=0.5)\n",
    "plt.xlim(0, 1)\n",
    "plt.ylim(0, 1)\n",
    "plt.xlabel(\"False-Positive Rate\")\n",
    "plt.ylabel(\"True-Positive Rate\")\n",
    "plt.title(\"ROC Curve\")\n",
    "plt.legend(loc=\"best\")\n",
    "plt.fill_between(fpr, tpr, color=\"azure\", alpha=0.5)\n",
    "plt.savefig(\"../images/roc_dt.svg\", format=\"svg\")"
   ]
  },
  {
   "cell_type": "code",
   "execution_count": 132,
   "id": "4089f987",
   "metadata": {
    "ExecuteTime": {
     "end_time": "2022-10-17T07:32:03.206840Z",
     "start_time": "2022-10-17T07:32:02.895162Z"
    },
    "slideshow": {
     "slide_type": "subslide"
    }
   },
   "outputs": [
    {
     "data": {
      "image/png": "[encoded data removed]",
      "text/plain": [
       "<Figure size 640x480 with 1 Axes>"
      ]
     },
     "metadata": {},
     "output_type": "display_data"
    }
   ],
   "source": [
    "p, r, t = precision_recall_curve(y_true=y[test.index], probas_pred=prob_test[:, 1], pos_label=1)\n",
    "aucpr = auc(r, p)\n",
    "plt.style.use(\"default\")\n",
    "plt.plot(r, p, color=\"blue\", linewidth=2, label=\"AUCPR: {}\".format(round(aucpr, 3)))\n",
    "plt.plot([1, 0], [0, 1], color=\"gray\", linewidth=0.5)\n",
    "plt.xlim(0, 1)\n",
    "plt.ylim(0, 1)\n",
    "plt.xlabel(\"Recall\")\n",
    "plt.ylabel(\"Precision\")\n",
    "plt.title(\"Precision-Recall Curve\")\n",
    "plt.legend(loc=\"best\")\n",
    "plt.fill_between(fpr, tpr, color=\"azure\", alpha=0.5)\n",
    "plt.savefig(\"../images/pr_dt.svg\", format=\"svg\")"
   ]
  },
  {
   "cell_type": "markdown",
   "id": "23aaebc0",
   "metadata": {
    "slideshow": {
     "slide_type": "slide"
    }
   },
   "source": [
    "# Analysis of Errors"
   ]
  },
  {
   "cell_type": "markdown",
   "id": "481c8be3",
   "metadata": {
    "slideshow": {
     "slide_type": "fragment"
    }
   },
   "source": [
    "This section demonstrates how to make a good discussions from experiment."
   ]
  },
  {
   "cell_type": "markdown",
   "id": "a6b23e34",
   "metadata": {
    "slideshow": {
     "slide_type": "fragment"
    }
   },
   "source": [
    "The topics include  \n",
    "- Model Visualization  \n",
    "- Analyzing misclassified samples"
   ]
  },
  {
   "cell_type": "markdown",
   "id": "12a75d54",
   "metadata": {
    "slideshow": {
     "slide_type": "subslide"
    }
   },
   "source": [
    "## Model Visualization"
   ]
  },
  {
   "cell_type": "markdown",
   "id": "2f19fba3",
   "metadata": {
    "slideshow": {
     "slide_type": "fragment"
    }
   },
   "source": [
    "Model visualization depends on the type of models."
   ]
  },
  {
   "cell_type": "markdown",
   "id": "da8b5e4a",
   "metadata": {
    "slideshow": {
     "slide_type": "fragment"
    }
   },
   "source": [
    "The decision tree can be visualized as a tree"
   ]
  },
  {
   "cell_type": "code",
   "execution_count": 177,
   "id": "783c24b4",
   "metadata": {
    "ExecuteTime": {
     "end_time": "2022-10-17T08:53:09.639501Z",
     "start_time": "2022-10-17T08:53:08.885430Z"
    },
    "slideshow": {
     "slide_type": "subslide"
    }
   },
   "outputs": [
    {
     "data": {
      "text/plain": [
       "[Text(0.5, 0.875, 'thal <= 4.5\\ngini = 0.5\\nsamples = 297\\nvalue = [148.5, 148.5]\\nclass = y[1]'),\n",
       " Text(0.25, 0.625, 'ca <= 0.5\\ngini = 0.379\\nsamples = 164\\nvalue = [117.872, 40.106]\\nclass = y[0]'),\n",
       " Text(0.125, 0.375, 'trestbps <= 157.0\\ngini = 0.226\\nsamples = 115\\nvalue = [94.669, 14.091]\\nclass = y[0]'),\n",
       " Text(0.0625, 0.125, 'gini = 0.172\\nsamples = 109\\nvalue = [92.812, 9.755]\\nclass = y[0]'),\n",
       " Text(0.1875, 0.125, 'gini = 0.42\\nsamples = 6\\nvalue = [1.856, 4.336]\\nclass = y[1]'),\n",
       " Text(0.375, 0.375, 'cp <= 3.5\\ngini = 0.498\\nsamples = 49\\nvalue = [23.203, 26.015]\\nclass = y[1]'),\n",
       " Text(0.3125, 0.125, 'gini = 0.395\\nsamples = 29\\nvalue = [20.419, 7.588]\\nclass = y[0]'),\n",
       " Text(0.4375, 0.125, 'gini = 0.228\\nsamples = 20\\nvalue = [2.784, 18.427]\\nclass = y[1]'),\n",
       " Text(0.75, 0.625, 'cp <= 3.5\\ngini = 0.344\\nsamples = 133\\nvalue = [30.628, 108.394]\\nclass = y[1]'),\n",
       " Text(0.625, 0.375, 'ca <= 0.5\\ngini = 0.499\\nsamples = 44\\nvalue = [21.347, 22.763]\\nclass = y[1]'),\n",
       " Text(0.5625, 0.125, 'gini = 0.442\\nsamples = 27\\nvalue = [17.634, 8.672]\\nclass = y[0]'),\n",
       " Text(0.6875, 0.125, 'gini = 0.33\\nsamples = 17\\nvalue = [3.712, 14.091]\\nclass = y[1]'),\n",
       " Text(0.875, 0.375, 'oldpeak <= 0.55\\ngini = 0.176\\nsamples = 89\\nvalue = [9.281, 85.631]\\nclass = y[1]'),\n",
       " Text(0.8125, 0.125, 'gini = 0.452\\nsamples = 21\\nvalue = [7.425, 14.091]\\nclass = y[1]'),\n",
       " Text(0.9375, 0.125, 'gini = 0.049\\nsamples = 68\\nvalue = [1.856, 71.54]\\nclass = y[1]')]"
      ]
     },
     "execution_count": 177,
     "metadata": {},
     "output_type": "execute_result"
    },
    {
     "data": {
      "image/png": "[encoded data removed]",
      "text/plain": [
       "<Figure size 2000x500 with 1 Axes>"
      ]
     },
     "metadata": {},
     "output_type": "display_data"
    }
   ],
   "source": [
    "from sklearn import tree\n",
    "\n",
    "plt.figure(figsize=(20,5))\n",
    "tree.plot_tree(grid_search.best_estimator_, fontsize=10, feature_names=df.columns[0:-1], class_names=True, filled=True)"
   ]
  },
  {
   "cell_type": "markdown",
   "id": "2d3213f9",
   "metadata": {
    "slideshow": {
     "slide_type": "subslide"
    }
   },
   "source": [
    "## Analyzing Misclassified Samples"
   ]
  },
  {
   "cell_type": "markdown",
   "id": "093622ca",
   "metadata": {
    "slideshow": {
     "slide_type": "fragment"
    }
   },
   "source": [
    "To perform an analysis of errors, we should start from hypothesis"
   ]
  },
  {
   "cell_type": "markdown",
   "id": "9fb755c9",
   "metadata": {
    "slideshow": {
     "slide_type": "fragment"
    }
   },
   "source": [
    "Findings for each hypothesis leads to insights to summarize in discussions "
   ]
  },
  {
   "cell_type": "markdown",
   "id": "827bb710",
   "metadata": {
    "slideshow": {
     "slide_type": "fragment"
    }
   },
   "source": [
    "**Question** What could make misclassification?"
   ]
  },
  {
   "cell_type": "markdown",
   "id": "6399c0c8",
   "metadata": {
    "slideshow": {
     "slide_type": "fragment"
    }
   },
   "source": [
    "**Answer** One of possible reasons for this experiment is about coverage in training data"
   ]
  },
  {
   "cell_type": "markdown",
   "id": "9ed5b9cc",
   "metadata": {
    "slideshow": {
     "slide_type": "fragment"
    }
   },
   "source": [
    "We hypothesize that the training data were not cover the pattern of misclassified samples"
   ]
  },
  {
   "cell_type": "markdown",
   "id": "1151c0fa",
   "metadata": {
    "slideshow": {
     "slide_type": "fragment"
    }
   },
   "source": [
    "We can simple create the pattern of training data and misclassified samples using line graph"
   ]
  },
  {
   "cell_type": "markdown",
   "id": "8f265c00",
   "metadata": {
    "slideshow": {
     "slide_type": "subslide"
    }
   },
   "source": [
    "Although some features are categorical but we won't make inference from numbering representation, all we need is to see the pattern."
   ]
  },
  {
   "cell_type": "code",
   "execution_count": 149,
   "id": "2ac28a8b",
   "metadata": {
    "ExecuteTime": {
     "end_time": "2022-10-17T08:21:51.703467Z",
     "start_time": "2022-10-17T08:21:51.683518Z"
    },
    "slideshow": {
     "slide_type": "fragment"
    }
   },
   "outputs": [],
   "source": [
    "test_samples = test.copy()\n",
    "test_samples[\"yhat\"] = yhat\n",
    "missclf = test_samples[test_samples[\"label\"] != test_samples[\"yhat\"]].reset_index()"
   ]
  },
  {
   "cell_type": "code",
   "execution_count": 150,
   "id": "e39ba0b7",
   "metadata": {
    "ExecuteTime": {
     "end_time": "2022-10-17T08:21:54.305899Z",
     "start_time": "2022-10-17T08:21:54.254660Z"
    },
    "slideshow": {
     "slide_type": "fragment"
    }
   },
   "outputs": [
    {
     "data": {
      "text/html": [
       "<div>\n",
       "<style scoped>\n",
       "    .dataframe tbody tr th:only-of-type {\n",
       "        vertical-align: middle;\n",
       "    }\n",
       "\n",
       "    .dataframe tbody tr th {\n",
       "        vertical-align: top;\n",
       "    }\n",
       "\n",
       "    .dataframe thead th {\n",
       "        text-align: right;\n",
       "    }\n",
       "</style>\n",
       "<table border=\"1\" class=\"dataframe\">\n",
       "  <thead>\n",
       "    <tr style=\"text-align: right;\">\n",
       "      <th></th>\n",
       "      <th>index</th>\n",
       "      <th>age</th>\n",
       "      <th>sex</th>\n",
       "      <th>cp</th>\n",
       "      <th>trestbps</th>\n",
       "      <th>chol</th>\n",
       "      <th>fbs</th>\n",
       "      <th>restecg</th>\n",
       "      <th>thalach</th>\n",
       "      <th>exang</th>\n",
       "      <th>oldpeak</th>\n",
       "      <th>slope</th>\n",
       "      <th>ca</th>\n",
       "      <th>thal</th>\n",
       "      <th>label</th>\n",
       "      <th>yhat</th>\n",
       "    </tr>\n",
       "  </thead>\n",
       "  <tbody>\n",
       "    <tr>\n",
       "      <th>0</th>\n",
       "      <td>10</td>\n",
       "      <td>57.0</td>\n",
       "      <td>1.0</td>\n",
       "      <td>4.0</td>\n",
       "      <td>140.0</td>\n",
       "      <td>192.0</td>\n",
       "      <td>0.0</td>\n",
       "      <td>0.0</td>\n",
       "      <td>148.0</td>\n",
       "      <td>0.0</td>\n",
       "      <td>0.4</td>\n",
       "      <td>2.0</td>\n",
       "      <td>0.0</td>\n",
       "      <td>6.0</td>\n",
       "      <td>0</td>\n",
       "      <td>1</td>\n",
       "    </tr>\n",
       "    <tr>\n",
       "      <th>1</th>\n",
       "      <td>75</td>\n",
       "      <td>65.0</td>\n",
       "      <td>0.0</td>\n",
       "      <td>3.0</td>\n",
       "      <td>160.0</td>\n",
       "      <td>360.0</td>\n",
       "      <td>0.0</td>\n",
       "      <td>2.0</td>\n",
       "      <td>151.0</td>\n",
       "      <td>0.0</td>\n",
       "      <td>0.8</td>\n",
       "      <td>1.0</td>\n",
       "      <td>0.0</td>\n",
       "      <td>3.0</td>\n",
       "      <td>0</td>\n",
       "      <td>1</td>\n",
       "    </tr>\n",
       "    <tr>\n",
       "      <th>2</th>\n",
       "      <td>240</td>\n",
       "      <td>61.0</td>\n",
       "      <td>1.0</td>\n",
       "      <td>1.0</td>\n",
       "      <td>134.0</td>\n",
       "      <td>234.0</td>\n",
       "      <td>0.0</td>\n",
       "      <td>0.0</td>\n",
       "      <td>145.0</td>\n",
       "      <td>0.0</td>\n",
       "      <td>2.6</td>\n",
       "      <td>2.0</td>\n",
       "      <td>2.0</td>\n",
       "      <td>3.0</td>\n",
       "      <td>1</td>\n",
       "      <td>0</td>\n",
       "    </tr>\n",
       "    <tr>\n",
       "      <th>3</th>\n",
       "      <td>247</td>\n",
       "      <td>57.0</td>\n",
       "      <td>1.0</td>\n",
       "      <td>4.0</td>\n",
       "      <td>110.0</td>\n",
       "      <td>201.0</td>\n",
       "      <td>0.0</td>\n",
       "      <td>0.0</td>\n",
       "      <td>126.0</td>\n",
       "      <td>1.0</td>\n",
       "      <td>1.5</td>\n",
       "      <td>2.0</td>\n",
       "      <td>0.0</td>\n",
       "      <td>6.0</td>\n",
       "      <td>0</td>\n",
       "      <td>1</td>\n",
       "    </tr>\n",
       "    <tr>\n",
       "      <th>4</th>\n",
       "      <td>289</td>\n",
       "      <td>63.0</td>\n",
       "      <td>0.0</td>\n",
       "      <td>4.0</td>\n",
       "      <td>124.0</td>\n",
       "      <td>197.0</td>\n",
       "      <td>0.0</td>\n",
       "      <td>0.0</td>\n",
       "      <td>136.0</td>\n",
       "      <td>1.0</td>\n",
       "      <td>0.0</td>\n",
       "      <td>2.0</td>\n",
       "      <td>0.0</td>\n",
       "      <td>3.0</td>\n",
       "      <td>1</td>\n",
       "      <td>0</td>\n",
       "    </tr>\n",
       "    <tr>\n",
       "      <th>5</th>\n",
       "      <td>101</td>\n",
       "      <td>57.0</td>\n",
       "      <td>0.0</td>\n",
       "      <td>4.0</td>\n",
       "      <td>128.0</td>\n",
       "      <td>303.0</td>\n",
       "      <td>0.0</td>\n",
       "      <td>2.0</td>\n",
       "      <td>159.0</td>\n",
       "      <td>0.0</td>\n",
       "      <td>0.0</td>\n",
       "      <td>1.0</td>\n",
       "      <td>1.0</td>\n",
       "      <td>3.0</td>\n",
       "      <td>0</td>\n",
       "      <td>1</td>\n",
       "    </tr>\n",
       "    <tr>\n",
       "      <th>6</th>\n",
       "      <td>142</td>\n",
       "      <td>64.0</td>\n",
       "      <td>1.0</td>\n",
       "      <td>3.0</td>\n",
       "      <td>125.0</td>\n",
       "      <td>309.0</td>\n",
       "      <td>0.0</td>\n",
       "      <td>0.0</td>\n",
       "      <td>131.0</td>\n",
       "      <td>1.0</td>\n",
       "      <td>1.8</td>\n",
       "      <td>2.0</td>\n",
       "      <td>0.0</td>\n",
       "      <td>7.0</td>\n",
       "      <td>1</td>\n",
       "      <td>0</td>\n",
       "    </tr>\n",
       "    <tr>\n",
       "      <th>7</th>\n",
       "      <td>174</td>\n",
       "      <td>52.0</td>\n",
       "      <td>1.0</td>\n",
       "      <td>4.0</td>\n",
       "      <td>108.0</td>\n",
       "      <td>233.0</td>\n",
       "      <td>1.0</td>\n",
       "      <td>0.0</td>\n",
       "      <td>147.0</td>\n",
       "      <td>0.0</td>\n",
       "      <td>0.1</td>\n",
       "      <td>1.0</td>\n",
       "      <td>3.0</td>\n",
       "      <td>7.0</td>\n",
       "      <td>0</td>\n",
       "      <td>1</td>\n",
       "    </tr>\n",
       "  </tbody>\n",
       "</table>\n",
       "</div>"
      ],
      "text/plain": [
       "   index   age  sex   cp  trestbps   chol  fbs  restecg  thalach  exang  \\\n",
       "0     10  57.0  1.0  4.0     140.0  192.0  0.0      0.0    148.0    0.0   \n",
       "1     75  65.0  0.0  3.0     160.0  360.0  0.0      2.0    151.0    0.0   \n",
       "2    240  61.0  1.0  1.0     134.0  234.0  0.0      0.0    145.0    0.0   \n",
       "3    247  57.0  1.0  4.0     110.0  201.0  0.0      0.0    126.0    1.0   \n",
       "4    289  63.0  0.0  4.0     124.0  197.0  0.0      0.0    136.0    1.0   \n",
       "5    101  57.0  0.0  4.0     128.0  303.0  0.0      2.0    159.0    0.0   \n",
       "6    142  64.0  1.0  3.0     125.0  309.0  0.0      0.0    131.0    1.0   \n",
       "7    174  52.0  1.0  4.0     108.0  233.0  1.0      0.0    147.0    0.0   \n",
       "\n",
       "   oldpeak  slope   ca  thal  label  yhat  \n",
       "0      0.4    2.0  0.0   6.0      0     1  \n",
       "1      0.8    1.0  0.0   3.0      0     1  \n",
       "2      2.6    2.0  2.0   3.0      1     0  \n",
       "3      1.5    2.0  0.0   6.0      0     1  \n",
       "4      0.0    2.0  0.0   3.0      1     0  \n",
       "5      0.0    1.0  1.0   3.0      0     1  \n",
       "6      1.8    2.0  0.0   7.0      1     0  \n",
       "7      0.1    1.0  3.0   7.0      0     1  "
      ]
     },
     "execution_count": 150,
     "metadata": {},
     "output_type": "execute_result"
    }
   ],
   "source": [
    "missclf"
   ]
  },
  {
   "cell_type": "code",
   "execution_count": 151,
   "id": "0d8f096a",
   "metadata": {
    "ExecuteTime": {
     "end_time": "2022-10-17T08:21:57.362965Z",
     "start_time": "2022-10-17T08:21:57.344019Z"
    },
    "slideshow": {
     "slide_type": "subslide"
    }
   },
   "outputs": [],
   "source": [
    "def error_types(label, yhat):\n",
    "    if (label == 1) & (yhat == 0):\n",
    "        return \"fn\"\n",
    "    elif (label == 0) & (yhat == 1):\n",
    "        return \"fp\"\n",
    "    else:\n",
    "        return \"correct\""
   ]
  },
  {
   "cell_type": "code",
   "execution_count": 152,
   "id": "f5e4b85e",
   "metadata": {
    "ExecuteTime": {
     "end_time": "2022-10-17T08:21:58.085048Z",
     "start_time": "2022-10-17T08:21:58.043157Z"
    },
    "slideshow": {
     "slide_type": "fragment"
    }
   },
   "outputs": [
    {
     "data": {
      "text/html": [
       "<div>\n",
       "<style scoped>\n",
       "    .dataframe tbody tr th:only-of-type {\n",
       "        vertical-align: middle;\n",
       "    }\n",
       "\n",
       "    .dataframe tbody tr th {\n",
       "        vertical-align: top;\n",
       "    }\n",
       "\n",
       "    .dataframe thead th {\n",
       "        text-align: right;\n",
       "    }\n",
       "</style>\n",
       "<table border=\"1\" class=\"dataframe\">\n",
       "  <thead>\n",
       "    <tr style=\"text-align: right;\">\n",
       "      <th></th>\n",
       "      <th>index</th>\n",
       "      <th>age</th>\n",
       "      <th>sex</th>\n",
       "      <th>cp</th>\n",
       "      <th>trestbps</th>\n",
       "      <th>chol</th>\n",
       "      <th>fbs</th>\n",
       "      <th>restecg</th>\n",
       "      <th>thalach</th>\n",
       "      <th>exang</th>\n",
       "      <th>oldpeak</th>\n",
       "      <th>slope</th>\n",
       "      <th>ca</th>\n",
       "      <th>thal</th>\n",
       "      <th>label</th>\n",
       "      <th>yhat</th>\n",
       "      <th>error</th>\n",
       "    </tr>\n",
       "  </thead>\n",
       "  <tbody>\n",
       "    <tr>\n",
       "      <th>0</th>\n",
       "      <td>10</td>\n",
       "      <td>57.0</td>\n",
       "      <td>1.0</td>\n",
       "      <td>4.0</td>\n",
       "      <td>140.0</td>\n",
       "      <td>192.0</td>\n",
       "      <td>0.0</td>\n",
       "      <td>0.0</td>\n",
       "      <td>148.0</td>\n",
       "      <td>0.0</td>\n",
       "      <td>0.4</td>\n",
       "      <td>2.0</td>\n",
       "      <td>0.0</td>\n",
       "      <td>6.0</td>\n",
       "      <td>0</td>\n",
       "      <td>1</td>\n",
       "      <td>fp</td>\n",
       "    </tr>\n",
       "    <tr>\n",
       "      <th>1</th>\n",
       "      <td>75</td>\n",
       "      <td>65.0</td>\n",
       "      <td>0.0</td>\n",
       "      <td>3.0</td>\n",
       "      <td>160.0</td>\n",
       "      <td>360.0</td>\n",
       "      <td>0.0</td>\n",
       "      <td>2.0</td>\n",
       "      <td>151.0</td>\n",
       "      <td>0.0</td>\n",
       "      <td>0.8</td>\n",
       "      <td>1.0</td>\n",
       "      <td>0.0</td>\n",
       "      <td>3.0</td>\n",
       "      <td>0</td>\n",
       "      <td>1</td>\n",
       "      <td>fp</td>\n",
       "    </tr>\n",
       "    <tr>\n",
       "      <th>2</th>\n",
       "      <td>240</td>\n",
       "      <td>61.0</td>\n",
       "      <td>1.0</td>\n",
       "      <td>1.0</td>\n",
       "      <td>134.0</td>\n",
       "      <td>234.0</td>\n",
       "      <td>0.0</td>\n",
       "      <td>0.0</td>\n",
       "      <td>145.0</td>\n",
       "      <td>0.0</td>\n",
       "      <td>2.6</td>\n",
       "      <td>2.0</td>\n",
       "      <td>2.0</td>\n",
       "      <td>3.0</td>\n",
       "      <td>1</td>\n",
       "      <td>0</td>\n",
       "      <td>fn</td>\n",
       "    </tr>\n",
       "    <tr>\n",
       "      <th>3</th>\n",
       "      <td>247</td>\n",
       "      <td>57.0</td>\n",
       "      <td>1.0</td>\n",
       "      <td>4.0</td>\n",
       "      <td>110.0</td>\n",
       "      <td>201.0</td>\n",
       "      <td>0.0</td>\n",
       "      <td>0.0</td>\n",
       "      <td>126.0</td>\n",
       "      <td>1.0</td>\n",
       "      <td>1.5</td>\n",
       "      <td>2.0</td>\n",
       "      <td>0.0</td>\n",
       "      <td>6.0</td>\n",
       "      <td>0</td>\n",
       "      <td>1</td>\n",
       "      <td>fp</td>\n",
       "    </tr>\n",
       "    <tr>\n",
       "      <th>4</th>\n",
       "      <td>289</td>\n",
       "      <td>63.0</td>\n",
       "      <td>0.0</td>\n",
       "      <td>4.0</td>\n",
       "      <td>124.0</td>\n",
       "      <td>197.0</td>\n",
       "      <td>0.0</td>\n",
       "      <td>0.0</td>\n",
       "      <td>136.0</td>\n",
       "      <td>1.0</td>\n",
       "      <td>0.0</td>\n",
       "      <td>2.0</td>\n",
       "      <td>0.0</td>\n",
       "      <td>3.0</td>\n",
       "      <td>1</td>\n",
       "      <td>0</td>\n",
       "      <td>fn</td>\n",
       "    </tr>\n",
       "    <tr>\n",
       "      <th>5</th>\n",
       "      <td>101</td>\n",
       "      <td>57.0</td>\n",
       "      <td>0.0</td>\n",
       "      <td>4.0</td>\n",
       "      <td>128.0</td>\n",
       "      <td>303.0</td>\n",
       "      <td>0.0</td>\n",
       "      <td>2.0</td>\n",
       "      <td>159.0</td>\n",
       "      <td>0.0</td>\n",
       "      <td>0.0</td>\n",
       "      <td>1.0</td>\n",
       "      <td>1.0</td>\n",
       "      <td>3.0</td>\n",
       "      <td>0</td>\n",
       "      <td>1</td>\n",
       "      <td>fp</td>\n",
       "    </tr>\n",
       "    <tr>\n",
       "      <th>6</th>\n",
       "      <td>142</td>\n",
       "      <td>64.0</td>\n",
       "      <td>1.0</td>\n",
       "      <td>3.0</td>\n",
       "      <td>125.0</td>\n",
       "      <td>309.0</td>\n",
       "      <td>0.0</td>\n",
       "      <td>0.0</td>\n",
       "      <td>131.0</td>\n",
       "      <td>1.0</td>\n",
       "      <td>1.8</td>\n",
       "      <td>2.0</td>\n",
       "      <td>0.0</td>\n",
       "      <td>7.0</td>\n",
       "      <td>1</td>\n",
       "      <td>0</td>\n",
       "      <td>fn</td>\n",
       "    </tr>\n",
       "    <tr>\n",
       "      <th>7</th>\n",
       "      <td>174</td>\n",
       "      <td>52.0</td>\n",
       "      <td>1.0</td>\n",
       "      <td>4.0</td>\n",
       "      <td>108.0</td>\n",
       "      <td>233.0</td>\n",
       "      <td>1.0</td>\n",
       "      <td>0.0</td>\n",
       "      <td>147.0</td>\n",
       "      <td>0.0</td>\n",
       "      <td>0.1</td>\n",
       "      <td>1.0</td>\n",
       "      <td>3.0</td>\n",
       "      <td>7.0</td>\n",
       "      <td>0</td>\n",
       "      <td>1</td>\n",
       "      <td>fp</td>\n",
       "    </tr>\n",
       "  </tbody>\n",
       "</table>\n",
       "</div>"
      ],
      "text/plain": [
       "   index   age  sex   cp  trestbps   chol  fbs  restecg  thalach  exang  \\\n",
       "0     10  57.0  1.0  4.0     140.0  192.0  0.0      0.0    148.0    0.0   \n",
       "1     75  65.0  0.0  3.0     160.0  360.0  0.0      2.0    151.0    0.0   \n",
       "2    240  61.0  1.0  1.0     134.0  234.0  0.0      0.0    145.0    0.0   \n",
       "3    247  57.0  1.0  4.0     110.0  201.0  0.0      0.0    126.0    1.0   \n",
       "4    289  63.0  0.0  4.0     124.0  197.0  0.0      0.0    136.0    1.0   \n",
       "5    101  57.0  0.0  4.0     128.0  303.0  0.0      2.0    159.0    0.0   \n",
       "6    142  64.0  1.0  3.0     125.0  309.0  0.0      0.0    131.0    1.0   \n",
       "7    174  52.0  1.0  4.0     108.0  233.0  1.0      0.0    147.0    0.0   \n",
       "\n",
       "   oldpeak  slope   ca  thal  label  yhat error  \n",
       "0      0.4    2.0  0.0   6.0      0     1    fp  \n",
       "1      0.8    1.0  0.0   3.0      0     1    fp  \n",
       "2      2.6    2.0  2.0   3.0      1     0    fn  \n",
       "3      1.5    2.0  0.0   6.0      0     1    fp  \n",
       "4      0.0    2.0  0.0   3.0      1     0    fn  \n",
       "5      0.0    1.0  1.0   3.0      0     1    fp  \n",
       "6      1.8    2.0  0.0   7.0      1     0    fn  \n",
       "7      0.1    1.0  3.0   7.0      0     1    fp  "
      ]
     },
     "execution_count": 152,
     "metadata": {},
     "output_type": "execute_result"
    }
   ],
   "source": [
    "missclf[\"error\"] = missclf.apply(lambda x: error_types(x[\"label\"], x[\"yhat\"]), axis=1)\n",
    "missclf"
   ]
  },
  {
   "cell_type": "code",
   "execution_count": 169,
   "id": "7181289b",
   "metadata": {
    "ExecuteTime": {
     "end_time": "2022-10-17T08:34:35.576806Z",
     "start_time": "2022-10-17T08:34:29.051934Z"
    },
    "slideshow": {
     "slide_type": "subslide"
    }
   },
   "outputs": [
    {
     "data": {
      "image/png": "[encoded data removed]",
      "text/plain": [
       "<Figure size 700x500 with 1 Axes>"
      ]
     },
     "metadata": {},
     "output_type": "display_data"
    }
   ],
   "source": [
    "figure, axis = plt.subplots(figsize=(7, 5))\n",
    "\n",
    "for i in train.index:\n",
    "    xlabel = df.columns[0:-1]\n",
    "    xval = range(len(xlabel))\n",
    "    yval = train.loc[i, xlabel]\n",
    "    axis.plot(xval, yval, alpha=0.5, color=\"blue\")\n",
    "    \n",
    "for i in missclf.index:\n",
    "    xlabel = df.columns[0:-1]\n",
    "    xval = range(len(xlabel))\n",
    "    yval = missclf.loc[i, xlabel]\n",
    "    axis.plot(xval, yval, alpha=0.5, color=\"red\")"
   ]
  },
  {
   "cell_type": "markdown",
   "id": "3d435afc",
   "metadata": {
    "ExecuteTime": {
     "end_time": "2022-10-17T08:23:55.964628Z",
     "start_time": "2022-10-17T08:23:55.915885Z"
    },
    "slideshow": {
     "slide_type": "subslide"
    }
   },
   "source": [
    "The line plot shows pattern of training data that seems to have enough coverage for all missclassified samples."
   ]
  },
  {
   "cell_type": "markdown",
   "id": "52e278ff",
   "metadata": {
    "slideshow": {
     "slide_type": "fragment"
    }
   },
   "source": [
    "We could dril-down to the more precise hypothesis for each class"
   ]
  },
  {
   "cell_type": "code",
   "execution_count": 172,
   "id": "12bc17a7",
   "metadata": {
    "ExecuteTime": {
     "end_time": "2022-10-17T08:39:20.145716Z",
     "start_time": "2022-10-17T08:39:20.124250Z"
    },
    "slideshow": {
     "slide_type": "fragment"
    }
   },
   "outputs": [],
   "source": [
    "fp = missclf[missclf[\"error\"] == \"fp\"].reset_index(drop=True)\n",
    "pos_samples = train[train[\"label\"] == 1].reset_index()"
   ]
  },
  {
   "cell_type": "code",
   "execution_count": 173,
   "id": "05fabe3a",
   "metadata": {
    "ExecuteTime": {
     "end_time": "2022-10-17T08:40:13.404281Z",
     "start_time": "2022-10-17T08:40:10.421714Z"
    },
    "scrolled": false,
    "slideshow": {
     "slide_type": "subslide"
    }
   },
   "outputs": [
    {
     "data": {
      "image/png": "[encoded data removed]",
      "text/plain": [
       "<Figure size 700x500 with 1 Axes>"
      ]
     },
     "metadata": {},
     "output_type": "display_data"
    }
   ],
   "source": [
    "figure, axis = plt.subplots(figsize=(7, 5))\n",
    "\n",
    "for i in pos_samples.index:\n",
    "    xlabel = df.columns[0:-1]\n",
    "    xval = range(len(xlabel))\n",
    "    yval = pos_samples.loc[i, xlabel]\n",
    "    axis.plot(xval, yval, alpha=0.5, color=\"blue\")\n",
    "    \n",
    "for i in fp.index:\n",
    "    xlabel = df.columns[0:-1]\n",
    "    xval = range(len(xlabel))\n",
    "    yval = fp.loc[i, xlabel]\n",
    "    axis.plot(xval, yval, alpha=0.5, color=\"red\")"
   ]
  },
  {
   "cell_type": "code",
   "execution_count": 174,
   "id": "309e04cd",
   "metadata": {
    "ExecuteTime": {
     "end_time": "2022-10-17T08:41:13.329522Z",
     "start_time": "2022-10-17T08:41:13.310100Z"
    },
    "slideshow": {
     "slide_type": "fragment"
    }
   },
   "outputs": [],
   "source": [
    "fn = missclf[missclf[\"error\"] == \"fn\"].reset_index(drop=True)\n",
    "neg_samples = train[train[\"label\"] == 0].reset_index()"
   ]
  },
  {
   "cell_type": "code",
   "execution_count": 175,
   "id": "a6a53208",
   "metadata": {
    "ExecuteTime": {
     "end_time": "2022-10-17T08:41:47.549522Z",
     "start_time": "2022-10-17T08:41:44.202452Z"
    },
    "slideshow": {
     "slide_type": "subslide"
    }
   },
   "outputs": [
    {
     "data": {
      "image/png": "[encoded data removed]",
      "text/plain": [
       "<Figure size 700x500 with 1 Axes>"
      ]
     },
     "metadata": {},
     "output_type": "display_data"
    }
   ],
   "source": [
    "figure, axis = plt.subplots(figsize=(7, 5))\n",
    "\n",
    "for i in neg_samples.index:\n",
    "    xlabel = df.columns[0:-1]\n",
    "    xval = range(len(xlabel))\n",
    "    yval = neg_samples.loc[i, xlabel]\n",
    "    axis.plot(xval, yval, alpha=0.5, color=\"blue\")\n",
    "    \n",
    "for i in fn.index:\n",
    "    xlabel = df.columns[0:-1]\n",
    "    xval = range(len(xlabel))\n",
    "    yval = fn.loc[i, xlabel]\n",
    "    axis.plot(xval, yval, alpha=0.5, color=\"red\")"
   ]
  },
  {
   "cell_type": "markdown",
   "id": "7b588e27",
   "metadata": {
    "slideshow": {
     "slide_type": "fragment"
    }
   },
   "source": [
    "Clearly, the hypothesis about not enough coverage in training samples is rejected."
   ]
  },
  {
   "cell_type": "markdown",
   "id": "03d90dca",
   "metadata": {
    "ExecuteTime": {
     "end_time": "2022-10-17T08:44:02.823274Z",
     "start_time": "2022-10-17T08:44:02.761439Z"
    },
    "slideshow": {
     "slide_type": "fragment"
    }
   },
   "source": [
    "We can also hypothesize about some medical knowledge that could explain why did we get these misclassified samples"
   ]
  },
  {
   "cell_type": "code",
   "execution_count": null,
   "id": "69727c81",
   "metadata": {},
   "outputs": [],
   "source": []
  }
 ],
 "metadata": {
  "celltoolbar": "Slideshow",
  "kernelspec": {
   "display_name": "Python 3 (ipykernel)",
   "language": "python",
   "name": "python3"
  },
  "language_info": {
   "codemirror_mode": {
    "name": "ipython",
    "version": 3
   },
   "file_extension": ".py",
   "mimetype": "text/x-python",
   "name": "python",
   "nbconvert_exporter": "python",
   "pygments_lexer": "ipython3",
   "version": "3.9.12"
  },
  "toc": {
   "base_numbering": 1,
   "nav_menu": {},
   "number_sections": true,
   "sideBar": true,
   "skip_h1_title": false,
   "title_cell": "Table of Contents",
   "title_sidebar": "Contents",
   "toc_cell": false,
   "toc_position": {
    "height": "calc(100% - 180px)",
    "left": "10px",
    "top": "150px",
    "width": "165px"
   },
   "toc_section_display": true,
   "toc_window_display": true
  },
  "varInspector": {
   "cols": {
    "lenName": 16,
    "lenType": 16,
    "lenVar": 40
   },
   "kernels_config": {
    "python": {
     "delete_cmd_postfix": "",
     "delete_cmd_prefix": "del ",
     "library": "var_list.py",
     "varRefreshCmd": "print(var_dic_list())"
    },
    "r": {
     "delete_cmd_postfix": ") ",
     "delete_cmd_prefix": "rm(",
     "library": "var_list.r",
     "varRefreshCmd": "cat(var_dic_list()) "
    }
   },
   "types_to_exclude": [
    "module",
    "function",
    "builtin_function_or_method",
    "instance",
    "_Feature"
   ],
   "window_display": false
  }
 },
 "nbformat": 4,
 "nbformat_minor": 5
}
