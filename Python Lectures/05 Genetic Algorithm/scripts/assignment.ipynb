{
 "cells": [
  {
   "cell_type": "markdown",
   "metadata": {},
   "source": [
    "## **RADI608: Data Mining and Machine Learning**\n",
    "\n",
    "### Assignment: Genetic Algorithm\n",
    "**Romen Samuel Rodis Wabina** <br>\n",
    "Student, PhD Data Science in Healthcare and Clinical Informatics <br>\n",
    "Clinical Epidemiology and Biostatistics, Faculty of Medicine (Ramathibodi Hospital) <br>\n",
    "Mahidol University"
   ]
  },
  {
   "cell_type": "markdown",
   "metadata": {},
   "source": [
    "## Question 1: <code> Find the best weights at generation 2 by manual and start with 8 chromosomes </code>\n",
    "\n",
    "## Generate random population \n",
    "##### Suppose $w_i$ is a function weight where $w$ is an integer number between <code>range[0, 10)</code> such that $i = [1, 2, 3, 4, 5, 6]$. We first initialized a population that consists of eight (8) chromosomes with 6 genes per chromosome. This is represented in the figure below. I used <code>random.randint()</code> to help me draw random numbers from the given range with shape <code>(8, 6)</code>.\n",
    "\n",
    "<center>\n",
    "<img src = \"../figures/11.jpg\" width = '350'> <br>\n",
    "</center>"
   ]
  },
  {
   "cell_type": "markdown",
   "metadata": {},
   "source": [
    "##### Suppose $\\mathbf{y_i}$ is the fitness score of each chromosome $i \\in [1, 6]$. We evaluate the fitness of each chromosome to the given function $\\mathbf{y} = w_1x_1^2 + w_2x_2^3 + w_3x_3 + w_4x_4 + w_5x_5 + w_6x_6$ with given inputs $(x_1, x_2, x_3, x_4, x_5, x_6)$ = <code>(4, -2, 7, -5, 11, 1)</code>\n",
    "\n",
    "\\begin{equation*}\n",
    "\\begin{aligned}\n",
    "    \\mathbf{y_1} &= w_1x_1^2 + w_2x_2^3 + w_3x_3 + w_4x_4 + w_5x_5 + w_6x_6 \\\\\n",
    "    \\mathbf{y_1} &= (0)(4)^2 + (6)(-2)^3 + (4)(7) + (0)(-5) + (4)(11) + (5)(1) \\\\\n",
    "    \\mathbf{y_1} &= 29\n",
    "\\end{aligned}\n",
    "\\end{equation*}\n",
    "\n",
    "\\begin{equation*}\n",
    "\\begin{aligned}\n",
    "    \\mathbf{y_2} &= w_1x_1^2 + w_2x_2^3 + w_3x_3 + w_4x_4 + w_5x_5 + w_6x_6 \\\\\n",
    "    \\mathbf{y_2} &= (5)(4)^2 + (7)(-2)^3 + (0)(7) + (5)(-5) + (0)(11) + (8)(1) \\\\\n",
    "    \\mathbf{y_2} &= 7\n",
    "\\end{aligned}\n",
    "\\end{equation*}\n",
    "\n",
    "##### Doing the same calculation to the remaining $\\mathbf{y}$, the fitness scores from chromosome 1 to 6 are <code>(29, 7, 240, 22, 61, 72, 60, 114)</code>. Since we already got the fitness scores, we need to determine which among the chromosomes are parents (i.e., Daddy and Mommy). "
   ]
  },
  {
   "cell_type": "markdown",
   "metadata": {},
   "source": [
    "## Generation 1: Parent Selection \n",
    "\n",
    "##### Parents are used as the basis for generating the next generation of candidate points and one parent for each position in the population is required. Parents are then taken in pairs and used to create two children. We performed a recombination using a crossover operator by selecting a random split point on the chromosome, then creating a chile with the arrays up to the split point from the first parent (i.e., Daddy) and from the split point to the end of the array from the second parent (i.e., Mommy). This process is then inverted for the second child.  \n",
    "\n",
    "##### To do this, we selected the parents (i.e., chromosomes) for the next generation using a roulette wheel. We partitioned the ratio of fitness scores from each chromosome by getting the relative proportion (i.e., the probability for selecting the chromotion proportionate to its fitness value). Hence, its relative portion are <code>[0.0479, 0.0116, 0.3967, 0.0364, 0.1008, 0.119, 0.0992, 0.1884]</code>. The relative portion is best represented in the following table. The selection point is used to choose a single individual from the entire population. The wheel is then turned again to select the next individual until we have enough individuals selected to fill the next generation. \n",
    "\n",
    "<center>\n",
    "<img src = \"../figures/roulette.jpg\" width = '650'> <br>\n",
    "</center>\n",
    "\n",
    "##### We have four pairs of parents since there are eight chromosomes in this problem. Using <code>random.uniform(low = 0.0, high = 1.0)</code>, we randomly chose eight values to determine the parents (i.e., Daddy and Mommy) of the next generation. For the first pair, we have drawn <code>0.0016</code> and <code>0.0534</code>. Hence, then we choose chromosome 1 as Daddy while chromosome 2 as the Mommy. The second pair have drawn chromosomes 3 and 4 as Daddy and Mommy, respectively, with random values <code>0.4428</code> and <code>0.4792</code>. Meanwhile, the third pair have chosen chromosomes 5 and 6 as Daddy and Mommy with random values <code>0.5512</code> and <code>0.6232</code>. Finally, we choose chromosome 7 and chromosome 8 for the fourth pair as Daddy and Mommy having <code>0.7623</code> and <code>0.9913</code>, respectively. "
   ]
  },
  {
   "cell_type": "markdown",
   "metadata": {},
   "source": [
    "## Generation 1: Crossover\n",
    "\n",
    "##### There are four pairs of parents that have been selected above. Hence, we need to draw four random values between <code>[0, 1]</code> for the crossover probabilities of each parent. Given a crossover probability of a chromosome $i$, if it is less than <code>$p_C=0.8$</code>, then it will create offsprings. We have acquired four values - <code>(0.544, 0.643, 0.574, 0.0194)</code> - one for each chromosome. \n",
    "<center>\n",
    "<img src = \"../figures/12.jpg\" width = '1300'> <br>\n",
    "</center>"
   ]
  },
  {
   "cell_type": "markdown",
   "metadata": {},
   "source": [
    "## Generation 1: Mutation\n",
    "\n",
    "##### We then randomly selected six mutation probabilities for every chromosome to examine whether the offspring chromosome will mutate or not. The gene will mutate if its probability is less than the given mutation rate <code>$p_M = 0.1$</code>. From the figure below, we have shown that arrays in colored red are mutated from their original values. Let's say look at chromosome (a), since both genes <code>'0'</code> have mutation probabilities <code>0.0113</code> and <code>0.0626</code>, respectively, that are less than 0.1, then we mutated it into other values between <code>[0, 10)</code>. We used the <code>random.randint()</code> to help us draw random integer values between <code>[0, 10)</code>. Only the chromosome (b) and (h) did not mutate its values for this generation."
   ]
  },
  {
   "cell_type": "markdown",
   "metadata": {},
   "source": [
    "<center>\n",
    "<img src = \"../figures/13.jpg\" width = '900'> <br>\n",
    "</center>"
   ]
  },
  {
   "cell_type": "markdown",
   "metadata": {},
   "source": [
    "## Generation 2: New Population\n",
    "\n",
    "##### We evaluated the fitness score to all mutated offsprings using the given fitness function $\\mathbf{y}$. We then sorted these chromosomes from highest fitness score to lowest and get the top 8 chromosomes. These eight chromosomes will become the new population for the generation 2. \n",
    "\n",
    "##### The fitness scores of the chromosomes listed below are <code>240, 180, 119, 115, 114, 73, 72, 611</code>, respectively.\n",
    "\n",
    "<center>\n",
    "<img src = \"../figures/112.jpg\" width = 300'> <br>\n",
    "</center>"
   ]
  },
  {
   "cell_type": "markdown",
   "metadata": {},
   "source": [
    "## Generation 2: Parent Selection\n",
    "\n",
    "##### Similarly, we again select the parents (i.e., chromosomes) for the **second generation** using a roulette wheel. We partitioned the ratio of fitness scores from each chromosome by getting the relative proportion (i.e., the probability for selecting the chromotion proportionate to its fitness value). Hence, its relative portion are <code>[0.1596, 0.1169, 0.1147, 0.1088, 0.1417, 0.1147, 0.1398, 0.1038]</code>. The relative portion is best represented in the following diagram. Each time the wheel is turned, the selection point is used to choose a single individual from the entire population. The wheel is then turned again to select the next individual until we have enough individuals selected to fill the next generation. \n",
    "\n",
    "<center>\n",
    "<img src = \"../figures/roulette3.jpg\" width = '650'> <br>\n",
    "</center>\n",
    "\n",
    "##### With the help of numerical Python, we randomly drawn the following eight values to determine which of the chromosomes are selected as Daddy and Mommy for every pair: <code>(0.2464, 0.1848, 0.1222, 0.1181, 0.117, 0.0749, 0.0739, 0.0626)</code>. Therefore,\n",
    "        - Pair 1\n",
    "            1. Random 1: 0.6108, then choose chromosome 4 as Daddy\n",
    "            2. Random 2: 0.9006, then choose chromosome 7 as Mommy\n",
    "        - Pair 2\n",
    "            1. Random 3: 0.0501, then choose chromosome 1 as Daddy\n",
    "            2. Random 4: 0.6380, then choose chromosome 4 as Mommy\n",
    "        - Pair 3\n",
    "            1. Random 5: 0.3523, then choose chromosome 2 as Daddy\n",
    "            2. Random 6: 0.6742, then choose chromosome 5 as Mommy\n",
    "        - Pair 4\n",
    "            1. Random 7: 0.1979, then choose chromosome 1 as Daddy\n",
    "            2. Random 8: 0.8934, then choose chromosome 7 as Mommy"
   ]
  },
  {
   "cell_type": "markdown",
   "metadata": {},
   "source": [
    "## Generation 2: Crossover\n",
    "\n",
    "<center>\n",
    "<img src = \"../figures/14.jpg\" width = '1300'> <br>\n",
    "</center>"
   ]
  },
  {
   "cell_type": "markdown",
   "metadata": {},
   "source": [
    "## Generation 2: Mutation\n",
    "\n",
    "##### We randomly selected another six mutation probabilities for every chromosome to examine whether the offspring chromosome will mutate or not. The gene will mutate if its probability is less than the given mutation rate 0.1.\n",
    "\n",
    "<center>\n",
    "<img src = \"../figures/15.jpg\" width = '900'> <br>\n",
    "</center>"
   ]
  },
  {
   "cell_type": "markdown",
   "metadata": {},
   "source": [
    "## Evaluation of the Fitness Function \n",
    "\n",
    "##### We finally sort the parent chromosomes and child chromosomes based on pool to population. The figure below shows the top 8 chromosomes, along with their respective fitness score. Therefore, the weights $(w_1, w_2, w_3, w_4, w_5, w_6, w_7, w_8)$ at generation 2 are <code>(9, 0, 7, 1, 4, 8)</code>. \n",
    "\n",
    "<center>\n",
    "<img src = \"../figures/16.jpg\" width = '500'> <br>\n",
    "</center>\n",
    "\n"
   ]
  },
  {
   "cell_type": "markdown",
   "metadata": {},
   "source": [
    "## Question 2: <code> Find the best weights at generation 1000 and start with 50 chromosomes </code>"
   ]
  },
  {
   "cell_type": "code",
   "execution_count": 1,
   "metadata": {},
   "outputs": [
    {
     "name": "stdout",
     "output_type": "stream",
     "text": [
      "Best approximate weight solution:  \t [[7.19 1.16 9.71 2.41 8.34 4.89]\n",
      " [7.19 1.16 9.71 2.41 8.34 4.89]]\n",
      "Best approximate solution fitness: \t 356.513\n"
     ]
    }
   ],
   "source": [
    "import sys\n",
    "import numpy as np\n",
    "import random \n",
    "import matplotlib.pyplot as plt   \n",
    "\n",
    "def cal_fitness(inputs, initial_population):\n",
    "    ''' \n",
    "    We changed the cal_pop_fitness into cal_fitness\n",
    "    This follows the equation: \n",
    "        y = w1 * (x1 ** 2) + w2 * (x2 ** 3) + (w3 * x3) + (w4 * x4) + (w5 * x5) + (w6 * x6)\n",
    "    The equation has six inputs and six weights\n",
    "    '''\n",
    "    fitness = inputs[0] * (initial_population[:, 0] ** 2)   + \\\n",
    "              inputs[1] * (initial_population[:, 1] ** 3)   + \\\n",
    "              inputs[2] * (initial_population[:, 2])        + \\\n",
    "              inputs[3] * (initial_population[:, 3])        + \\\n",
    "              inputs[4] * (initial_population[:, 4])        + \\\n",
    "              inputs[5] * (initial_population[:, 5])\n",
    "    return fitness\n",
    "\n",
    "def select_mating_pool(pop, fitness, num_parents):\n",
    "    parents = np.empty((num_parents, pop.shape[1]))\n",
    "    for parent_num in range(num_parents):\n",
    "        max_fitness_idx = np.where(fitness == np.max(fitness))\n",
    "        max_fitness_idx = max_fitness_idx[0][0]\n",
    "        parents[parent_num, :] = pop[max_fitness_idx, :]\n",
    "        fitness[max_fitness_idx] = -99999999999\n",
    "    return parents\n",
    "\n",
    "def crossover(parents, offspring_size, crossover_rate = 0.1):\n",
    "    offspring = np.empty(offspring_size)\n",
    "    crossover_point = np.uint8(offspring_size[1]/2)\n",
    "\n",
    "    for k in range(offspring_size[0]):\n",
    "        parent1_idx = k%parents.shape[0]\n",
    "        parent2_idx = (k+1)%parents.shape[0]\n",
    "\n",
    "        random.seed(413)\n",
    "        crossover_prob = np.random.uniform(0.0, 1.0, 1)\n",
    "\n",
    "        if crossover_prob < crossover_rate:\n",
    "            offspring[k, 0:crossover_point] = parents[parent1_idx, 0:crossover_point]\n",
    "            offspring[k, crossover_point: ] = parents[parent2_idx, crossover_point: ]\n",
    "    return offspring\n",
    "\n",
    "def mutation(offspring_crossover, mutations_rate):\n",
    "    mutations_counter = np.uint8(offspring_crossover.shape[1])\n",
    "    for idx in range(offspring_crossover.shape[0]):\n",
    "        gene_idx = mutations_counter - 1\n",
    "\n",
    "        random.seed(413)\n",
    "        random_value  = np.random.uniform(0.0, 1.0, 1)\n",
    "        mutation_prob = np.random.uniform(0.0, 1.0, 1)\n",
    "\n",
    "        if mutation_prob < mutations_rate:\n",
    "            offspring_crossover[idx, gene_idx] = offspring_crossover[idx, gene_idx] + random_value\n",
    "            gene_idx = gene_idx + mutations_counter\n",
    "    return offspring_crossover\n",
    "\n",
    "def main_genetic(equation_inputs, new_population, chromosomes, mating):\n",
    "    num_weights = len(equation_inputs)\n",
    "    sol_per_pop = chromosomes\n",
    "    num_parents_mating = mating\n",
    "    pop_size = (sol_per_pop, num_parents_mating)\n",
    "\n",
    "    best_outputs = []\n",
    "    num_generations = 2\n",
    "\n",
    "    crossover_rate = 0.8 \n",
    "    mutations_rate = 0.1\n",
    "\n",
    "    for generation in range(num_generations):\n",
    "        fitness = cal_fitness(equation_inputs, new_population)\n",
    "        best_outputs.append(np.max(fitness))\n",
    "\n",
    "        parents = select_mating_pool(new_population, fitness, num_parents_mating)\n",
    "\n",
    "        offspring_size = (pop_size[0] - parents.shape[0], num_weights)\n",
    "        offspring_crossover = crossover(parents, \n",
    "                                        offspring_size = offspring_size, \n",
    "                                        crossover_rate = crossover_rate)\n",
    "\n",
    "        offspring_mutation  = mutation(offspring_crossover, \n",
    "                                       mutations_rate = mutations_rate)\n",
    "\n",
    "        new_population[0:parents.shape[0], :] = parents\n",
    "        new_population[parents.shape[0]:,  :] = offspring_mutation\n",
    "\n",
    "    fitness = cal_fitness(equation_inputs, new_population)\n",
    "    best_match_idx = np.where(fitness == np.max(fitness))\n",
    "    print('Best approximate weight solution:  \\t', np.round(new_population[best_match_idx, :], 2)[0])\n",
    "    print('Best approximate solution fitness: \\t', np.round(fitness[best_match_idx][0], 3))\n",
    "    return best_outputs\n",
    "\n",
    "\n",
    "equation_inputs = [4, -2, 7, -5, 11, 1]\n",
    "num_weights = len(equation_inputs)\n",
    "chromosomes = 8\n",
    "mating = 4\n",
    "\n",
    "random.seed(413)\n",
    "new_population = np.random.uniform(low = 0, high = 10, size = (chromosomes, num_weights))\n",
    "best_outputs   = main_genetic(equation_inputs, new_population, chromosomes, mating)"
   ]
  },
  {
   "cell_type": "code",
   "execution_count": 2,
   "metadata": {},
   "outputs": [
    {
     "data": {
      "text/plain": [
       "[<matplotlib.lines.Line2D at 0x2510dc04ac0>]"
      ]
     },
     "execution_count": 2,
     "metadata": {},
     "output_type": "execute_result"
    },
    {
     "data": {
      "image/png": "[encoded data removed]",
      "text/plain": [
       "<Figure size 432x288 with 1 Axes>"
      ]
     },
     "metadata": {
      "needs_background": "light"
     },
     "output_type": "display_data"
    }
   ],
   "source": [
    "import matplotlib.pyplot as plt \n",
    "plt.plot(best_outputs)"
   ]
  },
  {
   "cell_type": "code",
   "execution_count": 1,
   "metadata": {},
   "outputs": [],
   "source": [
    "from numpy.random import randint\n",
    "from numpy.random import rand\n",
    "\n",
    "initial_population = [randint(0, 10, 6).tolist() for _ in range(8)]\n",
    "initial_population = [  [0, 6, 4, 0, 4, 5],\n",
    "                        [5, 7, 0, 5, 0, 8],\n",
    "                        [9, 0, 7, 1, 4, 8],\n",
    "                        [2, 4, 0, 1, 2, 5],\n",
    "                        [9, 9, 0, 7, 2, 2],\n",
    "                        [3, 5, 7, 7, 4, 6],\n",
    "                        [6, 7, 4, 5, 1, 6],\n",
    "                        [7, 8, 3, 7, 7, 3]]\n",
    "\n",
    "mutated_population = [  [3, 6, 4, 5, 2, 8],\n",
    "                        [5, 7, 0, 0, 4, 5],\n",
    "                        [9, 0, 7, 8, 2, 5],\n",
    "                        [3, 4, 0, 3, 4, 4],\n",
    "                        [9, 5, 0, 7, 4, 2],\n",
    "                        [3, 5, 2, 3, 2, 2],\n",
    "                        [6, 7, 4, 7, 7, 9],\n",
    "                        [7, 8, 3, 5, 1, 6]]\n",
    "\n",
    "mutated_population2 = [ [9, 1, 0, 7, 4, 6],\n",
    "                        [5, 1, 2, 7, 4, 2],\n",
    "                        [9, 0, 7, 7, 4, 3],\n",
    "                        [9, 5, 0, 1, 4, 5],\n",
    "                        [9, 0, 7, 7, 4, 3],\n",
    "                        [9, 5, 3, 8, 2, 5]]\n",
    "\n",
    "\n",
    "# sorted_population = [ \n",
    "#     [9, 0, 7, 1, 4, 8] (240), \n",
    "#     [9, 0, 7, 8, 2, 5] (180),\n",
    "#     [6, 7, 4, 7, 7, 9] (119),\n",
    "#     [9, 5, 0, 7, 4, 2] (115),\n",
    "#     [7, 8, 3, 7, 7, 3] (114),\n",
    "#     [5, 7, 0, 0, 4, 5]  (73),\n",
    "#     [3, 5, 7, 7, 4, 6]  (72),\n",
    "#     [9, 9, 0, 7, 2, 2]  (61),\n",
    "#     [7, 8, 3, 5, 1, 6]  (61),\n",
    "#     [6, 7, 4, 5, 1, 6]  (60),\n",
    "#     [3, 4, 0, 3, 4, 4]  (49),\n",
    "#     [3, 6, 4, 5, 2, 8]  (33),\n",
    "#     [3, 5, 2, 3, 2, 2]  (31),\n",
    "#     [0, 6, 4, 0, 4, 5]  (29),\n",
    "#     [2, 4, 0, 1, 2, 5]  (22),\n",
    "#     [5, 7, 0, 5, 0, 8]   (7)\n",
    "# ]\n",
    "\n",
    "new_population = [\n",
    "    [9, 0, 7, 1, 4, 8], \n",
    "    [9, 0, 7, 8, 2, 5],\n",
    "    [6, 7, 4, 7, 7, 9],\n",
    "    [9, 5, 0, 7, 4, 2],\n",
    "    [7, 8, 3, 7, 7, 3],\n",
    "    [5, 7, 0, 0, 4, 5],\n",
    "    [3, 5, 7, 7, 4, 6],\n",
    "    [9, 9, 0, 7, 2, 2]\n",
    "]\n",
    "\n",
    "time_population = [[3, 1, 2, 7, 2, 6],\n",
    "       [0, 2, 2, 6, 6, 2],\n",
    "       [7, 7, 0, 6, 5, 1],\n",
    "       [4, 6, 0, 6, 5, 1],\n",
    "       [2, 1, 5, 4, 0, 7],\n",
    "       [8, 9, 5, 7, 0, 9],\n",
    "       [3, 9, 1, 4, 4, 6],\n",
    "       [8, 8, 9, 2, 7, 5]]"
   ]
  },
  {
   "cell_type": "code",
   "execution_count": 2,
   "metadata": {},
   "outputs": [
    {
     "data": {
      "text/plain": [
       "[47, 36, 82, 42, 46, 65, 13, 199]"
      ]
     },
     "execution_count": 2,
     "metadata": {},
     "output_type": "execute_result"
    }
   ],
   "source": [
    "def scorer(w, equation_inputs):\n",
    "    return (w[0] * (equation_inputs[0] ** 2)) + \\\n",
    "           (w[1] * (equation_inputs[1] ** 3)) + \\\n",
    "           (w[2] * equation_inputs[2]) + \\\n",
    "           (w[3] * equation_inputs[3]) + \\\n",
    "           (w[4] * equation_inputs[4]) + \\\n",
    "           (w[5] * equation_inputs[5])\n",
    "\n",
    "\n",
    "equation_inputs = [4, -2, 7, -5, 11, 1]\n",
    "decoded = [1, 5, 30, 7, 16, 15, 46, 4]\n",
    "\n",
    "scores1 = []\n",
    "for decode in initial_population:\n",
    "    scores1.append(scorer(decode, equation_inputs))\n",
    "scores1\n",
    "\n",
    "scores1 = []\n",
    "for decode in time_population:\n",
    "    scores1.append(scorer(decode, equation_inputs))\n",
    "scores1"
   ]
  },
  {
   "cell_type": "code",
   "execution_count": 51,
   "metadata": {},
   "outputs": [
    {
     "name": "stdout",
     "output_type": "stream",
     "text": [
      "[151, 97, 205, 148, 205, 112]\n"
     ]
    },
    {
     "data": {
      "text/plain": [
       "[240, 180, 119, 115, 114, 73, 72, 61]"
      ]
     },
     "execution_count": 51,
     "metadata": {},
     "output_type": "execute_result"
    }
   ],
   "source": [
    "scores2 = []\n",
    "for decode in mutated_population:\n",
    "    scores2.append(scorer(decode, equation_inputs))\n",
    "\n",
    "\n",
    "scores4 = []\n",
    "for decode in mutated_population2:\n",
    "    scores4.append(scorer(decode, equation_inputs))\n",
    "print(scores4)\n",
    "\n",
    "scores3 = []\n",
    "for decode in new_population:\n",
    "    scores3.append(scorer(decode, equation_inputs))\n",
    "scores3"
   ]
  },
  {
   "cell_type": "code",
   "execution_count": 7,
   "metadata": {},
   "outputs": [
    {
     "data": {
      "text/plain": [
       "[0.0887, 0.0679, 0.1547, 0.0792, 0.0868, 0.1226, 0.0245, 0.3755]"
      ]
     },
     "execution_count": 7,
     "metadata": {},
     "output_type": "execute_result"
    }
   ],
   "source": [
    "import numpy as np \n",
    "\n",
    "for_selection = scores1.copy()\n",
    "selection_by_parents = []\n",
    "for idx in for_selection:\n",
    "    sum_value = sum(for_selection)\n",
    "    selection_by_parents.append(np.round(idx/sum_value, 4))\n",
    "selection_by_parents"
   ]
  },
  {
   "cell_type": "code",
   "execution_count": 8,
   "metadata": {},
   "outputs": [
    {
     "data": {
      "text/plain": [
       "[0, 0.0887, 0.15660000000000002, 0.3113, 0.3905, 0.4773, 0.5999, 0.6244, 1]"
      ]
     },
     "execution_count": 8,
     "metadata": {},
     "output_type": "execute_result"
    }
   ],
   "source": [
    "selection = []\n",
    "for select in range(len(selection_by_parents)):\n",
    "    selection.append(sum(selection_by_parents[0:select]))\n",
    "selection.append(1)\n",
    "selection"
   ]
  },
  {
   "cell_type": "code",
   "execution_count": 18,
   "metadata": {},
   "outputs": [
    {
     "data": {
      "text/plain": [
       "([<matplotlib.patches.Wedge at 0x19f506add30>,\n",
       "  <matplotlib.patches.Wedge at 0x19f506bc1f0>,\n",
       "  <matplotlib.patches.Wedge at 0x19f506bc670>,\n",
       "  <matplotlib.patches.Wedge at 0x19f506bcb20>,\n",
       "  <matplotlib.patches.Wedge at 0x19f506bcfa0>,\n",
       "  <matplotlib.patches.Wedge at 0x19f504e9460>,\n",
       "  <matplotlib.patches.Wedge at 0x19f504e98e0>,\n",
       "  <matplotlib.patches.Wedge at 0x19f504e9d60>,\n",
       "  <matplotlib.patches.Wedge at 0x19f504f5220>],\n",
       " [Text(1.1, 0.0, ''),\n",
       "  Text(1.0992850680873092, 0.03965273105701455, ''),\n",
       "  Text(1.0924926093248142, 0.1282961362265411, ''),\n",
       "  Text(0.9626484882867347, 0.5322667451562841, ''),\n",
       "  Text(0.378762748051366, 1.0327336445998927, ''),\n",
       "  Text(-0.4941886660089764, 0.9827398243626176, ''),\n",
       "  Text(-1.0918316634515552, 0.13380440457851211, ''),\n",
       "  Text(-0.5708040775639812, -0.9403098984038893, ''),\n",
       "  Text(0.8028079231328094, -0.7519969671183424, '')])"
      ]
     },
     "execution_count": 18,
     "metadata": {},
     "output_type": "execute_result"
    },
    {
     "data": {
      "image/png": "[encoded data removed]",
      "text/plain": [
       "<Figure size 720x576 with 1 Axes>"
      ]
     },
     "metadata": {},
     "output_type": "display_data"
    }
   ],
   "source": [
    "plt.figure(figsize = (10, 8))\n",
    "plt.pie(selection)"
   ]
  },
  {
   "cell_type": "code",
   "execution_count": 90,
   "metadata": {},
   "outputs": [
    {
     "data": {
      "text/plain": [
       "0.4783300074438507"
      ]
     },
     "execution_count": 90,
     "metadata": {},
     "output_type": "execute_result"
    }
   ],
   "source": [
    "np.random.uniform(low = 0.0, high = 1.0)"
   ]
  },
  {
   "cell_type": "code",
   "execution_count": 91,
   "metadata": {},
   "outputs": [
    {
     "data": {
      "text/plain": [
       "array([[0.6828, 0.0062, 0.2515, 0.3428, 0.8188, 0.2273],\n",
       "       [0.0816, 0.3605, 0.0124, 0.2567, 0.682 , 0.5007],\n",
       "       [0.0997, 0.2224, 0.5151, 0.0321, 0.0412, 0.2057],\n",
       "       [0.3686, 0.807 , 0.8277, 0.9478, 0.7085, 0.896 ],\n",
       "       [0.6697, 0.813 , 0.8659, 0.91  , 0.4447, 0.2236],\n",
       "       [0.8549, 0.134 , 0.2398, 0.4762, 0.2396, 0.2434],\n",
       "       [0.976 , 0.7453, 0.4887, 0.2291, 0.763 , 0.0746],\n",
       "       [0.1923, 0.6066, 0.3283, 0.1795, 0.2903, 0.7262]])"
      ]
     },
     "execution_count": 91,
     "metadata": {},
     "output_type": "execute_result"
    }
   ],
   "source": [
    "np.round(np.random.uniform(low = 0.0, high = 1.0, size = (chromosomes, num_weights)), 4)"
   ]
  },
  {
   "cell_type": "code",
   "execution_count": 96,
   "metadata": {},
   "outputs": [
    {
     "data": {
      "text/plain": [
       "3"
      ]
     },
     "execution_count": 96,
     "metadata": {},
     "output_type": "execute_result"
    }
   ],
   "source": [
    "np.random.randint(low = 0, high = 10)"
   ]
  },
  {
   "cell_type": "code",
   "execution_count": 26,
   "metadata": {},
   "outputs": [],
   "source": [
    "def objective(x):\n",
    "\treturn x[0]**2.0 + x[1]**.0\n",
    " \n",
    "# decode bitstring to numbers\n",
    "def decode(bounds, n_bits, bitstring):\n",
    "\tdecoded = list()\n",
    "\tlargest = 2**n_bits\n",
    "\tfor i in range(len(bounds)):\n",
    "\t\t# extract the substring\n",
    "\t\tstart, end = i * n_bits, (i * n_bits)+n_bits\n",
    "\t\tsubstring = bitstring[start:end]\n",
    "\t\t# convert bitstring to a string of chars\n",
    "\t\tchars = ''.join([str(s) for s in substring])\n",
    "\t\t# convert string to integer\n",
    "\t\tinteger = int(chars, 2)\n",
    "\t\t# scale integer to desired range\n",
    "\t\tvalue = bounds[i][0] + (integer/largest) * (bounds[i][1] - bounds[i][0])\n",
    "\t\t# store\n",
    "\t\tdecoded.append(value)\n",
    "\treturn decoded\n",
    " \n",
    "def selection(pop, scores, k = 3):\n",
    "\tselection_ix = randint(len(pop))\n",
    "\tfor ix in randint(0, len(pop), k-1):\n",
    "\t\tif scores[ix] < scores[selection_ix]:\n",
    "\t\t\tselection_ix = ix\n",
    "\treturn pop[selection_ix]\n",
    " \n",
    "def crossover(p1, p2, r_cross):\n",
    "\tc1, c2 = p1.copy(), p2.copy()\n",
    "\tif rand() < r_cross:\n",
    "\t\tpt = randint(1, len(p1)-2)\n",
    "\t\tc1 = p1[:pt] + p2[pt:]\n",
    "\t\tc2 = p2[:pt] + p1[pt:]\n",
    "\treturn [c1, c2]\n",
    " \n",
    "def mutation(bitstring, r_mut):\n",
    "\tfor i in range(len(bitstring)):\n",
    "\t\tif rand() < r_mut:\n",
    "\t\t\tbitstring[i] = 1 - bitstring[i]\n",
    " \n",
    "def genetic_algorithm(objective, bounds, n_bits, n_iter, n_pop, r_cross, r_mut):\n",
    "\t# pop = [randint(0, 2, n_bits*len(bounds)).tolist() for _ in range(n_pop)]\n",
    "\t# # pop = [randint(0, 2, 6).tolist() for _ in range(8)]\n",
    "\tpop =  [[0, 0, 0, 0, 0, 1],\n",
    "\t\t\t[0, 0, 0, 1, 0, 1],\n",
    "\t\t\t[0, 1, 1, 1, 1, 0],\n",
    "\t\t\t[0, 0, 0, 1, 1, 1],\n",
    "\t\t\t[0, 1, 0, 0, 0, 0],\n",
    "\t\t\t[0, 0, 1, 1, 1, 1],\n",
    "\t\t\t[1, 0, 1, 1, 1, 1],\n",
    "\t\t\t[0, 0, 0, 1, 0, 0]]\n",
    "\tprint(decode(bounds, n_bits, pop[0]))\n",
    "\tbest, best_eval = 0, objective(decode(bounds, n_bits, pop[0]))\n",
    "\tfor gen in range(n_iter):\n",
    "\t\tdecoded = [decode(bounds, n_bits, p) for p in pop]\n",
    "\t\tscores = [objective(d) for d in decoded]\n",
    "\n",
    "\t\tfor i in range(n_pop):\n",
    "\t\t\tif scores[i] < best_eval:\n",
    "\t\t\t\tbest, best_eval = pop[i], scores[i]\n",
    "\t\t\t\tprint(\"Iteration \\t %d, New best f(%s) = %f\" % (gen,  decoded[i], scores[i]))\n",
    "\n",
    "\t\tselected = [selection(pop, scores) for _ in range(n_pop)]\n",
    "\n",
    "\t\tchildren = list()\n",
    "\t\tfor i in range(0, n_pop, 2):\n",
    "\t\t\tp1, p2 = selected[i], selected[i+1]\n",
    "\t\t\tfor c in crossover(p1, p2, r_cross):\n",
    "\t\t\t\tmutation(c, r_mut)\n",
    "\t\t\t\tchildren.append(c)\n",
    "\t\tpop = children\n",
    "\treturn [best, best_eval]\n",
    " \n",
    "# # define range for input\n",
    "# bounds = [[-5.0, 5.0], [-5.0, 5.0]]\n",
    "# # define the total iterations\n",
    "# n_iter = 100\n",
    "# # bits per variable\n",
    "# n_bits = 6\n",
    "# n_pop = 8\n",
    "# r_cross = 0.8\n",
    "# r_mut = 0.1\n",
    "# best, score = genetic_algorithm(objective, bounds, n_bits, n_iter, n_pop, r_cross, r_mut)\n",
    "# print('Done!')\n",
    "# decoded = decode(bounds, n_bits, best)\n",
    "# print('f(%s) = %f' % (decoded, score))"
   ]
  },
  {
   "cell_type": "code",
   "execution_count": 15,
   "metadata": {},
   "outputs": [
    {
     "data": {
      "text/plain": [
       "[[5, 0, 3, 0, 0, 8],\n",
       " [7, 7, 2, 0, 7, 1],\n",
       " [8, 5, 2, 1, 7, 9],\n",
       " [0, 8, 4, 0, 7, 9],\n",
       " [4, 4, 3, 0, 3, 3],\n",
       " [6, 7, 0, 6, 5, 7],\n",
       " [0, 2, 9, 3, 5, 8],\n",
       " [8, 6, 0, 5, 8, 3]]"
      ]
     },
     "execution_count": 15,
     "metadata": {},
     "output_type": "execute_result"
    }
   ],
   "source": [
    "initial_population = [randint(0, 10, 6).tolist() for _ in range(8)]\n",
    "initial_population"
   ]
  },
  {
   "cell_type": "code",
   "execution_count": 4,
   "metadata": {},
   "outputs": [
    {
     "data": {
      "text/plain": [
       "[[0, 0, 0, 0, 0, 1],\n",
       " [0, 0, 0, 1, 0, 1],\n",
       " [0, 1, 1, 1, 1, 0],\n",
       " [0, 0, 0, 1, 1, 1],\n",
       " [0, 1, 0, 0, 0, 0],\n",
       " [0, 0, 1, 1, 1, 1],\n",
       " [1, 0, 1, 1, 1, 1],\n",
       " [0, 0, 0, 1, 0, 0]]"
      ]
     },
     "execution_count": 4,
     "metadata": {},
     "output_type": "execute_result"
    }
   ],
   "source": [
    "pop =  [[0, 0, 0, 0, 0, 1],\n",
    "        [0, 0, 0, 1, 0, 1],\n",
    "        [0, 1, 1, 1, 1, 0],\n",
    "        [0, 0, 0, 1, 1, 1],\n",
    "        [0, 1, 0, 0, 0, 0],\n",
    "        [0, 0, 1, 1, 1, 1],\n",
    "        [1, 0, 1, 1, 1, 1],\n",
    "        [0, 0, 0, 1, 0, 0]]\n",
    "\n",
    "pop"
   ]
  }
 ],
 "metadata": {
  "kernelspec": {
   "display_name": "Python 3.8.5 ('base')",
   "language": "python",
   "name": "python3"
  },
  "language_info": {
   "codemirror_mode": {
    "name": "ipython",
    "version": 3
   },
   "file_extension": ".py",
   "mimetype": "text/x-python",
   "name": "python",
   "nbconvert_exporter": "python",
   "pygments_lexer": "ipython3",
   "version": "3.8.5"
  },
  "orig_nbformat": 4,
  "vscode": {
   "interpreter": {
    "hash": "3608206ce1eb198bd23abae205dd191f991de1c92dbe872a18ef9e948d8a869d"
   }
  }
 },
 "nbformat": 4,
 "nbformat_minor": 2
}
