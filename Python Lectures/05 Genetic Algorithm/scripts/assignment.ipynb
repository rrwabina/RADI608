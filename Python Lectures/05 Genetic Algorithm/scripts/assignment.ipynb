{
 "cells": [
  {
   "cell_type": "markdown",
   "metadata": {},
   "source": [
    "## **RADI608: Data Mining and Machine Learning**\n",
    "\n",
    "### Assignment: Genetic Algorithm\n",
    "**Romen Samuel Rodis Wabina** <br>\n",
    "Student, PhD Data Science in Healthcare and Clinical Informatics <br>\n",
    "Clinical Epidemiology and Biostatistics, Faculty of Medicine (Ramathibodi Hospital) <br>\n",
    "Mahidol University"
   ]
  },
  {
   "cell_type": "markdown",
   "metadata": {},
   "source": [
    "Suppose $x_i$ is a decision variable where $x$ is a real number at $i = [1, 2, 3, 4, 5, 6]$. We first initialized a population that consists of eight (8) chromosomes with 6 genes each. We encode the decision variable to binary chromosomes. This is represented in the figure below.\n",
    "\n",
    "<center>\n",
    "<img src = \"../figures/01.jpg\" width = '250'> <br>\n",
    "</center>\n",
    "\n",
    "We need to decode the bitstrings to numbers prior to evaluating each with the objective function. We can achieve this by first decoding each substring to an integer, then scaling the integer to the desired range. This will give a vector of values in the range that can then be provided to the objective function for evaluation.\n",
    "\n",
    "<center>\n",
    "<img src = \"../figures/02.jpg\" width = '900'> <br>\n",
    "</center>\n",
    "\n",
    "Parents are used as the basis for generating the next generation of candidate points and one parent for each position in the population is required. Parents are then taken in pairs and used to create two children. Recombination is performed using a crossover operator. This involves selecting a random split point on the bit string, then creating a child with the bits up to the split point from the first parent and from the split point to the end of the string from the second parent. This process is then inverted for the second child.\n",
    "\n",
    "<center>\n",
    "<img src = \"../figures/03.jpg\" width = '1200'> <br>\n",
    "</center>"
   ]
  },
  {
   "cell_type": "code",
   "execution_count": 7,
   "metadata": {},
   "outputs": [],
   "source": [
    "import sys\n",
    "import numpy as np\n",
    "import GA as ga\n",
    "import random \n",
    "import matplotlib.pyplot as plt\n",
    "\n",
    "equation_inputs = [4, -2, 7, -5, 11, 1]\n",
    "num_weights = len(equation_inputs)\n",
    "chromosomes = 8\n",
    "mating = 4\n",
    "\n",
    "random.seed(413)\n",
    "new_population = np.random.uniform(low = -5.0, high = 5.0, size = (chromosomes, num_weights))\n"
   ]
  },
  {
   "cell_type": "code",
   "execution_count": 5,
   "metadata": {},
   "outputs": [
    {
     "name": "stdout",
     "output_type": "stream",
     "text": [
      "Best approximate weight solution:  \t [[-4.88 -0.65  4.07 -0.32  1.25  0.7 ]]\n",
      "Best approximate solution fitness: \t 140.162\n"
     ]
    }
   ],
   "source": [
    "def cal_fitness(inputs, initial_population):\n",
    "    ''' \n",
    "    We changed the cal_pop_fitness into cal_fitness\n",
    "    This follows the equation: \n",
    "        y = w1 * (x1 ** 2) + w2 * (x2 ** 3) + (w3 * x3) + (w4 * x4) + (w5 * x5) + (w6 * x6)\n",
    "    The equation has six inputs and six weights\n",
    "    '''\n",
    "    fitness = inputs[0] * (initial_population[:, 0] ** 2)   + \\\n",
    "              inputs[1] * (initial_population[:, 1] ** 3)   + \\\n",
    "              inputs[2] * (initial_population[:, 2])        + \\\n",
    "              inputs[3] * (initial_population[:, 3])        + \\\n",
    "              inputs[4] * (initial_population[:, 4])        + \\\n",
    "              inputs[5] * (initial_population[:, 5])\n",
    "    return fitness\n",
    "\n",
    "def crossover(parents, offspring_size, crossover_rate = 0.1):\n",
    "    offspring = np.empty(offspring_size)\n",
    "    crossover_point = np.uint8(offspring_size[1]/2)\n",
    "\n",
    "    for k in range(offspring_size[0]):\n",
    "        parent1_idx = k%parents.shape[0]\n",
    "        parent2_idx = (k+1)%parents.shape[0]\n",
    "\n",
    "        random.seed(413)\n",
    "        crossover_prob = np.random.uniform(0.0, 0.8, 1)\n",
    "\n",
    "        if crossover_prob < crossover_rate:\n",
    "            offspring[k, 0:crossover_point] = parents[parent1_idx, 0:crossover_point]\n",
    "            offspring[k, crossover_point: ] = parents[parent2_idx, crossover_point: ]\n",
    "    return offspring\n",
    "\n",
    "def mutation(offspring_crossover, mutations_rate):\n",
    "    mutations_counter = np.uint8(offspring_crossover.shape[1])\n",
    "    for idx in range(offspring_crossover.shape[0]):\n",
    "        gene_idx = mutations_counter - 1\n",
    "\n",
    "        random.seed(413)\n",
    "        random_value  = np.random.uniform(-1.0, 1.0, 1)\n",
    "        mutation_prob = np.random.uniform(-1.0, 1.0, 1)\n",
    "\n",
    "        if mutation_prob < mutations_rate:\n",
    "            offspring_crossover[idx, gene_idx] = offspring_crossover[idx, gene_idx] + random_value\n",
    "            gene_idx = gene_idx + mutations_counter\n",
    "    return offspring_crossover\n",
    "\n",
    "def main_genetic(equation_inputs, new_population, chromosomes, mating):\n",
    "    num_weights = len(equation_inputs)\n",
    "    sol_per_pop = chromosomes\n",
    "    num_parents_mating = mating\n",
    "    pop_size = (sol_per_pop, num_parents_mating)\n",
    "\n",
    "    best_outputs = []\n",
    "    num_generations = 1\n",
    "\n",
    "    crossover_rate = 0.8 \n",
    "    mutations_rate = 0.1\n",
    "\n",
    "    for generation in range(num_generations):\n",
    "        fitness = cal_fitness(equation_inputs, new_population)\n",
    "        best_outputs.append(np.max(fitness))\n",
    "\n",
    "        parents = ga.select_mating_pool(new_population, fitness, num_parents_mating)\n",
    "\n",
    "        offspring_size = (pop_size[0] - parents.shape[0], num_weights)\n",
    "        offspring_crossover = crossover(parents, \n",
    "                                        offspring_size = offspring_size, \n",
    "                                        crossover_rate = crossover_rate)\n",
    "\n",
    "        offspring_mutation  = mutation(offspring_crossover, \n",
    "                                       mutations_rate = mutations_rate)\n",
    "\n",
    "        new_population[0:parents.shape[0], :] = parents\n",
    "        new_population[parents.shape[0]:,  :] = offspring_mutation\n",
    "\n",
    "    fitness = cal_fitness(equation_inputs, new_population)\n",
    "    best_match_idx = np.where(fitness == np.max(fitness))\n",
    "    print('Best approximate weight solution:  \\t', np.round(new_population[best_match_idx, :], 2)[0])\n",
    "    print('Best approximate solution fitness: \\t', np.round(fitness[best_match_idx][0], 3))\n",
    "    return best_outputs\n",
    "\n",
    "best_outputs = main_genetic(equation_inputs, new_population, chromosomes, mating)"
   ]
  },
  {
   "cell_type": "code",
   "execution_count": 30,
   "metadata": {},
   "outputs": [
    {
     "data": {
      "text/plain": [
       "[22, 110, 660, 154, 352, 330, 1012, 88]"
      ]
     },
     "execution_count": 30,
     "metadata": {},
     "output_type": "execute_result"
    }
   ],
   "source": [
    "def scorer(w, equation_inputs):\n",
    "    return (w * (equation_inputs[0] ** 2)) + (w * (equation_inputs[1] ** 3)) + (w * equation_inputs[2]) + (w * equation_inputs[3]) + (w * equation_inputs[4]) + (w * equation_inputs[5])\n",
    "\n",
    "equation_inputs = [4, -2, 7, -5, 11, 1]\n",
    "decoded = [1, 5, 30, 7, 16, 15, 46, 4]\n",
    "\n",
    "scores = []\n",
    "for decode in decoded:\n",
    "    scores.append(scorer(decode, equation_inputs))\n",
    "scores"
   ]
  },
  {
   "cell_type": "code",
   "execution_count": 31,
   "metadata": {},
   "outputs": [
    {
     "data": {
      "text/plain": [
       "[0.0081, 0.0403, 0.2419, 0.0565, 0.129, 0.121, 0.371, 0.0323]"
      ]
     },
     "execution_count": 31,
     "metadata": {},
     "output_type": "execute_result"
    }
   ],
   "source": [
    "for_selection = scores.copy()\n",
    "selection_by_parents = []\n",
    "for idx in for_selection:\n",
    "    sum_value = sum(for_selection)\n",
    "    selection_by_parents.append(np.round(idx/sum_value, 4))\n",
    "selection_by_parents"
   ]
  },
  {
   "cell_type": "code",
   "execution_count": 34,
   "metadata": {},
   "outputs": [
    {
     "data": {
      "text/plain": [
       "[0, 0.0081, 0.0484, 0.2903, 0.3468, 0.4758, 0.5968, 0.9678, 1]"
      ]
     },
     "execution_count": 34,
     "metadata": {},
     "output_type": "execute_result"
    }
   ],
   "source": [
    "selection = []\n",
    "for select in range(len(selection_by_parents)):\n",
    "    selection.append(sum(selection_by_parents[0:select]))\n",
    "selection.append(1)\n",
    "selection"
   ]
  },
  {
   "cell_type": "code",
   "execution_count": 2,
   "metadata": {},
   "outputs": [],
   "source": [
    "from numpy.random import randint\n",
    "from numpy.random import rand\n",
    " \n",
    "\n",
    "def objective(x):\n",
    "\treturn x[0]**2.0 + x[1]**.0\n",
    " \n",
    "# decode bitstring to numbers\n",
    "def decode(bounds, n_bits, bitstring):\n",
    "\tdecoded = list()\n",
    "\tlargest = 2**n_bits\n",
    "\tfor i in range(len(bounds)):\n",
    "\t\t# extract the substring\n",
    "\t\tstart, end = i * n_bits, (i * n_bits)+n_bits\n",
    "\t\tsubstring = bitstring[start:end]\n",
    "\t\t# convert bitstring to a string of chars\n",
    "\t\tchars = ''.join([str(s) for s in substring])\n",
    "\t\t# convert string to integer\n",
    "\t\tinteger = int(chars, 2)\n",
    "\t\t# scale integer to desired range\n",
    "\t\tvalue = bounds[i][0] + (integer/largest) * (bounds[i][1] - bounds[i][0])\n",
    "\t\t# store\n",
    "\t\tdecoded.append(value)\n",
    "\treturn decoded\n",
    " \n",
    "def selection(pop, scores, k = 3):\n",
    "\tselection_ix = randint(len(pop))\n",
    "\tfor ix in randint(0, len(pop), k-1):\n",
    "\t\tif scores[ix] < scores[selection_ix]:\n",
    "\t\t\tselection_ix = ix\n",
    "\treturn pop[selection_ix]\n",
    " \n",
    "def crossover(p1, p2, r_cross):\n",
    "\tc1, c2 = p1.copy(), p2.copy()\n",
    "\tif rand() < r_cross:\n",
    "\t\tpt = randint(1, len(p1)-2)\n",
    "\t\tc1 = p1[:pt] + p2[pt:]\n",
    "\t\tc2 = p2[:pt] + p1[pt:]\n",
    "\treturn [c1, c2]\n",
    " \n",
    "def mutation(bitstring, r_mut):\n",
    "\tfor i in range(len(bitstring)):\n",
    "\t\tif rand() < r_mut:\n",
    "\t\t\tbitstring[i] = 1 - bitstring[i]\n",
    " \n",
    "def genetic_algorithm(objective, bounds, n_bits, n_iter, n_pop, r_cross, r_mut):\n",
    "\t# pop = [randint(0, 2, n_bits*len(bounds)).tolist() for _ in range(n_pop)]\n",
    "\t# # pop = [randint(0, 2, 6).tolist() for _ in range(8)]\n",
    "\tpop =  [[0, 0, 0, 0, 0, 1],\n",
    "\t\t\t[0, 0, 0, 1, 0, 1],\n",
    "\t\t\t[0, 1, 1, 1, 1, 0],\n",
    "\t\t\t[0, 0, 0, 1, 1, 1],\n",
    "\t\t\t[0, 1, 0, 0, 0, 0],\n",
    "\t\t\t[0, 0, 1, 1, 1, 1],\n",
    "\t\t\t[1, 0, 1, 1, 1, 1],\n",
    "\t\t\t[0, 0, 0, 1, 0, 0]]\n",
    "\tprint(decode(bounds, n_bits, pop[0]))\n",
    "\tbest, best_eval = 0, objective(decode(bounds, n_bits, pop[0]))\n",
    "\tfor gen in range(n_iter):\n",
    "\t\tdecoded = [decode(bounds, n_bits, p) for p in pop]\n",
    "\t\tscores = [objective(d) for d in decoded]\n",
    "\n",
    "\t\tfor i in range(n_pop):\n",
    "\t\t\tif scores[i] < best_eval:\n",
    "\t\t\t\tbest, best_eval = pop[i], scores[i]\n",
    "\t\t\t\tprint(\"Iteration \\t %d, New best f(%s) = %f\" % (gen,  decoded[i], scores[i]))\n",
    "\n",
    "\t\tselected = [selection(pop, scores) for _ in range(n_pop)]\n",
    "\n",
    "\t\tchildren = list()\n",
    "\t\tfor i in range(0, n_pop, 2):\n",
    "\t\t\tp1, p2 = selected[i], selected[i+1]\n",
    "\t\t\tfor c in crossover(p1, p2, r_cross):\n",
    "\t\t\t\tmutation(c, r_mut)\n",
    "\t\t\t\tchildren.append(c)\n",
    "\t\tpop = children\n",
    "\treturn [best, best_eval]\n",
    " \n",
    "# # define range for input\n",
    "# bounds = [[-5.0, 5.0], [-5.0, 5.0]]\n",
    "# # define the total iterations\n",
    "# n_iter = 100\n",
    "# # bits per variable\n",
    "# n_bits = 6\n",
    "# n_pop = 8\n",
    "# r_cross = 0.8\n",
    "# r_mut = 0.1\n",
    "# best, score = genetic_algorithm(objective, bounds, n_bits, n_iter, n_pop, r_cross, r_mut)\n",
    "# print('Done!')\n",
    "# decoded = decode(bounds, n_bits, best)\n",
    "# print('f(%s) = %f' % (decoded, score))"
   ]
  },
  {
   "cell_type": "code",
   "execution_count": 11,
   "metadata": {},
   "outputs": [
    {
     "data": {
      "text/plain": [
       "[[0, 1, 0, 0, 1, 1],\n",
       " [0, 0, 1, 0, 1, 0],\n",
       " [0, 0, 0, 0, 1, 0],\n",
       " [0, 0, 0, 0, 0, 0],\n",
       " [1, 1, 1, 1, 0, 0],\n",
       " [1, 1, 1, 0, 0, 0],\n",
       " [1, 0, 0, 1, 1, 0],\n",
       " [1, 0, 0, 1, 0, 0]]"
      ]
     },
     "execution_count": 11,
     "metadata": {},
     "output_type": "execute_result"
    }
   ],
   "source": [
    "initial_population = [randint(0, 2, 6).tolist() for _ in range(8)]\n",
    "initial_population"
   ]
  },
  {
   "cell_type": "code",
   "execution_count": 4,
   "metadata": {},
   "outputs": [
    {
     "data": {
      "text/plain": [
       "[[0, 0, 0, 0, 0, 1],\n",
       " [0, 0, 0, 1, 0, 1],\n",
       " [0, 1, 1, 1, 1, 0],\n",
       " [0, 0, 0, 1, 1, 1],\n",
       " [0, 1, 0, 0, 0, 0],\n",
       " [0, 0, 1, 1, 1, 1],\n",
       " [1, 0, 1, 1, 1, 1],\n",
       " [0, 0, 0, 1, 0, 0]]"
      ]
     },
     "execution_count": 4,
     "metadata": {},
     "output_type": "execute_result"
    }
   ],
   "source": [
    "pop =  [[0, 0, 0, 0, 0, 1],\n",
    "        [0, 0, 0, 1, 0, 1],\n",
    "        [0, 1, 1, 1, 1, 0],\n",
    "        [0, 0, 0, 1, 1, 1],\n",
    "        [0, 1, 0, 0, 0, 0],\n",
    "        [0, 0, 1, 1, 1, 1],\n",
    "        [1, 0, 1, 1, 1, 1],\n",
    "        [0, 0, 0, 1, 0, 0]]\n",
    "\n",
    "pop"
   ]
  }
 ],
 "metadata": {
  "kernelspec": {
   "display_name": "Python 3.8.5 ('base')",
   "language": "python",
   "name": "python3"
  },
  "language_info": {
   "codemirror_mode": {
    "name": "ipython",
    "version": 3
   },
   "file_extension": ".py",
   "mimetype": "text/x-python",
   "name": "python",
   "nbconvert_exporter": "python",
   "pygments_lexer": "ipython3",
   "version": "3.8.5"
  },
  "orig_nbformat": 4,
  "vscode": {
   "interpreter": {
    "hash": "3608206ce1eb198bd23abae205dd191f991de1c92dbe872a18ef9e948d8a869d"
   }
  }
 },
 "nbformat": 4,
 "nbformat_minor": 2
}
