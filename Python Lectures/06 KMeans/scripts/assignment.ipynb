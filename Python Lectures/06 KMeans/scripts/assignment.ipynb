{
 "cells": [
  {
   "cell_type": "markdown",
   "metadata": {},
   "source": [
    "## **RADI608: Data Mining and Machine Learning**\n",
    "\n",
    "### Assignment: KMeans\n",
    "**Romen Samuel Rodis Wabina** <br>\n",
    "Student, PhD Data Science in Healthcare and Clinical Informatics <br>\n",
    "Clinical Epidemiology and Biostatistics, Faculty of Medicine (Ramathibodi Hospital) <br>\n",
    "Mahidol University\n",
    "\n",
    "Note: In case of Python Markdown errors, you may access the assignment through this GitHub [Link](https://github.com/rrwabina/RADI608/tree/main/Submitted)"
   ]
  },
  {
   "cell_type": "code",
   "execution_count": 33,
   "metadata": {},
   "outputs": [],
   "source": [
    "import numpy as np\n",
    "import matplotlib.pyplot as plt\n",
    "from time import time\n",
    "from sklearn.metrics import pairwise_distances_argmin\n",
    "\n",
    "def distance_formula(data, centroids):\n",
    "    distance = []\n",
    "    for value in data:\n",
    "        for center in centroids:\n",
    "            dis = np.sqrt((value[0] - center[0])**2 + (value[1] - center[1])**2)\n",
    "            distance.append(dis)\n",
    "    return distance\n",
    "    "
   ]
  },
  {
   "cell_type": "markdown",
   "metadata": {},
   "source": [
    "\\begin{equation*}\n",
    "\\begin{aligned}    \n",
    "    \\mathbf{D_0} = \n",
    "    \\begin{bmatrix}\n",
    "        {d_{11}} & {d_{12}} & {d_{13}} & {d_{14}} & {d_{15}} & {d_{16}}   \\\\\n",
    "        {d_{21}} & {d_{22}} & {d_{23}} & {d_{24}} & {d_{25}} & {d_{26}}   \\\\\n",
    "    \\end{bmatrix}\n",
    "\\end{aligned}\n",
    "\\end{equation*}\n"
   ]
  },
  {
   "cell_type": "markdown",
   "metadata": {},
   "source": [
    "\\begin{equation*}\n",
    "\\begin{aligned}\n",
    "    d_{11} &= \\sqrt{(q_1 - p_1)^2 + (q_2 - p_2)^2}  & d_{21} &= \\sqrt{(q_1 - p_1)^2 + (q_2 - p_2)^2} \\\\\n",
    "    d_{11} &= \\sqrt{(1 - 1)^2 + (1 - 1)^2}          & d_{21} &= \\sqrt{(1 - 1)^2 + (1 - 3)^2}\\\\\n",
    "    d_{11} &= 0                                     & d_{21} &= 2    \n",
    "\\end{aligned}\n",
    "\\end{equation*}\n",
    "\n",
    "\\begin{equation*}\n",
    "\\begin{aligned}\n",
    "    d_{12} &= \\sqrt{(q_1 - p_1)^2 + (q_2 - p_2)^2}  & d_{22} &= \\sqrt{(q_1 - p_1)^2 + (q_2 - p_2)^2} \\\\\n",
    "    d_{12} &= \\sqrt{(2 - 1)^2 + (1 - 1)^2}          & d_{22} &= \\sqrt{(2 - 1)^2 + (1 - 3)^2}\\\\\n",
    "    d_{12} &= 1                                     & d_{22} &= \\sqrt{5}    \n",
    "\\end{aligned}\n",
    "\\end{equation*}\n",
    "\n",
    "\\begin{equation*}\n",
    "\\begin{aligned}\n",
    "    d_{13} &= \\sqrt{(q_1 - p_1)^2 + (q_2 - p_2)^2}  & d_{23} &= \\sqrt{(q_1 - p_1)^2 + (q_2 - p_2)^2} \\\\\n",
    "    d_{13} &= \\sqrt{(1 - 1)^2 + (3 - 1)^2}          & d_{23} &= \\sqrt{(1 - 1)^2 + (3 - 3)^2}\\\\\n",
    "    d_{13} &= 2                                     & d_{23} &= 0\n",
    "\\end{aligned}\n",
    "\\end{equation*}\n",
    "\n",
    "\\begin{equation*}\n",
    "\\begin{aligned}\n",
    "    d_{14} &= \\sqrt{(q_1 - p_1)^2 + (q_2 - p_2)^2}  & d_{24} &= \\sqrt{(q_1 - p_1)^2 + (q_2 - p_2)^2} \\\\\n",
    "    d_{14} &= \\sqrt{(5 - 1)^2 + (2 - 1)^2}          & d_{24} &= \\sqrt{(5 - 1)^2 + (2 - 3)^2}\\\\\n",
    "    d_{14} &= \\sqrt{17}                             & d_{24} &= \\sqrt{17}   \n",
    "\\end{aligned}\n",
    "\\end{equation*}\n",
    "\n",
    "\\begin{equation*}\n",
    "\\begin{aligned}\n",
    "    d_{15} &= \\sqrt{(q_1 - p_1)^2 + (q_2 - p_2)^2}  & d_{25} &= \\sqrt{(q_1 - p_1)^2 + (q_2 - p_2)^2} \\\\\n",
    "    d_{15} &= \\sqrt{(4 - 1)^2 + (3 - 1)^2}          & d_{25} &= \\sqrt{(4 - 1)^2 + (3 - 3)^2}\\\\\n",
    "    d_{15} &= \\sqrt{13}                             & d_{25} &= 3   \n",
    "\\end{aligned}\n",
    "\\end{equation*}\n",
    "\n",
    "\\begin{equation*}\n",
    "\\begin{aligned}\n",
    "    d_{15} &= \\sqrt{(q_1 - p_1)^2 + (q_2 - p_2)^2}  & d_{25} &= \\sqrt{(q_1 - p_1)^2 + (q_2 - p_2)^2} \\\\\n",
    "    d_{15} &= \\sqrt{(5 - 1)^2 + (4 - 1)^2}          & d_{25} &= \\sqrt{(5 - 1)^2 + (4 - 3)^2}\\\\\n",
    "    d_{15} &= 5                                     & d_{25} &= \\sqrt{17}   \n",
    "\\end{aligned}\n",
    "\\end{equation*}"
   ]
  },
  {
   "cell_type": "markdown",
   "metadata": {},
   "source": [
    "\\begin{equation*}\n",
    "\\begin{aligned}    \n",
    "    \\mathbf{D_0} = \n",
    "    \\begin{bmatrix}\n",
    "        0 & 1        & 2 & \\sqrt{17} & \\sqrt{13} & 5   \\\\\n",
    "        2 & \\sqrt{5} & 0 & \\sqrt{17} & 3         & \\sqrt{17}   \\\\\n",
    "    \\end{bmatrix}\n",
    "    \\longrightarrow\n",
    "    \\mathbf{G_0} = \n",
    "    \\begin{bmatrix}\n",
    "        1 & 1 & 0 & 1 & 0 & 0   \\\\\n",
    "        0 & 0 & 1 & 0 & 1 & 1   \\\\\n",
    "    \\end{bmatrix}    \n",
    "\\end{aligned}\n",
    "\\end{equation*}\n",
    "\n",
    "\\begin{equation*}\n",
    "\\begin{aligned}\n",
    "    C_{1} &= (\\frac{1+2+5}{3}, \\frac{1+1+2}{3})  & C_{2} &= (\\frac{1+4+5}{3}, \\frac{3+3+4}{3}) \\\\\n",
    "    C_{1} &= (2.67, 1.33)                        & C_{2} &= (3.33, 3.33)\n",
    "\\end{aligned}\n",
    "\\end{equation*}"
   ]
  },
  {
   "cell_type": "markdown",
   "metadata": {},
   "source": [
    "\\begin{equation*}\n",
    "\\begin{aligned}\n",
    "    d_{11} &= \\sqrt{(q_1 - p_1)^2 + (q_2 - p_2)^2}  & d_{21} &= \\sqrt{(q_1 - p_1)^2 + (q_2 - p_2)^2} \\\\\n",
    "    d_{11} &= \\sqrt{(1 - 2.67)^2 + (1 - 1.33)^2}    & d_{21} &= \\sqrt{(1 - 3.33)^2 + (1 - 3.33)^2}\\\\\n",
    "    d_{11} &= 1.702                                  & d_{21} &= 3.295    \n",
    "\\end{aligned}\n",
    "\\end{equation*}\n",
    "\n",
    "\\begin{equation*}\n",
    "\\begin{aligned}\n",
    "    d_{12} &= \\sqrt{(q_1 - p_1)^2 + (q_2 - p_2)^2}  & d_{22} &= \\sqrt{(q_1 - p_1)^2 + (q_2 - p_2)^2} \\\\\n",
    "    d_{12} &= \\sqrt{(2 - 2.67)^2 + (1 - 1.33)^2}    & d_{22} &= \\sqrt{(2 - 3.33)^2 + (1 - 3.33)^2}\\\\\n",
    "    d_{12} &= 0.747                                 & d_{22} &= 2.683   \n",
    "\\end{aligned}\n",
    "\\end{equation*}\n",
    "\n",
    "\\begin{equation*}\n",
    "\\begin{aligned}\n",
    "    d_{13} &= \\sqrt{(q_1 - p_1)^2 + (q_2 - p_2)^2}  & d_{23} &= \\sqrt{(q_1 - p_1)^2 + (q_2 - p_2)^2} \\\\\n",
    "    d_{13} &= \\sqrt{(1 - 2.67)^2 + (3 - 1.33)^2}    & d_{23} &= \\sqrt{(1 - 3.33)^2 + (3 - 3.33)^2}\\\\\n",
    "    d_{13} &= 2.362                                 & d_{23} &= 2.353\n",
    "\\end{aligned}\n",
    "\\end{equation*}\n",
    "\n",
    "\\begin{equation*}\n",
    "\\begin{aligned}\n",
    "    d_{14} &= \\sqrt{(q_1 - p_1)^2 + (q_2 - p_2)^2}  & d_{24} &= \\sqrt{(q_1 - p_1)^2 + (q_2 - p_2)^2} \\\\\n",
    "    d_{14} &= \\sqrt{(5 - 2.67)^2 + (2 - 1.33)^2}    & d_{24} &= \\sqrt{(5 - 3.33)^2 + (2 - 3.33)^2}\\\\\n",
    "    d_{14} &= 2.424                                 & d_{24} &= 2.135\n",
    "\\end{aligned}\n",
    "\\end{equation*}\n",
    "\n",
    "\\begin{equation*}\n",
    "\\begin{aligned}\n",
    "    d_{15} &= \\sqrt{(q_1 - p_1)^2 + (q_2 - p_2)^2}  & d_{25} &= \\sqrt{(q_1 - p_1)^2 + (q_2 - p_2)^2} \\\\\n",
    "    d_{15} &= \\sqrt{(4 - 2.67)^2 + (3 - 1.33)^2}    & d_{25} &= \\sqrt{(4 - 3.33)^2 + (3 - 3.33)^2}\\\\\n",
    "    d_{15} &= 2.135                                 & d_{25} &= 0.747 \n",
    "\\end{aligned}\n",
    "\\end{equation*}\n",
    "\n",
    "\\begin{equation*}\n",
    "\\begin{aligned}\n",
    "    d_{15} &= \\sqrt{(q_1 - p_1)^2 + (q_2 - p_2)^2}  & d_{25} &= \\sqrt{(q_1 - p_1)^2 + (q_2 - p_2)^2} \\\\\n",
    "    d_{15} &= \\sqrt{(5 - 2.67)^2 + (4 - 1.33)^2}    & d_{25} &= \\sqrt{(5 - 3.33)^2 + (4 - 3.33)^2}\\\\\n",
    "    d_{15} &= 3.544                                 & d_{25} &= 1.799   \n",
    "\\end{aligned}\n",
    "\\end{equation*}"
   ]
  },
  {
   "cell_type": "markdown",
   "metadata": {},
   "source": [
    "\\begin{equation*}\n",
    "\\begin{aligned}    \n",
    "    \\mathbf{D_0} = \n",
    "    \\begin{bmatrix}\n",
    "        1.702 & 0.747 & 2.362 & 2.424 & 2.135 & 3.544   \\\\\n",
    "        3.295 & 2.683 & 2.353 & 2.135 & 0.747 & 1.799   \\\\\n",
    "    \\end{bmatrix}\n",
    "    \\longrightarrow\n",
    "    \\mathbf{G_0} = \n",
    "    \\begin{bmatrix}\n",
    "        1 & 1 & 0 & 0 & 0 & 0   \\\\\n",
    "        0 & 0 & 1 & 1 & 1 & 1   \\\\\n",
    "    \\end{bmatrix}    \n",
    "\\end{aligned}\n",
    "\\end{equation*}"
   ]
  },
  {
   "cell_type": "code",
   "execution_count": 36,
   "metadata": {},
   "outputs": [
    {
     "data": {
      "text/plain": [
       "array([1.702, 3.295, 0.747, 2.683, 2.362, 2.353, 2.424, 2.135, 2.135,\n",
       "       0.747, 3.544, 1.799])"
      ]
     },
     "execution_count": 36,
     "metadata": {},
     "output_type": "execute_result"
    }
   ],
   "source": [
    "X = [[1, 1], [2, 1], [1, 3], [5, 2], [4, 3], [5, 4]]\n",
    "centroid2 = [[2.67, 1.33], [3.33, 3.33]]\n",
    "np.round(distance_formula(X, centroid2), 3)"
   ]
  },
  {
   "cell_type": "code",
   "execution_count": 31,
   "metadata": {},
   "outputs": [
    {
     "name": "stdout",
     "output_type": "stream",
     "text": [
      "New Center: \n",
      " [[2.67 1.33]\n",
      " [3.33 3.33]]\n",
      "New Center: \n",
      " [[1.33 1.67]\n",
      " [4.67 3.  ]]\n",
      "New Center: \n",
      " [[1.33 1.67]\n",
      " [4.67 3.  ]]\n",
      "Done in 2 iterations\n",
      "Fit and predict time: 0.11229968070983887\n"
     ]
    },
    {
     "data": {
      "image/png": "[encoded data removed]",
      "text/plain": [
       "<Figure size 360x144 with 1 Axes>"
      ]
     },
     "metadata": {
      "needs_background": "light"
     },
     "output_type": "display_data"
    },
    {
     "data": {
      "image/png": "[encoded data removed]",
      "text/plain": [
       "<Figure size 360x144 with 1 Axes>"
      ]
     },
     "metadata": {
      "needs_background": "light"
     },
     "output_type": "display_data"
    },
    {
     "data": {
      "image/png": "[encoded data removed]",
      "text/plain": [
       "<Figure size 360x144 with 1 Axes>"
      ]
     },
     "metadata": {
      "needs_background": "light"
     },
     "output_type": "display_data"
    }
   ],
   "source": [
    "\n",
    "\n",
    "X = [[1, 1], [2, 1], [1, 3], [5, 2], [4, 3], [5, 4]]\n",
    "centroids = [[1, 1], [1, 3]]\n",
    "centroid2 = [[2.67, 1.33], [3.33, 3.33]]\n",
    "\n",
    "def distance_formula(data, centroids):\n",
    "    distance = []\n",
    "    for value in data:\n",
    "        for center in centroids:\n",
    "            dis = np.sqrt((value[0] - center[0])**2 + (value[1] - center[1])**2)\n",
    "            distance.append(dis)\n",
    "    return distance\n",
    "\n",
    "def kmeans(X, initial_centers, n_clusters = 2):\n",
    "    m, n = X.shape\n",
    "    centers = initial_centers\n",
    "    iteration = 0\n",
    "    while True:\n",
    "        labels = pairwise_distances_argmin(X, centers)\n",
    "        new_centers = []\n",
    "        for i in range(n_clusters):\n",
    "            new_centers.append(X[labels == i].mean(axis=0))\n",
    "        new_centers = np.array(new_centers)\n",
    "        print(f'New Center: \\n {np.round(new_centers, 2)}')\n",
    "\n",
    "        pred = pairwise_distances_argmin(X, new_centers)\n",
    "        \n",
    "        plt.figure(figsize=(5, 2))\n",
    "        plt.title(f\"Iteration: {iteration}\")\n",
    "        plt.scatter(X[:, 0], X[:, 1], c=pred)\n",
    "        plt.scatter(new_centers[:, 0], new_centers[:, 1], s=100, c = \"black\", alpha=0.6)\n",
    "\n",
    "        if(np.allclose(centers, new_centers)):\n",
    "            break\n",
    "        else:\n",
    "            centers = new_centers\n",
    "            iteration+=1\n",
    "    print(f\"Done in {iteration} iterations\")\n",
    "    return centers\n",
    "        \n",
    "def predict(X, centers):\n",
    "    return pairwise_distances_argmin(X, centers)\n",
    "\n",
    "X = np.array([[1, 1], [2, 1], [1, 3], [5, 2], [4, 3], [5, 4]])\n",
    "initial_centers = [[1, 1], [1, 3]]\n",
    "start = time()\n",
    "preds = predict(X, kmeans(X, initial_centers))\n",
    "print(f\"Fit and predict time: {time() - start}\")"
   ]
  }
 ],
 "metadata": {
  "kernelspec": {
   "display_name": "Python 3.8.5 ('base')",
   "language": "python",
   "name": "python3"
  },
  "language_info": {
   "codemirror_mode": {
    "name": "ipython",
    "version": 3
   },
   "file_extension": ".py",
   "mimetype": "text/x-python",
   "name": "python",
   "nbconvert_exporter": "python",
   "pygments_lexer": "ipython3",
   "version": "3.8.5"
  },
  "orig_nbformat": 4,
  "vscode": {
   "interpreter": {
    "hash": "3608206ce1eb198bd23abae205dd191f991de1c92dbe872a18ef9e948d8a869d"
   }
  }
 },
 "nbformat": 4,
 "nbformat_minor": 2
}
